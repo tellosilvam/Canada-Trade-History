{
 "cells": [
  {
   "cell_type": "markdown",
   "id": "c8f9c493-70db-4ffc-8c38-6ca2ca3e5994",
   "metadata": {},
   "source": [
    "# **Canadian Foreign Trade History**\n",
    "\n",
    "## Introduction\n",
    "As an International Business graduate with a passion for trade and economic development, I have always been captivated by the complexities of global commerce. This project, which delves into Canada’s trade history, is more than just an analytical exercise—it’s a stepping stone toward my long-term goal of building an export company specializing in fresh fruits and vegetables from Latin America to Canada and the U.S.\n",
    "\n",
    "Understanding historical trade patterns is key to spotting opportunities and navigating potential challenges in the market. By analyzing decades of import and export data, I aim to uncover insights into Canada’s trade relationships, particularly in the context of Free Trade Agreements (FTAs). This exploration not only sharpens my ability to interpret economic trends but also strengthens my strategic planning skills, equipping me and anyone with access to this insights, to make well-informed business decisions in the future.\n",
    "\n",
    "Beyond personal aspirations, this project highlights the broader impact of international trade. Strengthening trade between Canada and the world has tangible benefits: it drives economic growth, creates job opportunities, and supports local farmers by providing them with access to new markets. Moreover, increasing the flow of high-quality agricultural products ensures a steady supply of fresh, nutritious food to meet growing consumer demand in Canada and the U.S, whose recent \"Trade War\" is affecting us.\n",
    "\n",
    "At its core, trade is about connection—linking producers with consumers, businesses with opportunities, and economies with growth. By diving deep into the data, this project not only brings me closer to my entrepreneurial vision but also reinforces the fundamental role of international trade in fostering sustainable economic development.\n",
    "## Project Outline\n",
    "### Part 1. **[Data Scrubbing](#data-scrubbing)**\n",
    "#### &emsp;1.1 **[FTAs Monthly Database](#db1)**\n",
    "#### &emsp;1.2 **[Country Yearly Database](#db2)**\n",
    "### Part 2. **[Interpretation](#interpretation)**\n",
    "#### &emsp;2.1 **[Distribution of Free Trade Agreements](#d1)**\n",
    "#### &emsp;2.2 **[Distribution of Countries](#d2)**\n",
    "#### &emsp;2.3 **[Distribution of Categories](#d4)**\n",
    "#### &emsp;2.4 **[Heatmap of Top 10 Product Descriptions](#h5)**\n",
    "### Part 3. **[Modelling](#modelling)**\n",
    "#### &emsp;3.1 **[Clustering / Segmentation: Countries](#m1)**\n",
    "#### &emsp;3.2 **[Clustering / Segmentation: FTAs](#m2)**\n",
    "#### &emsp;3.3 **[SARIMA Forecast for Exports](#m3)**\n",
    "### 4. **[Tableau Dashboard](https://public.tableau.com/views/TableauProject_17241256666710/Dashboard1?:language=es-ES&:sid=&:redirect=auth&:display_count=n&:origin=viz_share_link)**\n",
    "\n",
    "## Bibliography\n",
    "- **Python Libraries Used:**\n",
    "   - `pandas`: A powerful data manipulation and analysis library that provides data structures like DataFrames for handling structured data.\n",
    "   - `numpy`: A fundamental package for numerical computing in Python, providing support for arrays, matrices, and a wide range of mathematical functions.\n",
    "   - `plotly`: An interactive graphing library that makes it easy to create interactive plots, dashboards, and visualizations.\n",
    "   - `scikit-learn`: A machine learning library that provides simple and efficient tools for data mining, data analysis, and machine learning tasks.\n",
    "   - `matplotlib`: A comprehensive library for creating static, animated, and interactive visualizations in Python.\n",
    "   - `seaborn`: A statistical data visualization library based on matplotlib, providing a high-level interface for drawing attractive and informative statistical graphics.\n",
    "   - `statsmodels`: A library for estimating and testing statistical models, performing statistical tests, and conducting data exploration.\n",
    "- **References:**\n",
    "  - [FTAs Monthly Database](https://www150.statcan.gc.ca/t1/tbl1/en/tv.action?pid=1210017401): Statistics Canada. Table 12-10-0174-01 Merchandise imports and exports, customs-based, by free trade agreement and by commodity (x 1,000).\n",
    "  - [Country Yearly Database](https://www150.statcan.gc.ca/t1/tbl1/en/tv.action?pid=1210017101): Statistics Canada. Table 12-10-0171-01 Canadian international merchandise trade by country and by product section, customs-based, annual (x 1,000).\n",
    "\n",
    "Feel free to navigate through the sections, and learn about the analysis!"
   ]
  },
  {
   "cell_type": "markdown",
   "id": "8dfa9df6-9e89-4d39-a091-8f2f82557618",
   "metadata": {},
   "source": [
    "---\n",
    "\n",
    "<a id=\"data-scrubbing\"></a>\n",
    "## **1. Data Scrubbing**"
   ]
  },
  {
   "cell_type": "markdown",
   "id": "1cdc5ecc-ffdc-4d08-8c72-10f4105f739b",
   "metadata": {},
   "source": [
    "### Importing Libraries"
   ]
  },
  {
   "cell_type": "code",
   "execution_count": null,
   "id": "b483b1f5-e3eb-4e66-a54a-14d72e0db81a",
   "metadata": {},
   "outputs": [],
   "source": [
    "import re\n",
    "\n",
    "import numpy as np\n",
    "import pandas as pd\n",
    "import plotly\n",
    "import plotly.express as px\n",
    "import plotly.graph_objects as go\n",
    "from sklearn.preprocessing import StandardScaler\n",
    "from sklearn.decomposition import PCA\n",
    "from sklearn.cluster import KMeans\n",
    "import matplotlib.pyplot as plt\n",
    "import seaborn as sns\n",
    "from statsmodels.tsa.seasonal import seasonal_decompose\n",
    "from statsmodels.tsa.statespace.sarimax import SARIMAX\n",
    "\n",
    "print(\"modules are imported\")"
   ]
  },
  {
   "cell_type": "markdown",
   "id": "9def762e",
   "metadata": {},
   "source": [
    "<a id=\"db1\"></a>\n",
    "### **1.1 FTAs Monthly Database**\n",
    "### Reading the database"
   ]
  },
  {
   "cell_type": "code",
   "execution_count": null,
   "id": "44c305b9-ed25-4403-8e3e-5357f5d5d015",
   "metadata": {},
   "outputs": [],
   "source": [
    "df = pd.read_csv(\"db_canada.csv\", on_bad_lines=\"skip\", low_memory=False)\n",
    "df.head()"
   ]
  },
  {
   "cell_type": "code",
   "execution_count": null,
   "id": "3470942c-cddf-45d4-8232-25fe17b90001",
   "metadata": {},
   "outputs": [],
   "source": [
    "df.shape"
   ]
  },
  {
   "cell_type": "markdown",
   "id": "1169ae6d-974e-4aa7-888c-243bcd63804b",
   "metadata": {},
   "source": [
    "### Analyzing the columns"
   ]
  },
  {
   "cell_type": "code",
   "execution_count": null,
   "id": "3cfdccf2-6b6a-43ef-93b2-28b40f21ee6e",
   "metadata": {},
   "outputs": [],
   "source": [
    "cols = list(df.columns)\n",
    "print(cols)"
   ]
  },
  {
   "cell_type": "code",
   "execution_count": null,
   "id": "c6bddbf1-a1d4-41b9-a2e1-6823653f8391",
   "metadata": {},
   "outputs": [],
   "source": [
    "# Define a list of columns that are not necessary for our analysis\n",
    "useless_columns = [\n",
    "    \"GEO\",\n",
    "    \"DGUID\",\n",
    "    \"UOM\",\n",
    "    \"UOM_ID\",\n",
    "    \"SCALAR_FACTOR\",\n",
    "    \"SCALAR_ID\",\n",
    "    \"VECTOR\",\n",
    "    \"STATUS\",\n",
    "    \"SYMBOL\",\n",
    "    \"TERMINATED\",\n",
    "    \"DECIMALS\",\n",
    "]\n",
    "\n",
    "# Drop the columns listed in 'useless_columns' from the DataFrame\n",
    "# This step helps to reduce the dataset to only the relevant\n",
    "df_clean = df.drop(useless_columns, axis=1)"
   ]
  },
  {
   "cell_type": "code",
   "execution_count": null,
   "id": "fc4d48ad-9e66-4fb3-be61-36fdf2cf4405",
   "metadata": {},
   "outputs": [],
   "source": [
    "df_clean.rename(\n",
    "    columns={\n",
    "        \"REF_DATE\": \"Date\",\n",
    "        \"North American Product Classification System (NAPCS)\": \"Product\",\n",
    "        \"COORDINATE\": \"Coordinate\",\n",
    "        \"VALUE\": \"Value\",\n",
    "    },\n",
    "    inplace=True,\n",
    ")\n",
    "df_clean.head()"
   ]
  },
  {
   "cell_type": "markdown",
   "id": "a1cafe8c-8e8d-4763-9056-a2619c2efc92",
   "metadata": {},
   "source": [
    "### Removing the duplicates"
   ]
  },
  {
   "cell_type": "code",
   "execution_count": null,
   "id": "be8c006e-1f88-4903-91b7-5df14956a976",
   "metadata": {
    "scrolled": true
   },
   "outputs": [],
   "source": [
    "# Identyfing the different categories under 'Products'\n",
    "df_clean[\"Product\"].unique()"
   ]
  },
  {
   "cell_type": "code",
   "execution_count": null,
   "id": "272b8d3c",
   "metadata": {
    "scrolled": true
   },
   "outputs": [],
   "source": [
    "# Filter the data to include only the specified products and FTA as 'Total of all countries'\n",
    "filtered_data = df_clean[\n",
    "    df_clean[\"Product\"].isin(\n",
    "        [\n",
    "            \"Passenger cars and light trucks [C191]\",\n",
    "            \"Passenger cars and light trucks [411]\",\n",
    "        ]\n",
    "    )\n",
    "    & (df_clean[\"Free Trade Agreement\"] == \"Total of all countries\")\n",
    "]\n",
    "\n",
    "# Display the first few rows of the filtered data\n",
    "filtered_data.head(10)"
   ]
  },
  {
   "cell_type": "code",
   "execution_count": null,
   "id": "4ea9e2fc-bc09-47de-8e92-e1ac77e2edc9",
   "metadata": {},
   "outputs": [],
   "source": [
    "# Remove the codes from the Product names (text inside brackets)\n",
    "df_clean[\"Description\"] = df_clean[\"Product\"].apply(\n",
    "    lambda x: re.sub(r\"\\[.*?\\]\", \"\", x).strip()\n",
    ")\n",
    "\n",
    "# Drop the 'Product' column\n",
    "df_clean = df_clean.drop(columns=[\"Product\"])\n",
    "df_clean.head()"
   ]
  },
  {
   "cell_type": "code",
   "execution_count": null,
   "id": "5fef1f8a-0ce5-4a53-9ced-f24543b8d51b",
   "metadata": {
    "scrolled": true
   },
   "outputs": [],
   "source": [
    "# Remove duplicate rows without aggregation\n",
    "df_clean = df_clean.drop_duplicates(\n",
    "    subset=[\"Date\", \"Description\", \"Value\", \"Free Trade Agreement\", \"Trade\"]\n",
    ")\n",
    "\n",
    "# Filter the data to include only the specified products and FTA as 'Total of all countries'\n",
    "filtered_data = df_clean[\n",
    "    df_clean[\"Description\"].isin([\"Passenger cars and light trucks\"])\n",
    "    & (df_clean[\"Free Trade Agreement\"] == \"Total of all countries\")\n",
    "]\n",
    "\n",
    "# Display the first few rows of the filtered data\n",
    "filtered_data.head(10)"
   ]
  },
  {
   "cell_type": "code",
   "execution_count": null,
   "id": "bb967dcf-8c78-405d-9f69-b34dddb7b334",
   "metadata": {
    "scrolled": true
   },
   "outputs": [],
   "source": [
    "# Group by 'Date', 'Free Trade Agreement', 'Description', and 'Trade' and sum the 'Value' column\n",
    "df_clean = df_clean.groupby(\n",
    "    [\"Date\", \"Free Trade Agreement\", \"Description\", \"Trade\"], as_index=False\n",
    ")[\"Value\"].sum()\n",
    "\n",
    "# Filter the data to include only the specified products and FTA as 'Total of all countries'\n",
    "filtered_data = df_clean[\n",
    "    df_clean[\"Description\"].isin([\"Passenger cars and light trucks\"])\n",
    "    & (df_clean[\"Free Trade Agreement\"] == \"Total of all countries\")\n",
    "]\n",
    "\n",
    "# Display the first few rows of the filtered data\n",
    "filtered_data.head(10)"
   ]
  },
  {
   "cell_type": "markdown",
   "id": "4cfd380e",
   "metadata": {},
   "source": [
    "### Dropping CUSMA duplicates"
   ]
  },
  {
   "cell_type": "code",
   "execution_count": null,
   "id": "12179586",
   "metadata": {
    "scrolled": true
   },
   "outputs": [],
   "source": [
    "# Identyfing the different categories under 'Free Trade Agreement'\n",
    "df_clean[\"Free Trade Agreement\"].unique()"
   ]
  },
  {
   "cell_type": "code",
   "execution_count": null,
   "id": "2c1b415b",
   "metadata": {
    "scrolled": true
   },
   "outputs": [],
   "source": [
    "# Drop 'Canada-United States-Mexico Agreement (CUSMA), in force from 2020/07 to present'\n",
    "df_clean = df_clean[df_clean[\"Free Trade Agreement\"] != 'Canada-United States-Mexico Agreement (CUSMA), in force from 2020/07 to present']\n",
    "\n",
    "# Change 'North American Free Trade Agreement (NAFTA), superseded by CUSMA, in force from 1994/01 to 2020/06' to 'Canada-United States-Mexico Agreement (CUSMA), preceeded by NAFTA'\n",
    "df_clean[\"Free Trade Agreement\"] = df_clean[\"Free Trade Agreement\"].replace(\n",
    "    'North American Free Trade Agreement (NAFTA), superseded by CUSMA, in force from 1994/01 to 2020/06',\n",
    "    'Canada-United States-Mexico Agreement (CUSMA), preceeded by NAFTA'\n",
    ")\n",
    "\n",
    "# Identify the rows with the specified 'Free Trade Agreement' values\n",
    "cusfta_rows = df_clean[df_clean[\"Free Trade Agreement\"] == 'Canada-U.S. Free Trade Agreement (CUSFTA), superseded by NAFTA, in force from 1989/01 to 1993/12']\n",
    "cusma_rows = df_clean[df_clean[\"Free Trade Agreement\"] == 'Canada-United States-Mexico Agreement (CUSMA), preceeded by NAFTA']\n",
    "\n",
    "# Find the common 'Value' between the two sets of rows\n",
    "common_values = cusfta_rows[cusfta_rows[\"Value\"].isin(cusma_rows[\"Value\"])]\n",
    "\n",
    "# Drop the rows with 'Canada-United States-Mexico Agreement (CUSMA), preceeded by NAFTA' that share the same 'Value'\n",
    "df_clean = df_clean[~((df_clean[\"Free Trade Agreement\"] == 'Canada-United States-Mexico Agreement (CUSMA), preceeded by NAFTA') & (df_clean[\"Value\"].isin(common_values[\"Value\"])))]\n",
    "\n",
    "# Display the updated unique values of 'Free Trade Agreement'\n",
    "df_clean[\"Free Trade Agreement\"].unique()\n"
   ]
  },
  {
   "cell_type": "markdown",
   "id": "1d734f41-3e77-4f81-9e0e-ae3fd0be9a7c",
   "metadata": {},
   "source": [
    "### Final touches"
   ]
  },
  {
   "cell_type": "code",
   "execution_count": null,
   "id": "53b6b054",
   "metadata": {},
   "outputs": [],
   "source": [
    "# Drop rows where 'Description' is 'Total of all merchandise' or 'Free Trade Agreement' is 'Total of all countries'\n",
    "df_clean = df_clean[\n",
    "    (df_clean[\"Description\"] != \"Total of all merchandise\") &\n",
    "    (df_clean[\"Free Trade Agreement\"] != \"Total of all countries\")\n",
    "]"
   ]
  },
  {
   "cell_type": "code",
   "execution_count": null,
   "id": "0392d2b9",
   "metadata": {},
   "outputs": [],
   "source": [
    "# Convert 'Value' to thousands\n",
    "df_clean['Value'] = df_clean['Value'] * 1000"
   ]
  },
  {
   "cell_type": "code",
   "execution_count": null,
   "id": "7e531000-05f3-4c48-991f-eb9ca8f03dec",
   "metadata": {},
   "outputs": [],
   "source": [
    "df_clean.isnull().sum()"
   ]
  },
  {
   "cell_type": "code",
   "execution_count": null,
   "id": "7221025b-92d1-4cc7-8110-78e2ea8f19ca",
   "metadata": {},
   "outputs": [],
   "source": [
    "df_clean = df_clean.dropna()\n",
    "df_clean.shape"
   ]
  },
  {
   "cell_type": "code",
   "execution_count": null,
   "id": "cd74983e",
   "metadata": {},
   "outputs": [],
   "source": [
    "df_clean[\"Value\"].describe()"
   ]
  },
  {
   "cell_type": "code",
   "execution_count": null,
   "id": "ad3acaad-ee0c-44b0-ac19-8ef1eb4d3541",
   "metadata": {},
   "outputs": [],
   "source": [
    "df_clean.head()"
   ]
  },
  {
   "cell_type": "markdown",
   "id": "83dcb6ef-9ef9-4de7-a376-b50928845841",
   "metadata": {},
   "source": [
    "### Indexing date plus adding Month and Year columns"
   ]
  },
  {
   "cell_type": "code",
   "execution_count": null,
   "id": "0b304f50-dfec-4662-8a56-3ca96ecb112f",
   "metadata": {},
   "outputs": [],
   "source": [
    "# Convert the 'Date' column to datetime (with the correct format)\n",
    "df_clean[\"Date\"] = pd.to_datetime(df_clean[\"Date\"], format=\"%Y-%m\")\n",
    "\n",
    "# Set the 'Date' column as the index\n",
    "df_clean.set_index(\"Date\", inplace=True)\n",
    "\n",
    "# Extract year and month from 'Date' for easier analysis\n",
    "df_clean[\"Year\"] = df_clean.index.year\n",
    "df_clean[\"Month\"] = df_clean.index.month\n",
    "# Display the updated data\n",
    "df_clean.head()"
   ]
  },
  {
   "cell_type": "markdown",
   "id": "5c38b1ea",
   "metadata": {},
   "source": [
    "### Creating a Category column"
   ]
  },
  {
   "cell_type": "code",
   "execution_count": null,
   "id": "fcd122ec",
   "metadata": {},
   "outputs": [],
   "source": [
    "# Define the mapping dictionary\n",
    "description_to_category = {\n",
    "    \"Agricultural, lawn and garden machinery and equipment\": \"Agriculture\",\n",
    "    \"Aircraft\": \"Transportation\",\n",
    "    \"Aircraft and other transportation equipment and parts\": \"Transportation\",\n",
    "    \"Aircraft engines, aircraft parts and other aerospace equipment\": \"Transportation\",\n",
    "    \"Aircraft, aircraft engines and aircraft parts\": \"Transportation\",\n",
    "    \"Alcoholic beverages\": \"Beverages\",\n",
    "    \"Animal feed\": \"Agriculture\",\n",
    "    \"Appliances\": \"Consumer Goods\",\n",
    "    \"Asphalt (except natural) and asphalt products\": \"Construction\",\n",
    "    \"Basic and industrial chemical, plastic and rubber products\": \"Chemicals\",\n",
    "    \"Basic and semi-finished iron or steel products\": \"Metals\",\n",
    "    \"Basic and semi-finished products of aluminum and aluminum alloys\": \"Metals\",\n",
    "    \"Basic and semi-finished products of non-ferrous metals and non-ferrous metal alloys (except aluminum)\": \"Metals\",\n",
    "    \"Basic chemicals\": \"Chemicals\",\n",
    "    \"Basic chemicals and industrial chemical products\": \"Chemicals\",\n",
    "    \"Boats and other transportation equipment\": \"Transportation\",\n",
    "    \"Building and packaging materials\": \"Construction\",\n",
    "    \"Canola (including rapeseed)\": \"Agriculture\",\n",
    "    \"Carbonated and non-carbonated drinks (including low alcohol fermented drinks), bottled water and ice\": \"Beverages\",\n",
    "    \"Carpets, textile furnishings and other textile products\": \"Textiles\",\n",
    "    \"Cement, lime and gypsum products\": \"Construction\",\n",
    "    \"Cleaning products and toiletries\": \"Consumer Goods\",\n",
    "    \"Cleaning products, appliances, and miscellaneous goods and supplies\": \"Consumer Goods\",\n",
    "    \"Clothing, footwear and accessories\": \"Textiles\",\n",
    "    \"Clothing, footwear and textile products\": \"Textiles\",\n",
    "    \"Coal\": \"Energy\",\n",
    "    \"Coffee and tea\": \"Beverages\",\n",
    "    \"Commercial and service industry machinery and equipment\": \"Machinery\",\n",
    "    \"Communication, and audio and video equipment\": \"Electronics\",\n",
    "    \"Computers and computer peripherals\": \"Electronics\",\n",
    "    \"Consumer goods\": \"Consumer Goods\",\n",
    "    \"Converted paper products (except for packaging)\": \"Paper Products\",\n",
    "    \"Copper ores and concentrates\": \"Metals\",\n",
    "    \"Crude oil and bitumen\": \"Energy\",\n",
    "    \"Crude oil and crude bitumen\": \"Energy\",\n",
    "    \"Dairy products\": \"Food\",\n",
    "    \"Diamonds and other non-metallic minerals (except cut gemstones)\": \"Minerals\",\n",
    "    \"Dyes and pigments, and petrochemicals\": \"Chemicals\",\n",
    "    \"Electrical components\": \"Electronics\",\n",
    "    \"Electricity\": \"Energy\",\n",
    "    \"Electronic and electrical equipment and parts\": \"Electronics\",\n",
    "    \"Electronic and electrical parts\": \"Electronics\",\n",
    "    \"Energy products\": \"Energy\",\n",
    "    \"Fabric, fibre and yarn, and leather and dressed furs\": \"Textiles\",\n",
    "    \"Fabricated metal products\": \"Metals\",\n",
    "    \"Farm and fishing products\": \"Agriculture\",\n",
    "    \"Farm, fishing and intermediate food products\": \"Agriculture\",\n",
    "    \"Fertilizers, pesticides and other chemical products\": \"Chemicals\",\n",
    "    \"Fish, crustaceans, shellfish and other fishery products\": \"Food\",\n",
    "    \"Food, beverage and tobacco products\": \"Food\",\n",
    "    \"Forestry products and building and packaging materials\": \"Construction\",\n",
    "    \"Fresh fruit, nuts and vegetables, and pulse crops\": \"Food\",\n",
    "    \"Frozen, fresh and canned fruit and vegetable juices\": \"Food\",\n",
    "    \"Furniture and fixtures\": \"Furniture\",\n",
    "    \"Heating, cooling and air purification equipment\": \"Machinery\",\n",
    "    \"Industrial machinery, equipment and parts\": \"Machinery\",\n",
    "    \"Intermediate food products\": \"Food\",\n",
    "    \"Intermediate metal products\": \"Metals\",\n",
    "    \"Iron ores and concentrates\": \"Metals\",\n",
    "    \"Live animals\": \"Agriculture\",\n",
    "    \"Logging, construction, mining, and oil and gas field machinery and equipment\": \"Machinery\",\n",
    "    \"Logs, pulpwood and other forestry products\": \"Construction\",\n",
    "    \"Lubricants and other petroleum refinery products\": \"Energy\",\n",
    "    \"Lumber and other sawmill products\": \"Construction\",\n",
    "    \"Meat products\": \"Food\",\n",
    "    \"Medical, measuring, and other electronic and electrical machinery and equipment\": \"Electronics\",\n",
    "    \"Medium and heavy trucks, buses, and other motor vehicles\": \"Transportation\",\n",
    "    \"Metal and non-metallic mineral products\": \"Metals\",\n",
    "    \"Metal building and construction materials\": \"Construction\",\n",
    "    \"Metal ores and concentrates\": \"Metals\",\n",
    "    \"Metal ores and non-metallic minerals\": \"Metals\",\n",
    "    \"Metalworking machinery\": \"Machinery\",\n",
    "    \"Miscellaneous goods and supplies\": \"Miscellaneous\",\n",
    "    \"Motor vehicle engines and motor vehicle parts\": \"Transportation\",\n",
    "    \"Motor vehicles and parts\": \"Transportation\",\n",
    "    \"Natural gas\": \"Energy\",\n",
    "    \"Natural gas liquids (including condensate) and related products\": \"Energy\",\n",
    "    \"Natural gas, natural gas liquids and related products\": \"Energy\",\n",
    "    \"Nickel ores and concentrates\": \"Metals\",\n",
    "    \"Non-metallic mineral products\": \"Minerals\",\n",
    "    \"Non-metallic minerals\": \"Minerals\",\n",
    "    \"Nuclear fuel and other energy products\": \"Energy\",\n",
    "    \"Other animal products\": \"Agriculture\",\n",
    "    \"Other crop products\": \"Agriculture\",\n",
    "    \"Other electronic and electrical machinery, equipment and parts\": \"Electronics\",\n",
    "    \"Other food products\": \"Food\",\n",
    "    \"Other general-purpose machinery and equipment, not elsewhere classified\": \"Machinery\",\n",
    "    \"Other industry-specific manufacturing machinery, not elsewhere classified\": \"Machinery\",\n",
    "    \"Other metal ores and concentrates\": \"Metals\",\n",
    "    \"Other transportation equipment and parts\": \"Transportation\",\n",
    "    \"Other unwrought non-ferrous metals and non-ferrous metal alloys\": \"Metals\",\n",
    "    \"Packaging materials\": \"Packaging\",\n",
    "    \"Paints, coatings, and adhesive products\": \"Chemicals\",\n",
    "    \"Paper and published products\": \"Paper Products\",\n",
    "    \"Parts of industrial machinery and equipment\": \"Machinery\",\n",
    "    \"Parts of railway rolling stock and of other transportation equipment\": \"Transportation\",\n",
    "    \"Passenger cars and light trucks\": \"Transportation\",\n",
    "    \"Pharmaceutical and medicinal products\": \"Pharmaceuticals\",\n",
    "    \"Plastic and foam building and construction materials\": \"Construction\",\n",
    "    \"Plastic and rubber basic products not for packaging use (except plastic resins)\": \"Plastics\",\n",
    "    \"Plastic and rubber finished products\": \"Plastics\",\n",
    "    \"Plastic and rubber products\": \"Plastics\",\n",
    "    \"Plastic resins\": \"Plastics\",\n",
    "    \"Potash\": \"Minerals\",\n",
    "    \"Prefabricated buildings and components thereof\": \"Construction\",\n",
    "    \"Prepared and packaged seafood products\": \"Food\",\n",
    "    \"Published products and recorded media (except software)\": \"Media\",\n",
    "    \"Pulp and paper\": \"Paper Products\",\n",
    "    \"Radioactive ores and concentrates\": \"Minerals\",\n",
    "    \"Refined petroleum energy products\": \"Energy\",\n",
    "    \"Refined petroleum energy products (including liquid biofuels)\": \"Energy\",\n",
    "    \"Ships, locomotives, railway rolling stock, and rapid transit equipment\": \"Transportation\",\n",
    "    \"Software and software licensing\": \"Software\",\n",
    "    \"Special transactions trade\": \"Miscellaneous\",\n",
    "    \"Stone, sand, gravel, clay, and refractory minerals\": \"Minerals\",\n",
    "    \"Tires\": \"Plastics\",\n",
    "    \"Tires; motor vehicle engines and motor vehicle parts\": \"Transportation\",\n",
    "    \"Tobacco products (including electronic cigarettes)\": \"Tobacco\",\n",
    "    \"Unwrought aluminum and aluminum alloys\": \"Metals\",\n",
    "    \"Unwrought copper and copper alloys\": \"Metals\",\n",
    "    \"Unwrought gold, silver, and platinum group metals, and their alloys\": \"Metals\",\n",
    "    \"Unwrought iron, steel and ferro-alloys\": \"Metals\",\n",
    "    \"Unwrought nickel and nickel alloys\": \"Metals\",\n",
    "    \"Waste and scrap of glass\": \"Recycling\",\n",
    "    \"Waste and scrap of metal\": \"Recycling\",\n",
    "    \"Waste and scrap of metal and glass\": \"Recycling\",\n",
    "    \"Waste and scrap of plastic and rubber\": \"Recycling\",\n",
    "    \"Waste and scrap of wood, wood by-products, paper and paperboard\": \"Recycling\",\n",
    "    \"Wheat\": \"Agriculture\",\n",
    "    \"Wood millwork, and wood products not elsewhere classified\": \"Wood Products\",\n",
    "}\n",
    "\n",
    "# Map the descriptions to categories\n",
    "df_clean[\"Category\"] = df_clean[\"Description\"].map(description_to_category)\n",
    "\n",
    "# Drop rows with missing categories\n",
    "df_clean = df_clean.dropna(subset=[\"Category\"])\n",
    "\n",
    "df_clean.head()"
   ]
  },
  {
   "cell_type": "markdown",
   "id": "fa7c272b",
   "metadata": {},
   "source": [
    "### Creating a Country(ies) column\n",
    "> This column's purpose is to create a Map graph in Tableau. It will help visualize the trade data geographically by associating each trade agreement with the respective countries involved. This data will be supported by another database from StatsCAN."
   ]
  },
  {
   "cell_type": "code",
   "execution_count": null,
   "id": "6b4a1fae",
   "metadata": {},
   "outputs": [],
   "source": [
    "# Define the mapping dictionary for Free Trade Agreements to countries\n",
    "fta_to_countries = {\n",
    "    \"Canada-ASEAN Free Trade Agreement, discussions\": \"Brunei, Cambodia, Indonesia, Laos, Malaysia, Myanmar, Philippines, Singapore, Thailand, Vietnam\",\n",
    "    \"Canada-Caribbean Community Trade Agreement, negotiations\": \"Antigua and Barbuda, Bahamas, Barbados, Belize, Dominica, Grenada, Guyana, Haiti, Jamaica, Montserrat, Saint Kitts and Nevis, Saint Lucia, Saint Vincent and the Grenadines, Suriname, Trinidad and Tobago\",\n",
    "    \"Canada-Chile Free Trade Agreement, in force from 1997/07 to present\": \"Chile\",\n",
    "    \"Canada-China Free Trade Agreement, discussions\": \"China\",\n",
    "    \"Canada-Colombia Free Trade Agreement, in force from 2011/08 to present\": \"Colombia\",\n",
    "    \"Canada-Costa Rica Free Trade Agreement, in force from 2002/11 to present\": \"Costa Rica\",\n",
    "    \"Canada-Dominican Republic Free Trade Agreement, negotiations\": \"Dominican Republic\",\n",
    "    \"Canada-European Free Trade Association (EFTA) Free Trade Agreement, in force from 2009/07 to present\": \"Iceland, Liechtenstein, Norway, Switzerland\",\n",
    "    \"Canada-European Union: Comprehensive Economic and Trade Agreement (CETA), in force from 2017/09 to present\": \"Austria, Belgium, Bulgaria, Croatia, Cyprus, Czech Republic, Denmark, Estonia, Finland, France, Germany, Greece, Hungary, Ireland, Italy, Latvia, Lithuania, Luxembourg, Malta, Netherlands, Poland, Portugal, Romania, Slovakia, Slovenia, Spain, Sweden\",\n",
    "    \"Canada-Guatemala, Nicaragua and El Salvador Free Trade Agreement, negotiations\": \"Guatemala, Nicaragua, El Salvador\",\n",
    "    \"Canada-Honduras Free Trade Agreement, in force from 2014/10 to present\": \"Honduras\",\n",
    "    \"Canada-India Comprehensive Economic Partnership Agreement, negotiations\": \"India\",\n",
    "    \"Canada-Indonesia Comprehensive Economic Partnership Agreement, negotiations\": \"Indonesia\",\n",
    "    \"Canada-Israel Free Trade Agreement (CIFTA), in force from 1997/01 to present\": \"Israel\",\n",
    "    \"Canada-Japan Economic Partnership Agreement, negotiations\": \"Japan\",\n",
    "    \"Canada-Jordan Free Trade Agreement, in force from 2012/10 to present\": \"Jordan\",\n",
    "    \"Canada-Korea Free Trade Agreement (CKFTA), in force from 2015/01 to present\": \"South Korea\",\n",
    "    \"Canada-Mercosur Free Trade Agreement, negotiations\": \"Argentina, Brazil, Paraguay, Uruguay\",\n",
    "    \"Canada-Morocco Free Trade Agreement, negotiations\": \"Morocco\",\n",
    "    \"Canada-Pacific Alliance Free Trade Agreement, negotiations\": \"Chile, Colombia, Mexico, Peru\",\n",
    "    \"Canada-Panama Free Trade Agreement, in force from 2013/04 to present\": \"Panama\",\n",
    "    \"Canada-Peru Free Trade Agreement, in force from 2009/08 to present\": \"Peru\",\n",
    "    \"Canada-Philippines Free Trade Agreement, discussions\": \"Philippines\",\n",
    "    \"Canada-Singapore Free Trade Agreement, negotiations\": \"Singapore\",\n",
    "    \"Canada-Thailand Free Trade Agreement, discussions\": \"Thailand\",\n",
    "    \"Canada-Türkiye Free Trade Agreement, discussions\": \"Turkey\",\n",
    "    \"Canada-U.S. Free Trade Agreement (CUSFTA), superseded by NAFTA, in force from 1989/01 to 1993/12\": \"United States\",\n",
    "    \"Canada-Ukraine Free Trade Agreement (CUFTA), in force from 2017/08 to present\": \"Ukraine\",\n",
    "    \"Canada-United Kingdom Trade Continuity Agreement, signed\": \"United Kingdom\",\n",
    "    \"Comprehensive and Progressive Agreement for Trans-Pacific Partnership (CPTPP), in force from 2019/01 to present\": \"Australia, Brunei, Chile, Japan, Malaysia, Mexico, New Zealand, Peru, Singapore, Vietnam\",\n",
    "    \"Canada-United States-Mexico Agreement (CUSMA), preceeded by NAFTA\": \"Mexico, United States\",\n",
    "    \"Trans-Pacific Partnership (TPP), signed\": \"Australia, Brunei, Chile, Japan, Malaysia, Mexico, New Zealand, Peru, Singapore, Vietnam\",\n",
    "}\n",
    "\n",
    "# Map the Free Trade Agreements to countries\n",
    "df_clean[\"Country\"] = df_clean[\"Free Trade Agreement\"].map(fta_to_countries)\n",
    "\n",
    "# Fill missing values with a default value, e.g., 'Unknown'\n",
    "df_clean[\"Country\"] = df_clean[\"Country\"].fillna(\"Unknown\")\n",
    "\n",
    "df_clean.head()"
   ]
  },
  {
   "cell_type": "markdown",
   "id": "d93e0bc0",
   "metadata": {},
   "source": [
    "### Saving the cleaned dataset as a .csv"
   ]
  },
  {
   "cell_type": "code",
   "execution_count": null,
   "id": "c9426851",
   "metadata": {},
   "outputs": [],
   "source": [
    "# Reset the index to ensure the 'Date' column is included in the CSV\n",
    "df_clean_reset = df_clean.reset_index()\n",
    "\n",
    "# Save the cleaned DataFrame to a CSV file\n",
    "df_clean_reset.to_csv(\"cleaned_trade_canada.csv\", index=False)"
   ]
  },
  {
   "cell_type": "markdown",
   "id": "653a590e",
   "metadata": {},
   "source": [
    "<a id=\"db2\"></a>\n",
    "### **1.2 Yearly Country Database**\n",
    "### Reading the database"
   ]
  },
  {
   "cell_type": "code",
   "execution_count": null,
   "id": "d359c855",
   "metadata": {},
   "outputs": [],
   "source": [
    "dfc= pd.read_csv(\"db_country.csv\", on_bad_lines=\"skip\", low_memory=False)\n",
    "dfc.head()"
   ]
  },
  {
   "cell_type": "code",
   "execution_count": null,
   "id": "6c107501",
   "metadata": {},
   "outputs": [],
   "source": [
    "dfc.shape"
   ]
  },
  {
   "cell_type": "markdown",
   "id": "26f40e8a",
   "metadata": {},
   "source": [
    "### Analyzing the columns"
   ]
  },
  {
   "cell_type": "code",
   "execution_count": null,
   "id": "f0169755",
   "metadata": {},
   "outputs": [],
   "source": [
    "cols = list(dfc.columns)\n",
    "print(cols)"
   ]
  },
  {
   "cell_type": "code",
   "execution_count": null,
   "id": "8b490083",
   "metadata": {},
   "outputs": [],
   "source": [
    "# Define a list of columns that are not necessary for our analysis\n",
    "# These columns include player metadata, IDs, URLs, and other non-essential details\n",
    "useless_columns = [\n",
    "    \"GEO\",\n",
    "    \"DGUID\",\n",
    "    \"UOM\",\n",
    "    \"UOM_ID\",\n",
    "    \"SCALAR_FACTOR\",\n",
    "    \"SCALAR_ID\",\n",
    "    \"VECTOR\",\n",
    "    \"COORDINATE\",\n",
    "    \"STATUS\",\n",
    "    \"SYMBOL\",\n",
    "    \"TERMINATED\",\n",
    "    \"DECIMALS\",\n",
    "]\n",
    "\n",
    "# Drop the columns listed in 'useless_columns' from the DataFrame\n",
    "# This step helps to reduce the dataset to only the relevant\n",
    "dfc_clean = dfc.drop(useless_columns, axis=1)"
   ]
  },
  {
   "cell_type": "code",
   "execution_count": null,
   "id": "79e87a69",
   "metadata": {},
   "outputs": [],
   "source": [
    "dfc_clean.rename(\n",
    "    columns={\n",
    "        \"REF_DATE\": \"Date\",\n",
    "        \"Trading partner\": \"Country\",\n",
    "        \"North American Product Classification System (NAPCS)\": \"Product\",\n",
    "        \"VALUE\": \"Value\",\n",
    "    },\n",
    "    inplace=True,\n",
    ")\n",
    "dfc_clean.head()"
   ]
  },
  {
   "cell_type": "markdown",
   "id": "14aaba64",
   "metadata": {},
   "source": [
    "### Removing the duplicates"
   ]
  },
  {
   "cell_type": "code",
   "execution_count": null,
   "id": "3495b934",
   "metadata": {},
   "outputs": [],
   "source": [
    "# Identyfing the different categories under 'Products'\n",
    "dfc_clean[\"Product\"].unique()"
   ]
  },
  {
   "cell_type": "code",
   "execution_count": null,
   "id": "84e02891",
   "metadata": {},
   "outputs": [],
   "source": [
    "# Remove the codes from the Product names (text inside brackets)\n",
    "dfc_clean[\"Description\"] = dfc_clean[\"Product\"].apply(\n",
    "    lambda x: re.sub(r\"\\[.*?\\]\", \"\", x).strip()\n",
    ")\n",
    "\n",
    "# Drop the 'Product' column\n",
    "dfc_clean = dfc_clean.drop(columns=[\"Product\"])\n",
    "dfc_clean.head()"
   ]
  },
  {
   "cell_type": "code",
   "execution_count": null,
   "id": "8d2870fc",
   "metadata": {
    "scrolled": true
   },
   "outputs": [],
   "source": [
    "# Identyfing the different categories under 'Country'\n",
    "dfc_clean[\"Country\"].unique()"
   ]
  },
  {
   "cell_type": "markdown",
   "id": "0611915e",
   "metadata": {},
   "source": [
    "### Final touches"
   ]
  },
  {
   "cell_type": "code",
   "execution_count": null,
   "id": "67ae2d06",
   "metadata": {},
   "outputs": [],
   "source": [
    "# Drop rows where 'Country' is 'All countries' or 'Description' is 'All sections'\n",
    "dfc_clean = dfc_clean[\n",
    "    (dfc_clean[\"Country\"] != \"All countries\") &\n",
    "    (dfc_clean[\"Description\"] != \"All sections\")\n",
    "]"
   ]
  },
  {
   "cell_type": "code",
   "execution_count": null,
   "id": "dec4504a",
   "metadata": {},
   "outputs": [],
   "source": [
    "# Convert 'Value' to thousands\n",
    "dfc_clean['Value'] = dfc_clean['Value'] * 1000"
   ]
  },
  {
   "cell_type": "code",
   "execution_count": null,
   "id": "9d01a908",
   "metadata": {},
   "outputs": [],
   "source": [
    "dfc_clean.isnull().sum()"
   ]
  },
  {
   "cell_type": "code",
   "execution_count": null,
   "id": "7afe446f",
   "metadata": {},
   "outputs": [],
   "source": [
    "dfc_clean = dfc_clean.dropna()\n",
    "dfc_clean.shape"
   ]
  },
  {
   "cell_type": "code",
   "execution_count": null,
   "id": "c142d726",
   "metadata": {},
   "outputs": [],
   "source": [
    "dfc_clean[\"Value\"].describe()"
   ]
  },
  {
   "cell_type": "code",
   "execution_count": null,
   "id": "f1979814",
   "metadata": {},
   "outputs": [],
   "source": [
    "dfc_clean.head()"
   ]
  },
  {
   "cell_type": "markdown",
   "id": "01248d0b",
   "metadata": {},
   "source": [
    "### Indexing date plus adding Year column"
   ]
  },
  {
   "cell_type": "code",
   "execution_count": null,
   "id": "ccf382ba",
   "metadata": {},
   "outputs": [],
   "source": [
    "# Convert the 'Date' column to datetime (with the correct format)\n",
    "dfc_clean[\"Date\"] = pd.to_datetime(dfc_clean[\"Date\"], format=\"%Y\")\n",
    "\n",
    "# Set the 'Date' column as the index\n",
    "dfc_clean.set_index(\"Date\", inplace=True)\n",
    "\n",
    "# Extract year from 'Date' for easier analysis\n",
    "dfc_clean[\"Year\"] = dfc_clean.index.year"
   ]
  },
  {
   "cell_type": "markdown",
   "id": "9914ba91",
   "metadata": {},
   "source": [
    "### Creating a Category column"
   ]
  },
  {
   "cell_type": "code",
   "execution_count": null,
   "id": "8b751f1a",
   "metadata": {},
   "outputs": [],
   "source": [
    "# Define the mapping dictionary\n",
    "description_to_category_c = {\n",
    "    \"Aircraft and other transportation equipment and parts\": \"Transportation\",\n",
    "    \"Basic and industrial chemical, plastic and rubber products\": \"Chemicals\",\n",
    "    \"Consumer goods\": \"Consumer Goods\",\n",
    "    \"Electronic and electrical equipment and parts\": \"Electronics\",\n",
    "    \"Energy products\": \"Energy\",\n",
    "    \"Farm, fishing and intermediate food products\": \"Agriculture\",\n",
    "    \"Forestry products and building and packaging materials\": \"Construction\",\n",
    "    \"Industrial machinery, equipment and parts\": \"Machinery\",\n",
    "    \"Metal and non-metallic mineral products\": \"Metals\",\n",
    "    \"Metal ores and non-metallic minerals\": \"Metals\",\n",
    "    \"Motor vehicles and parts\": \"Transportation\",\n",
    "    \"Special transactions trade\": \"Miscellaneous\",\n",
    "}\n",
    "\n",
    "# Map the descriptions to categories\n",
    "dfc_clean[\"Category\"] = dfc_clean[\"Description\"].map(description_to_category_c)\n",
    "\n",
    "# Drop rows with missing categories\n",
    "dfc_clean = dfc_clean.dropna(subset=[\"Category\"])\n",
    "\n",
    "dfc_clean.head()"
   ]
  },
  {
   "cell_type": "markdown",
   "id": "88147fb6",
   "metadata": {},
   "source": [
    "### Saving the cleaned dataset as a .csv"
   ]
  },
  {
   "cell_type": "code",
   "execution_count": null,
   "id": "2c545368",
   "metadata": {},
   "outputs": [],
   "source": [
    "# Reset the index to ensure the 'Date' column is included in the CSV\n",
    "dfc_clean_reset = dfc_clean.reset_index()\n",
    "\n",
    "# Save the cleaned DataFrame to a CSV file\n",
    "dfc_clean_reset.to_csv(\"cleaned_country.csv\", index=False)"
   ]
  },
  {
   "cell_type": "markdown",
   "id": "9b3c7b71-aa34-4af5-b68e-6413d9ef86f5",
   "metadata": {},
   "source": [
    "---\n",
    "\n",
    "<a id=\"interpretation\"></a>\n",
    "## **2. Interpretation**"
   ]
  },
  {
   "cell_type": "markdown",
   "id": "6467e6f6",
   "metadata": {},
   "source": [
    "<a id=\"d1\"></a>\n",
    "### 2.1 Distribution of Free Trade Agreements by Yearly Average Value (Last 10 Years)"
   ]
  },
  {
   "cell_type": "code",
   "execution_count": null,
   "id": "6a23302b",
   "metadata": {},
   "outputs": [],
   "source": [
    "# Function to create the treemap based on the selected trade type\n",
    "def create_treemap(trade_type):\n",
    "    # Filter data to include only the last 10 years and exclude \"Total of all countries\"\n",
    "    recent_data = df_clean[\n",
    "        (df_clean[\"Year\"] >= (df_clean[\"Year\"].max() - 10)) &\n",
    "        (df_clean[\"Trade\"] == trade_type)\n",
    "    ]\n",
    "\n",
    "    # Group by 'Free Trade Agreement' and calculate the average 'Value' over the last 10 years\n",
    "    fta_avg_values = recent_data.groupby(\"Free Trade Agreement\", as_index=False)[\"Value\"].mean()\n",
    "\n",
    "    return fta_avg_values\n",
    "\n",
    "# Create data for both Export and Import\n",
    "export_data = create_treemap('Export')\n",
    "import_data = create_treemap('Import')\n",
    "\n",
    "# Create the initial treemap for Export\n",
    "fig = px.treemap(\n",
    "    export_data,\n",
    "    path=[\"Free Trade Agreement\"],\n",
    "    values=\"Value\",\n",
    ")\n",
    "\n",
    "# Update hover template and layout\n",
    "fig.update_traces(\n",
    "    hovertemplate=\"%{label}<br>Yearly Avg Value: $%{value:,.2f}<extra></extra>\"\n",
    ")\n",
    "fig.update_layout(\n",
    "    title={\n",
    "        'text': \"Distribution of Free Trade Agreements<br>by Yearly Average Value (Last 10 Years)\",\n",
    "        'x': 0.5,\n",
    "    },\n",
    "    updatemenus=[\n",
    "        {\n",
    "            \"buttons\": [\n",
    "                {\n",
    "                    \"args\": [{\"values\": [export_data[\"Value\"]], \"labels\": [export_data[\"Free Trade Agreement\"]]}],\n",
    "                    \"label\": \"Export\",\n",
    "                    \"method\": \"update\",\n",
    "                },\n",
    "                {\n",
    "                    \"args\": [{\"values\": [import_data[\"Value\"]], \"labels\": [import_data[\"Free Trade Agreement\"]]}],\n",
    "                    \"label\": \"Import\",\n",
    "                    \"method\": \"update\",\n",
    "                },\n",
    "            ],\n",
    "            \"direction\": \"down\",\n",
    "            \"showactive\": True,\n",
    "        }\n",
    "    ]\n",
    ")\n",
    "\n",
    "fig.show()\n"
   ]
  },
  {
   "cell_type": "markdown",
   "id": "1fd24e91",
   "metadata": {},
   "source": [
    "<a id=\"d2\"></a>\n",
    "### 2.2 Distribution of Countries by Yearly Avg Value (Last 10 Years)"
   ]
  },
  {
   "cell_type": "code",
   "execution_count": null,
   "id": "5a67f452",
   "metadata": {},
   "outputs": [],
   "source": [
    "import plotly.express as px\n",
    "\n",
    "# Function to create the treemap based on the selected trade type\n",
    "def create_treemap_countries(trade_type):\n",
    "    # Filter data to include only the last 10 years\n",
    "    recent_data_countries = dfc_clean[\n",
    "        (dfc_clean[\"Year\"] >= (dfc_clean[\"Year\"].max() - 10)) &\n",
    "        (dfc_clean[\"Trade\"] == trade_type)\n",
    "    ]\n",
    "\n",
    "    # Group by 'Country' and calculate the average 'Value' over the last 10 years\n",
    "    country_avg_values = recent_data_countries.groupby(\"Country\", as_index=False)[\"Value\"].mean()\n",
    "\n",
    "    return country_avg_values\n",
    "\n",
    "# Create data for both Export and Import\n",
    "export_data_countries = create_treemap_countries('Export')\n",
    "import_data_countries = create_treemap_countries('Import')\n",
    "\n",
    "# Create the initial treemap for Export\n",
    "fig_countries = px.treemap(\n",
    "    export_data_countries,\n",
    "    path=[\"Country\"],\n",
    "    values=\"Value\",\n",
    ")\n",
    "\n",
    "# Update hover template and layout\n",
    "fig_countries.update_traces(\n",
    "    hovertemplate=\"%{label}<br>Yearly Avg Value: $%{value:,.2f}<extra></extra>\",\n",
    ")\n",
    "fig_countries.update_layout(\n",
    "    title={\n",
    "        'text': \"Distribution of Countries by Yearly Average Value (Last 10 Years)\",\n",
    "        'x': 0.5,\n",
    "    },\n",
    "    updatemenus=[\n",
    "        {\n",
    "            \"buttons\": [\n",
    "                {\n",
    "                    \"args\": [{\"values\": [export_data_countries[\"Value\"]], \"labels\": [export_data_countries[\"Country\"]]}],\n",
    "                    \"label\": \"Export\",\n",
    "                    \"method\": \"update\",\n",
    "                },\n",
    "                {\n",
    "                    \"args\": [{\"values\": [import_data_countries[\"Value\"]], \"labels\": [import_data_countries[\"Country\"]]}],\n",
    "                    \"label\": \"Import\",\n",
    "                    \"method\": \"update\",\n",
    "                },\n",
    "            ],\n",
    "            \"direction\": \"down\",\n",
    "            \"showactive\": True,\n",
    "        }\n",
    "    ]\n",
    ")\n",
    "\n",
    "fig_countries.show()"
   ]
  },
  {
   "cell_type": "markdown",
   "id": "38fd953b",
   "metadata": {},
   "source": [
    "<a id=\"d4\"></a>\n",
    "### 2.3 Distribution of Categories by Yearly Average Value (Last 10 Years)"
   ]
  },
  {
   "cell_type": "code",
   "execution_count": null,
   "id": "822b0707",
   "metadata": {},
   "outputs": [],
   "source": [
    "# Function to create the treemap based on the selected trade type\n",
    "def create_treemap_category(trade_type):\n",
    "    # Filter data to include only the last 10 years\n",
    "    recent_data_category = df_clean[\n",
    "        (df_clean[\"Year\"] >= (df_clean[\"Year\"].max() - 10)) &\n",
    "        (df_clean[\"Trade\"] == trade_type)\n",
    "    ]\n",
    "\n",
    "    # Group by 'Description' and calculate the average 'Value' over the last 10 years\n",
    "    category_avg_values = recent_data_category.groupby(\"Category\", as_index=False)[\"Value\"].mean()\n",
    "\n",
    "    return category_avg_values\n",
    "\n",
    "# Create data for both Export and Import\n",
    "export_data_category = create_treemap_category('Export')\n",
    "import_data_category = create_treemap_category('Import')\n",
    "\n",
    "# Create the initial treemap for Export\n",
    "fig_category = px.treemap(\n",
    "    export_data_category,\n",
    "    path=[\"Category\"],\n",
    "    values=\"Value\",\n",
    ")\n",
    "\n",
    "# Update hover template and layout\n",
    "fig_category.update_traces(\n",
    "    hovertemplate=\"%{label}<br>Yearly Avg Value: $%{value:,.2f}<extra></extra>\"\n",
    ")\n",
    "fig_category.update_layout(\n",
    "    title={\n",
    "        'text': \"Distribution of Categories by Yearly Average Value (Last 10 Years)\",\n",
    "        'x': 0.5,\n",
    "    },\n",
    "    updatemenus=[\n",
    "        {\n",
    "            \"buttons\": [\n",
    "                {\n",
    "                    \"args\": [{\"values\": [export_data_category[\"Value\"]], \"labels\": [export_data_category[\"Category\"]]}],\n",
    "                    \"label\": \"Export\",\n",
    "                    \"method\": \"update\",\n",
    "                },\n",
    "                {\n",
    "                    \"args\": [{\"values\": [import_data_category[\"Value\"]], \"labels\": [import_data_category[\"Category\"]]}],\n",
    "                    \"label\": \"Import\",\n",
    "                    \"method\": \"update\",\n",
    "                },\n",
    "            ],\n",
    "            \"direction\": \"down\",\n",
    "            \"showactive\": True,\n",
    "        }\n",
    "    ]\n",
    ")\n",
    "\n",
    "fig_category.show()"
   ]
  },
  {
   "cell_type": "markdown",
   "id": "b1a997de",
   "metadata": {},
   "source": [
    "<a id=\"h5\"></a>\n",
    "### 2.4 Heatmap of Top 10 Product Descriptions by Yearly Average Value (Since 2010)"
   ]
  },
  {
   "cell_type": "code",
   "execution_count": null,
   "id": "d9bf0f4c",
   "metadata": {},
   "outputs": [],
   "source": [
    "# Function to update the heatmap based on the selected trade type\n",
    "def update_heatmap(trade_type):\n",
    "    # Filter data to include only the last 10 years and exclude \"Total of all merchandise\"\n",
    "    recent_data_description = dfc_clean[\n",
    "        (dfc_clean[\"Year\"] >= 2010) & (dfc_clean[\"Trade\"] == trade_type)\n",
    "    ]\n",
    "\n",
    "    # Group by 'Description' and 'Year' and calculate the average 'Value'\n",
    "    description_yearly_avg = recent_data_description.groupby(\n",
    "        [\"Description\", \"Year\"], as_index=False\n",
    "    )[\"Value\"].mean()\n",
    "\n",
    "    # Define the top 10 descriptions\n",
    "    top_10_descriptions = description_yearly_avg.groupby(\"Description\")[\"Value\"].mean().nlargest(10).index\n",
    "\n",
    "    # Filter the data to include only the top 10 product descriptions since 2010\n",
    "    top_10_data = description_yearly_avg[\n",
    "        (description_yearly_avg[\"Description\"].isin(top_10_descriptions))\n",
    "    ]\n",
    "\n",
    "    # Create a pivot table for the heatmap\n",
    "    heatmap_data = top_10_data.pivot(index=\"Description\", columns=\"Year\", values=\"Value\")\n",
    "\n",
    "    # Sort the heatmap data by the average value in descending order\n",
    "    heatmap_data_sorted = heatmap_data.loc[\n",
    "        heatmap_data.mean(axis=1).sort_values(ascending=False).index\n",
    "    ]\n",
    "\n",
    "    return heatmap_data_sorted\n",
    "\n",
    "# Create heatmaps for both Export and Import\n",
    "export_heatmap_data = update_heatmap('Export')\n",
    "import_heatmap_data = update_heatmap('Import')\n",
    "\n",
    "fig_heatmap = px.imshow(\n",
    "    export_heatmap_data,\n",
    "    labels=dict(x=\"Year\", y=\"Product Description\", color=\"Average Value\"),\n",
    "    color_continuous_scale=\"Magma_r\",\n",
    ")\n",
    "\n",
    "# Update hover template and layout\n",
    "fig_heatmap.update_traces(\n",
    "    hovertemplate=\"%{x}<br>%{y}<br>Yearly Avg Value: $%{z:,.2f}<extra></extra>\"\n",
    ")\n",
    "fig_heatmap.update_layout(\n",
    "    title=\"Heatmap of Top 10 Product Descriptions by Yearly Average Value (Since 2010)\",\n",
    "    title_x=0.5,\n",
    "    xaxis_title=\"\",\n",
    "    yaxis_title=\"\",\n",
    "    updatemenus=[\n",
    "        {\n",
    "            \"buttons\": [\n",
    "                {\n",
    "                    \"args\": [{\"z\": [export_heatmap_data.values]}],\n",
    "                    \"label\": \"Export\",\n",
    "                    \"method\": \"update\",\n",
    "                },\n",
    "                {\n",
    "                    \"args\": [{\"z\": [import_heatmap_data.values]}],\n",
    "                    \"label\": \"Import\",\n",
    "                    \"method\": \"update\",\n",
    "                },\n",
    "            ],\n",
    "            \"direction\": \"down\",\n",
    "            \"showactive\": True,\n",
    "            \"x\": -1,  # Adjust the x position to move the dropdown more to the left\n",
    "            \"xanchor\": \"left\",\n",
    "            \"y\": 1,  # Adjust the y position to move the dropdown outside the plot area\n",
    "            \"yanchor\": \"top\",\n",
    "        }\n",
    "    ]\n",
    ")\n",
    "\n",
    "fig_heatmap.show()\n"
   ]
  },
  {
   "cell_type": "markdown",
   "id": "e7f19537",
   "metadata": {},
   "source": [
    "<a id=\"modelling\"></a>\n",
    "## **3. Modelling**"
   ]
  },
  {
   "cell_type": "markdown",
   "id": "5790b77d",
   "metadata": {},
   "source": [
    "<a id=\"m1\"></a>\n",
    "### 3.1 Clustering / Segmentation: Countries by Yearly Value"
   ]
  },
  {
   "cell_type": "code",
   "execution_count": null,
   "id": "111dcec6",
   "metadata": {},
   "outputs": [],
   "source": [
    "# Filter for export data\n",
    "df_filtered = dfc_clean[(dfc_clean[\"Trade\"] == \"Export\")]\n",
    "\n",
    "# Split the 'Country' column by comma and explode the DataFrame\n",
    "df_filtered = df_filtered.assign(\n",
    "    Country=df_filtered[\"Country\"].str.split(\", \")\n",
    ").explode(\"Country\")\n",
    "\n",
    "# Calculate linear growth rates for trade values\n",
    "trade_growth = df_filtered.groupby([\"Country\", \"Year\"])[\"Value\"].sum().reset_index()\n",
    "\n",
    "# Calculate the linear growth rate for each country\n",
    "def calculate_growth_rate(group):\n",
    "    if len(group) > 1:\n",
    "        slope, _ = np.polyfit(group[\"Year\"], group[\"Value\"], 1)\n",
    "        return slope\n",
    "    return 0\n",
    "\n",
    "growth_rates = (\n",
    "    trade_growth.groupby(\"Country\", group_keys=False)\n",
    "    .apply(lambda x: pd.Series({\"Growth_Rate\": calculate_growth_rate(x)}))\n",
    "    .reset_index()\n",
    ")\n",
    "\n",
    "# Merge growth rates with the original data\n",
    "features = (\n",
    "    df_filtered.groupby(\"Country\")[\"Value\"].mean().reset_index(name=\"Avg_Trade_Value\")\n",
    ")\n",
    "features = features.merge(growth_rates, on=\"Country\")\n",
    "\n",
    "# Standardize the features\n",
    "scaler = StandardScaler()\n",
    "features_scaled = scaler.fit_transform(features.drop(columns=[\"Country\"]))\n",
    "\n",
    "# Apply PCA for dimensionality reduction (if needed)\n",
    "pca = PCA(n_components=2)  # You can adjust the number of components as needed\n",
    "features_pca = pca.fit_transform(features_scaled)\n",
    "\n",
    "# Inspect the explained variance ratio\n",
    "print(\"Explained variance ratio:\", pca.explained_variance_ratio_)\n",
    "\n",
    "# Determine the optimal number of clusters using the elbow method\n",
    "wcss = [\n",
    "    KMeans(n_clusters=i, random_state=42).fit(features_pca).inertia_\n",
    "    for i in range(1, 11)\n",
    "]\n",
    "\n",
    "# Plot the elbow method\n",
    "plt.figure(figsize=(10, 6))\n",
    "plt.plot(range(1, 11), wcss, marker=\"o\")\n",
    "plt.title(\"Elbow Method\")\n",
    "plt.xlabel(\"Number of clusters\")\n",
    "plt.ylabel(\"WCSS\")\n",
    "plt.show()\n"
   ]
  },
  {
   "cell_type": "markdown",
   "id": "cae4ba18",
   "metadata": {},
   "source": [
    ">This graph shows the ideal number of cluster groups to be used."
   ]
  },
  {
   "cell_type": "code",
   "execution_count": null,
   "id": "3df75504",
   "metadata": {},
   "outputs": [],
   "source": [
    "# Determine the optimal number of clusters using the elbow method\n",
    "optimal_clusters = 3  # Replace with the optimal number of clusters determined from the elbow plot\n",
    "\n",
    "# Apply K-means with the optimal number of clusters\n",
    "kmeans = KMeans(n_clusters=optimal_clusters, random_state=42)\n",
    "features[\"Cluster\"] = kmeans.fit_predict(features_pca)\n",
    "\n",
    "# Label the clusters based on the growth rates\n",
    "cluster_labels = {\n",
    "    0: \"Average Performers\",\n",
    "    1: \"Top Performers\",\n",
    "    2: \"Emerging Performers\",\n",
    "}\n",
    "features[\"Performance\"] = features[\"Cluster\"].map(cluster_labels)\n",
    "\n",
    "# Create a DataFrame for visualization\n",
    "pca_df = pd.DataFrame(features_pca, columns=[\"PCA1\", \"PCA2\"])\n",
    "pca_df[\"Cluster\"] = features[\"Cluster\"]\n",
    "pca_df[\"Country\"] = features[\"Country\"]\n",
    "pca_df[\"Performance\"] = features[\"Performance\"]\n",
    "\n",
    "# Plot the clusters using Plotly\n",
    "fig = px.scatter(\n",
    "    pca_df,\n",
    "    x=\"PCA1\",\n",
    "    y=\"PCA2\",\n",
    "    color=\"Performance\",\n",
    "    hover_data=[\"Country\"],\n",
    "    title=\"Performance Segmentation of Countries\",\n",
    "    labels={\"PCA1\": \"PCA1\", \"PCA2\": \"PCA2\"},\n",
    ")\n",
    "\n",
    "# Update hover template and layout\n",
    "fig.update_traces(hovertemplate=\"Country: %{customdata[0]}\")\n",
    "fig.update_layout(\n",
    "    title=\"Exports Performance Segmentation of Countries\",\n",
    "    title_x=0.5,\n",
    "    xaxis_title=\"PCA1\",\n",
    "    yaxis_title=\"PCA2\",\n",
    ")\n",
    "\n",
    "fig.show()"
   ]
  },
  {
   "cell_type": "markdown",
   "id": "fe8b0c5a",
   "metadata": {},
   "source": [
    "<a id=\"m2\"></a>\n",
    "### 3.2 Clustering / Segmentation: FTAs by Yearly Value"
   ]
  },
  {
   "cell_type": "code",
   "execution_count": null,
   "id": "052faac9",
   "metadata": {},
   "outputs": [],
   "source": [
    "# Filter for export data\n",
    "df_filtered_fta = df_clean[(df_clean[\"Trade\"] == \"Export\")]\n",
    "\n",
    "# Calculate linear growth rates for trade values\n",
    "trade_growth_fta = (\n",
    "    df_filtered_fta.groupby([\"Free Trade Agreement\", \"Year\"])[\"Value\"]\n",
    "    .sum()\n",
    "    .reset_index()\n",
    ")\n",
    "\n",
    "\n",
    "# Calculate the linear growth rate for each FTA\n",
    "def calculate_growth_rate_fta(group):\n",
    "    if len(group) > 1:\n",
    "        slope, _ = np.polyfit(group[\"Year\"], group[\"Value\"], 1)\n",
    "        return slope\n",
    "    return 0\n",
    "\n",
    "\n",
    "growth_rates_fta = (\n",
    "    trade_growth_fta.groupby(\"Free Trade Agreement\")\n",
    "    .apply(calculate_growth_rate_fta)\n",
    "    .reset_index(name=\"Growth_Rate\")\n",
    ")\n",
    "\n",
    "# Merge growth rates with the original data\n",
    "features_fta = (\n",
    "    df_filtered_fta.groupby(\"Free Trade Agreement\")[\"Value\"]\n",
    "    .mean()\n",
    "    .reset_index(name=\"Avg_Trade_Value\")\n",
    ")\n",
    "features_fta = features_fta.merge(growth_rates_fta, on=\"Free Trade Agreement\")\n",
    "\n",
    "# Standardize the features\n",
    "features_scaled_fta = scaler.fit_transform(\n",
    "    features_fta.drop(columns=[\"Free Trade Agreement\"])\n",
    ")\n",
    "\n",
    "# Apply PCA for dimensionality reduction (if needed)\n",
    "features_pca_fta = pca.fit_transform(features_scaled_fta)\n",
    "\n",
    "# Inspect the explained variance ratio\n",
    "print(\"Explained variance ratio:\", pca.explained_variance_ratio_)\n",
    "\n",
    "# Determine the optimal number of clusters using the elbow method\n",
    "wcss_fta = [\n",
    "    KMeans(n_clusters=i, random_state=42).fit(features_pca_fta).inertia_\n",
    "    for i in range(1, 11)\n",
    "]\n",
    "\n",
    "# Plot the elbow method\n",
    "plt.figure(figsize=(10, 6))\n",
    "plt.plot(range(1, 11), wcss_fta, marker=\"o\")\n",
    "plt.title(\"Elbow Method for FTAs\")\n",
    "plt.xlabel(\"Number of clusters\")\n",
    "plt.ylabel(\"WCSS\")\n",
    "plt.show()\n"
   ]
  },
  {
   "cell_type": "markdown",
   "id": "e8e3856c",
   "metadata": {},
   "source": [
    ">This graph shows the ideal number of cluster groups to be used."
   ]
  },
  {
   "cell_type": "code",
   "execution_count": null,
   "id": "7ad7949a",
   "metadata": {},
   "outputs": [],
   "source": [
    "# Apply K-means with the optimal number of clusters\n",
    "optimal_clusters_fta = (\n",
    "    3  # Replace with the optimal number of clusters determined from the elbow plot\n",
    ")\n",
    "kmeans_fta = KMeans(n_clusters=optimal_clusters_fta, random_state=42)\n",
    "features_fta[\"Cluster\"] = kmeans_fta.fit_predict(features_pca_fta)\n",
    "\n",
    "# Label the clusters based on the growth rates\n",
    "cluster_labels_fta = {\n",
    "    0: \"Low Performers\",\n",
    "    2: \"Moderate Performers\",\n",
    "    1: \"Top Performers\",\n",
    "}\n",
    "features_fta[\"Performance\"] = features_fta[\"Cluster\"].map(cluster_labels_fta)\n",
    "\n",
    "# Create a DataFrame for visualization\n",
    "pca_df_fta = pd.DataFrame(features_pca_fta, columns=[\"PCA1\", \"PCA2\"])\n",
    "pca_df_fta = pca_df_fta.assign(\n",
    "    Cluster=features_fta[\"Cluster\"],\n",
    "    FreeTradeAgreement=features_fta[\"Free Trade Agreement\"],\n",
    "    Performance=features_fta[\"Performance\"],\n",
    ")\n",
    "\n",
    "# Plot the clusters using Plotly\n",
    "fig_fta = px.scatter(\n",
    "    pca_df_fta,\n",
    "    x=\"PCA1\",\n",
    "    y=\"PCA2\",\n",
    "    color=\"Performance\",\n",
    "    hover_data=[\"FreeTradeAgreement\"],\n",
    "    title=\"Performance Segmentation of Free Trade Agreements\",\n",
    "    labels={\"PCA1\": \"PCA1\", \"PCA2\": \"PCA2\"},\n",
    ")\n",
    "\n",
    "# Update hover template and layout\n",
    "fig_fta.update_traces(hovertemplate=\"FTA: %{customdata[0]}\")\n",
    "fig_fta.update_layout(\n",
    "    title=\"Exports Performance Segmentation of Free Trade Agreements\",\n",
    "    title_x=0.5,\n",
    "    xaxis_title=\"PCA1\",\n",
    "    yaxis_title=\"PCA2\",\n",
    ")\n",
    "\n",
    "fig_fta.show()"
   ]
  },
  {
   "cell_type": "markdown",
   "id": "021d84a6",
   "metadata": {},
   "source": [
    "### Conclusion and Review of Results\n",
    "\n",
    "The United States emerges as Canada's most crucial ally, with a substantial portion of exports directed there. This data is particularly relevant in the context of recent unnecessary \"Trade Wars,\" highlighting the importance of maintaining strong trade ties with the U.S. Additionally, the segmentation analysis identifies the United Kingdom and China as emerging performers, showing promising growth rates and increasing trade values, indicating their potential as key trade partners for Canada in the future.\n",
    "\n",
    "The Comprehensive and Progressive Agreement for Trans-Pacific Partnership (CPTPP) stands out as a significant trade agreement for Canada, including countries like Australia, Japan, and Mexico. This agreement provides Canada with access to diverse markets, enhancing its trade potential and economic growth. By leveraging these insights, policymakers and businesses can make informed decisions to strengthen Canada's trade relationships and drive economic growth."
   ]
  },
  {
   "cell_type": "markdown",
   "id": "a00f205b",
   "metadata": {},
   "source": [
    "<a id=\"m3\"></a>\n",
    "### 3.3 SARIMA Forecast for Exports"
   ]
  },
  {
   "cell_type": "code",
   "execution_count": null,
   "id": "d544ab85",
   "metadata": {},
   "outputs": [],
   "source": [
    "# Decompose the time series for a specific FTA or product category\n",
    "def decompose_time_series(data, column, model=\"multiplicative\"):\n",
    "    decomposition = seasonal_decompose(data[column], model=model)\n",
    "    decomposition.plot()\n",
    "    plt.show()\n",
    "    return decomposition\n",
    "\n",
    "# Example: Decompose the time series for 'Canada-United States-Mexico Agreement (CUSMA), preceeded by NAFTA' and 'Energy products'\n",
    "fta = \"Canada-United States-Mexico Agreement (CUSMA), preceeded by NAFTA\"\n",
    "product = \"Energy products\"\n",
    "\n",
    "# Filter the data for CUSMA and only exports\n",
    "fta_product_data_cusma = df_clean[\n",
    "    (df_clean[\"Free Trade Agreement\"] == fta) & \n",
    "    (df_clean[\"Description\"] == product) & \n",
    "    (df_clean[\"Trade\"] == \"Export\")\n",
    "].copy()\n",
    "\n",
    "# Ensure the Date column is created from Year and Month\n",
    "fta_product_data_cusma[\"Date\"] = pd.to_datetime(\n",
    "    fta_product_data_cusma[[\"Year\", \"Month\"]].assign(DAY=1)\n",
    ")\n",
    "fta_product_data_cusma.set_index(\"Date\", inplace=True)\n",
    "\n",
    "# Set the frequency to monthly and forward fill missing values\n",
    "fta_product_data_cusma = fta_product_data_cusma.asfreq(\"MS\").ffill()\n",
    "\n",
    "# Decompose the time series\n",
    "decomposition = decompose_time_series(fta_product_data_cusma, \"Value\")\n",
    "\n",
    "# Fit a SARIMA model to capture and model seasonality\n",
    "sarima_model = SARIMAX(\n",
    "    fta_product_data_cusma[\"Value\"], order=(1, 1, 1), seasonal_order=(1, 1, 1, 12)\n",
    ")\n",
    "sarima_result = sarima_model.fit()\n",
    "\n",
    "# Print the summary of the SARIMA model\n",
    "print(sarima_result.summary())\n"
   ]
  },
  {
   "cell_type": "markdown",
   "id": "0326f68c",
   "metadata": {},
   "source": [
    ">The SARIMA model effectively captures both trend and seasonality, but residual diagnostics indicate that there may be remaining structure in the data. The model provides a strong foundation for forecasting trends in the dataset."
   ]
  },
  {
   "cell_type": "code",
   "execution_count": null,
   "id": "f43bae53",
   "metadata": {},
   "outputs": [],
   "source": [
    "# Filter the data from 2010 onwards\n",
    "fta_product_data_2010 = fta_product_data_cusma[fta_product_data_cusma.index >= \"2010-01-01\"]\n",
    "\n",
    "# Forecast the next 12 months\n",
    "forecast = sarima_result.get_forecast(steps=12)\n",
    "forecast_df = forecast.conf_int()\n",
    "forecast_df[\"Forecast\"] = forecast.predicted_mean\n",
    "\n",
    "# Plot the forecast\n",
    "plt.figure(figsize=(10, 6))\n",
    "plt.plot(fta_product_data_2010[\"Value\"], label=\"Observed\")\n",
    "plt.plot(forecast_df[\"Forecast\"], label=\"Forecast\", color=\"red\")\n",
    "plt.fill_between(\n",
    "    forecast_df.index,\n",
    "    forecast_df[\"lower Value\"],\n",
    "    forecast_df[\"upper Value\"],\n",
    "    color=\"pink\",\n",
    ")\n",
    "plt.title(\"SARIMA Forecast for Energy Products under Canada-United States-Mexico Agreement (CUSMA)\")\n",
    "plt.xlabel(\"Date\")\n",
    "plt.ylabel(\"Trade Value\")\n",
    "plt.legend()\n",
    "plt.show()"
   ]
  },
  {
   "cell_type": "markdown",
   "id": "2d75451b",
   "metadata": {},
   "source": [
    "Energy is the main industry exported from Canada, as shown in the Distribution chart. Over the last 10 years, the trend indicates that there is not much growth expected for Canadian exports, suggesting a general slowdown in economic growth. Although there was a significant surge in exports following the COVID-19 crisis, reaching historic highs, it is unlikely that these peaks will be achieved again in the near future. This highlights the need for strategic planning and diversification to sustain economic stability and growth."
   ]
  },
  {
   "cell_type": "markdown",
   "id": "74ba76c6",
   "metadata": {},
   "source": [
    "## [**4. Tableau Dashboard**](https://public.tableau.com/views/CanadaTrade/FTADashboard?:language=en-US&:sid=&:display_count=n&:origin=viz_share_link)\n",
    "\n",
    "Two interactive dashboards, one for each dataset.\n",
    "\n",
    "As the final step from this project, feel free to navigate through these dashboards, including fruitful insights whose interactivity will help any Canadian who is willing to explore the foreign trade market."
   ]
  }
 ],
 "metadata": {
  "kernelspec": {
   "display_name": "Python 3 (ipykernel)",
   "language": "python",
   "name": "python3"
  },
  "language_info": {
   "codemirror_mode": {
    "name": "ipython",
    "version": 3
   },
   "file_extension": ".py",
   "mimetype": "text/x-python",
   "name": "python",
   "nbconvert_exporter": "python",
   "pygments_lexer": "ipython3",
   "version": "3.12.5"
  }
 },
 "nbformat": 4,
 "nbformat_minor": 5
}
