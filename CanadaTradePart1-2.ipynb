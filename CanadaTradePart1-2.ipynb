{
 "cells": [
  {
   "cell_type": "markdown",
   "id": "c8f9c493-70db-4ffc-8c38-6ca2ca3e5994",
   "metadata": {},
   "source": [
    "# **Canadian Foreign Trade History**\n",
    "\n",
    "## Introduction\n",
    "As an International Business graduate with a passion for trade and economic development, I have always been captivated by the complexities of global commerce. This project, which delves into Canada’s trade history, is more than just an analytical exercise—it’s a stepping stone toward my long-term goal of building an export company specializing in fresh fruits and vegetables from Latin America to Canada and the U.S.\n",
    "\n",
    "Understanding historical trade patterns is key to spotting opportunities and navigating potential challenges in the market. By analyzing decades of import and export data, I aim to uncover insights into Canada’s trade relationships, particularly in the context of Free Trade Agreements (FTAs). This exploration not only sharpens my ability to interpret economic trends but also strengthens my strategic planning skills, equipping me and anyone with access to this insights, to make well-informed business decisions in the future.\n",
    "\n",
    "Beyond personal aspirations, this project highlights the broader impact of international trade. Strengthening trade between Canada and the world has tangible benefits: it drives economic growth, creates job opportunities, and supports local farmers by providing them with access to new markets. Moreover, increasing the flow of high-quality agricultural products ensures a steady supply of fresh, nutritious food to meet growing consumer demand in Canada and the U.S, whose recent \"Trade War\" is affecting us.\n",
    "\n",
    "At its core, trade is about connection—linking producers with consumers, businesses with opportunities, and economies with growth. By diving deep into the data, this project not only brings me closer to my entrepreneurial vision but also reinforces the fundamental role of international trade in fostering sustainable economic development.\n",
    "## Project Outline\n",
    "### Part 1. **[Data Scrubbing](#data-scrubbing)**\n",
    "#### &emsp;1.1 **[FTAs Monthly Database](#db1)**\n",
    "#### &emsp;1.2 **[Country Yearly Database](#db2)**\n",
    "### Part 2. **[Interpretation](#interpretation)**\n",
    "#### &emsp;2.1 **[Distribution of Free Trade Agreements](#d1)**\n",
    "#### &emsp;2.2 **[Distribution of Countries](#d2)**\n",
    "#### &emsp;2.3 **[Distribution of Categories](#d4)**\n",
    "#### &emsp;2.4 **[Heatmap of Top 10 Product Descriptions](#h5)**\n",
    "### 4. **[Tableau Dashboard](https://public.tableau.com/views/TableauProject_17241256666710/Dashboard1?:language=es-ES&:sid=&:redirect=auth&:display_count=n&:origin=viz_share_link)**\n",
    "\n",
    "## Bibliography\n",
    "- **Python Libraries Used:**\n",
    "   - `pandas`: A powerful data manipulation and analysis library that provides data structures like DataFrames for handling structured data.\n",
    "   - `numpy`: A fundamental package for numerical computing in Python, providing support for arrays, matrices, and a wide range of mathematical functions.\n",
    "   - `plotly`: An interactive graphing library that makes it easy to create interactive plots, dashboards, and visualizations.\n",
    "   - `scikit-learn`: A machine learning library that provides simple and efficient tools for data mining, data analysis, and machine learning tasks.\n",
    "   - `matplotlib`: A comprehensive library for creating static, animated, and interactive visualizations in Python.\n",
    "   - `seaborn`: A statistical data visualization library based on matplotlib, providing a high-level interface for drawing attractive and informative statistical graphics.\n",
    "   - `statsmodels`: A library for estimating and testing statistical models, performing statistical tests, and conducting data exploration.\n",
    "- **References:**\n",
    "  - [FTAs Monthly Database](https://www150.statcan.gc.ca/t1/tbl1/en/tv.action?pid=1210017401): Statistics Canada. Table 12-10-0174-01 Merchandise imports and exports, customs-based, by free trade agreement and by commodity (x 1,000).\n",
    "  - [Country Yearly Database](https://www150.statcan.gc.ca/t1/tbl1/en/tv.action?pid=1210017101): Statistics Canada. Table 12-10-0171-01 Canadian international merchandise trade by country and by product section, customs-based, annual (x 1,000).\n",
    "\n",
    "Feel free to navigate through the sections, and learn about the analysis!"
   ]
  },
  {
   "cell_type": "markdown",
   "id": "8dfa9df6-9e89-4d39-a091-8f2f82557618",
   "metadata": {},
   "source": [
    "---\n",
    "\n",
    "<a id=\"data-scrubbing\"></a>\n",
    "## **1. Data Scrubbing**"
   ]
  },
  {
   "cell_type": "markdown",
   "id": "1cdc5ecc-ffdc-4d08-8c72-10f4105f739b",
   "metadata": {},
   "source": [
    "### Importing Libraries"
   ]
  },
  {
   "cell_type": "code",
   "execution_count": 1,
   "id": "b483b1f5-e3eb-4e66-a54a-14d72e0db81a",
   "metadata": {},
   "outputs": [
    {
     "name": "stdout",
     "output_type": "stream",
     "text": [
      "modules are imported\n"
     ]
    }
   ],
   "source": [
    "import re\n",
    "\n",
    "import numpy as np\n",
    "import pandas as pd\n",
    "import plotly\n",
    "import plotly.express as px\n",
    "import plotly.graph_objects as go\n",
    "from sklearn.preprocessing import StandardScaler\n",
    "from sklearn.decomposition import PCA\n",
    "from sklearn.cluster import KMeans\n",
    "import matplotlib.pyplot as plt\n",
    "import seaborn as sns\n",
    "from statsmodels.tsa.seasonal import seasonal_decompose\n",
    "from statsmodels.tsa.statespace.sarimax import SARIMAX\n",
    "\n",
    "print(\"modules are imported\")"
   ]
  },
  {
   "cell_type": "markdown",
   "id": "9def762e",
   "metadata": {},
   "source": [
    "<a id=\"db1\"></a>\n",
    "### **1.1 FTAs Monthly Database**\n",
    "### Reading the database"
   ]
  },
  {
   "cell_type": "code",
   "execution_count": 2,
   "id": "44c305b9-ed25-4403-8e3e-5357f5d5d015",
   "metadata": {},
   "outputs": [
    {
     "data": {
      "application/vnd.microsoft.datawrangler.viewer.v0+json": {
       "columns": [
        {
         "name": "index",
         "rawType": "int64",
         "type": "integer"
        },
        {
         "name": "REF_DATE",
         "rawType": "object",
         "type": "string"
        },
        {
         "name": "GEO",
         "rawType": "object",
         "type": "string"
        },
        {
         "name": "DGUID",
         "rawType": "object",
         "type": "string"
        },
        {
         "name": "Trade",
         "rawType": "object",
         "type": "string"
        },
        {
         "name": "Free Trade Agreement",
         "rawType": "object",
         "type": "string"
        },
        {
         "name": "North American Product Classification System (NAPCS)",
         "rawType": "object",
         "type": "string"
        },
        {
         "name": "UOM",
         "rawType": "object",
         "type": "string"
        },
        {
         "name": "UOM_ID",
         "rawType": "int64",
         "type": "integer"
        },
        {
         "name": "SCALAR_FACTOR",
         "rawType": "object",
         "type": "string"
        },
        {
         "name": "SCALAR_ID",
         "rawType": "int64",
         "type": "integer"
        },
        {
         "name": "VECTOR",
         "rawType": "object",
         "type": "string"
        },
        {
         "name": "COORDINATE",
         "rawType": "object",
         "type": "string"
        },
        {
         "name": "VALUE",
         "rawType": "float64",
         "type": "float"
        },
        {
         "name": "STATUS",
         "rawType": "float64",
         "type": "float"
        },
        {
         "name": "SYMBOL",
         "rawType": "float64",
         "type": "float"
        },
        {
         "name": "TERMINATED",
         "rawType": "float64",
         "type": "float"
        },
        {
         "name": "DECIMALS",
         "rawType": "int64",
         "type": "integer"
        }
       ],
       "conversionMethod": "pd.DataFrame",
       "ref": "f645498c-016e-4edc-b60e-85677dbba4e8",
       "rows": [
        [
         "0",
         "1988-01",
         "Canada",
         "2021A000011124",
         "Import",
         "Total of all countries",
         "Total of all merchandise",
         "Dollars",
         "81",
         "thousands",
         "3",
         "v1566929544",
         "1.1.1.1",
         "12417833.7",
         null,
         null,
         null,
         "1"
        ],
        [
         "1",
         "1988-01",
         "Canada",
         "2021A000011124",
         "Import",
         "Total of all countries",
         "Farm, fishing and intermediate food products [C11]",
         "Dollars",
         "81",
         "thousands",
         "3",
         "v1566929545",
         "1.1.1.2",
         "438401.8",
         null,
         null,
         null,
         "1"
        ],
        [
         "2",
         "1988-01",
         "Canada",
         "2021A000011124",
         "Import",
         "Total of all countries",
         "Farm and fishing products [C111]",
         "Dollars",
         "81",
         "thousands",
         "3",
         "v1566929546",
         "1.1.1.3",
         "374211.3",
         null,
         null,
         null,
         "1"
        ],
        [
         "3",
         "1988-01",
         "Canada",
         "2021A000011124",
         "Import",
         "Total of all countries",
         "Live animals [111]",
         "Dollars",
         "81",
         "thousands",
         "3",
         "v1566929547",
         "1.1.1.4",
         "11592.8",
         null,
         null,
         null,
         "1"
        ],
        [
         "4",
         "1988-01",
         "Canada",
         "2021A000011124",
         "Import",
         "Total of all countries",
         "Wheat [112]",
         "Dollars",
         "81",
         "thousands",
         "3",
         "v1566929548",
         "1.1.1.5",
         "0.3",
         null,
         null,
         null,
         "1"
        ]
       ],
       "shape": {
        "columns": 17,
        "rows": 5
       }
      },
      "text/html": [
       "<div>\n",
       "<style scoped>\n",
       "    .dataframe tbody tr th:only-of-type {\n",
       "        vertical-align: middle;\n",
       "    }\n",
       "\n",
       "    .dataframe tbody tr th {\n",
       "        vertical-align: top;\n",
       "    }\n",
       "\n",
       "    .dataframe thead th {\n",
       "        text-align: right;\n",
       "    }\n",
       "</style>\n",
       "<table border=\"1\" class=\"dataframe\">\n",
       "  <thead>\n",
       "    <tr style=\"text-align: right;\">\n",
       "      <th></th>\n",
       "      <th>REF_DATE</th>\n",
       "      <th>GEO</th>\n",
       "      <th>DGUID</th>\n",
       "      <th>Trade</th>\n",
       "      <th>Free Trade Agreement</th>\n",
       "      <th>North American Product Classification System (NAPCS)</th>\n",
       "      <th>UOM</th>\n",
       "      <th>UOM_ID</th>\n",
       "      <th>SCALAR_FACTOR</th>\n",
       "      <th>SCALAR_ID</th>\n",
       "      <th>VECTOR</th>\n",
       "      <th>COORDINATE</th>\n",
       "      <th>VALUE</th>\n",
       "      <th>STATUS</th>\n",
       "      <th>SYMBOL</th>\n",
       "      <th>TERMINATED</th>\n",
       "      <th>DECIMALS</th>\n",
       "    </tr>\n",
       "  </thead>\n",
       "  <tbody>\n",
       "    <tr>\n",
       "      <th>0</th>\n",
       "      <td>1988-01</td>\n",
       "      <td>Canada</td>\n",
       "      <td>2021A000011124</td>\n",
       "      <td>Import</td>\n",
       "      <td>Total of all countries</td>\n",
       "      <td>Total of all merchandise</td>\n",
       "      <td>Dollars</td>\n",
       "      <td>81</td>\n",
       "      <td>thousands</td>\n",
       "      <td>3</td>\n",
       "      <td>v1566929544</td>\n",
       "      <td>1.1.1.1</td>\n",
       "      <td>12417833.7</td>\n",
       "      <td>NaN</td>\n",
       "      <td>NaN</td>\n",
       "      <td>NaN</td>\n",
       "      <td>1</td>\n",
       "    </tr>\n",
       "    <tr>\n",
       "      <th>1</th>\n",
       "      <td>1988-01</td>\n",
       "      <td>Canada</td>\n",
       "      <td>2021A000011124</td>\n",
       "      <td>Import</td>\n",
       "      <td>Total of all countries</td>\n",
       "      <td>Farm, fishing and intermediate food products [...</td>\n",
       "      <td>Dollars</td>\n",
       "      <td>81</td>\n",
       "      <td>thousands</td>\n",
       "      <td>3</td>\n",
       "      <td>v1566929545</td>\n",
       "      <td>1.1.1.2</td>\n",
       "      <td>438401.8</td>\n",
       "      <td>NaN</td>\n",
       "      <td>NaN</td>\n",
       "      <td>NaN</td>\n",
       "      <td>1</td>\n",
       "    </tr>\n",
       "    <tr>\n",
       "      <th>2</th>\n",
       "      <td>1988-01</td>\n",
       "      <td>Canada</td>\n",
       "      <td>2021A000011124</td>\n",
       "      <td>Import</td>\n",
       "      <td>Total of all countries</td>\n",
       "      <td>Farm and fishing products [C111]</td>\n",
       "      <td>Dollars</td>\n",
       "      <td>81</td>\n",
       "      <td>thousands</td>\n",
       "      <td>3</td>\n",
       "      <td>v1566929546</td>\n",
       "      <td>1.1.1.3</td>\n",
       "      <td>374211.3</td>\n",
       "      <td>NaN</td>\n",
       "      <td>NaN</td>\n",
       "      <td>NaN</td>\n",
       "      <td>1</td>\n",
       "    </tr>\n",
       "    <tr>\n",
       "      <th>3</th>\n",
       "      <td>1988-01</td>\n",
       "      <td>Canada</td>\n",
       "      <td>2021A000011124</td>\n",
       "      <td>Import</td>\n",
       "      <td>Total of all countries</td>\n",
       "      <td>Live animals [111]</td>\n",
       "      <td>Dollars</td>\n",
       "      <td>81</td>\n",
       "      <td>thousands</td>\n",
       "      <td>3</td>\n",
       "      <td>v1566929547</td>\n",
       "      <td>1.1.1.4</td>\n",
       "      <td>11592.8</td>\n",
       "      <td>NaN</td>\n",
       "      <td>NaN</td>\n",
       "      <td>NaN</td>\n",
       "      <td>1</td>\n",
       "    </tr>\n",
       "    <tr>\n",
       "      <th>4</th>\n",
       "      <td>1988-01</td>\n",
       "      <td>Canada</td>\n",
       "      <td>2021A000011124</td>\n",
       "      <td>Import</td>\n",
       "      <td>Total of all countries</td>\n",
       "      <td>Wheat [112]</td>\n",
       "      <td>Dollars</td>\n",
       "      <td>81</td>\n",
       "      <td>thousands</td>\n",
       "      <td>3</td>\n",
       "      <td>v1566929548</td>\n",
       "      <td>1.1.1.5</td>\n",
       "      <td>0.3</td>\n",
       "      <td>NaN</td>\n",
       "      <td>NaN</td>\n",
       "      <td>NaN</td>\n",
       "      <td>1</td>\n",
       "    </tr>\n",
       "  </tbody>\n",
       "</table>\n",
       "</div>"
      ],
      "text/plain": [
       "  REF_DATE     GEO           DGUID   Trade    Free Trade Agreement  \\\n",
       "0  1988-01  Canada  2021A000011124  Import  Total of all countries   \n",
       "1  1988-01  Canada  2021A000011124  Import  Total of all countries   \n",
       "2  1988-01  Canada  2021A000011124  Import  Total of all countries   \n",
       "3  1988-01  Canada  2021A000011124  Import  Total of all countries   \n",
       "4  1988-01  Canada  2021A000011124  Import  Total of all countries   \n",
       "\n",
       "  North American Product Classification System (NAPCS)      UOM  UOM_ID  \\\n",
       "0                           Total of all merchandise    Dollars      81   \n",
       "1  Farm, fishing and intermediate food products [...    Dollars      81   \n",
       "2                   Farm and fishing products [C111]    Dollars      81   \n",
       "3                                 Live animals [111]    Dollars      81   \n",
       "4                                        Wheat [112]    Dollars      81   \n",
       "\n",
       "  SCALAR_FACTOR  SCALAR_ID       VECTOR COORDINATE       VALUE  STATUS  \\\n",
       "0     thousands          3  v1566929544    1.1.1.1  12417833.7     NaN   \n",
       "1     thousands          3  v1566929545    1.1.1.2    438401.8     NaN   \n",
       "2     thousands          3  v1566929546    1.1.1.3    374211.3     NaN   \n",
       "3     thousands          3  v1566929547    1.1.1.4     11592.8     NaN   \n",
       "4     thousands          3  v1566929548    1.1.1.5         0.3     NaN   \n",
       "\n",
       "   SYMBOL  TERMINATED  DECIMALS  \n",
       "0     NaN         NaN         1  \n",
       "1     NaN         NaN         1  \n",
       "2     NaN         NaN         1  \n",
       "3     NaN         NaN         1  \n",
       "4     NaN         NaN         1  "
      ]
     },
     "execution_count": 2,
     "metadata": {},
     "output_type": "execute_result"
    }
   ],
   "source": [
    "df = pd.read_csv(\"db_canada.csv\", on_bad_lines=\"skip\", low_memory=False)\n",
    "df.head()"
   ]
  },
  {
   "cell_type": "code",
   "execution_count": 3,
   "id": "3470942c-cddf-45d4-8232-25fe17b90001",
   "metadata": {},
   "outputs": [
    {
     "data": {
      "text/plain": [
       "(4528800, 17)"
      ]
     },
     "execution_count": 3,
     "metadata": {},
     "output_type": "execute_result"
    }
   ],
   "source": [
    "df.shape"
   ]
  },
  {
   "cell_type": "markdown",
   "id": "1169ae6d-974e-4aa7-888c-243bcd63804b",
   "metadata": {},
   "source": [
    "### Analyzing the columns"
   ]
  },
  {
   "cell_type": "code",
   "execution_count": 4,
   "id": "3cfdccf2-6b6a-43ef-93b2-28b40f21ee6e",
   "metadata": {},
   "outputs": [
    {
     "name": "stdout",
     "output_type": "stream",
     "text": [
      "['REF_DATE', 'GEO', 'DGUID', 'Trade', 'Free Trade Agreement', 'North American Product Classification System (NAPCS)', 'UOM', 'UOM_ID', 'SCALAR_FACTOR', 'SCALAR_ID', 'VECTOR', 'COORDINATE', 'VALUE', 'STATUS', 'SYMBOL', 'TERMINATED', 'DECIMALS']\n"
     ]
    }
   ],
   "source": [
    "cols = list(df.columns)\n",
    "print(cols)"
   ]
  },
  {
   "cell_type": "code",
   "execution_count": 5,
   "id": "c6bddbf1-a1d4-41b9-a2e1-6823653f8391",
   "metadata": {},
   "outputs": [],
   "source": [
    "# Define a list of columns that are not necessary for our analysis\n",
    "useless_columns = [\n",
    "    \"GEO\",\n",
    "    \"DGUID\",\n",
    "    \"UOM\",\n",
    "    \"UOM_ID\",\n",
    "    \"SCALAR_FACTOR\",\n",
    "    \"SCALAR_ID\",\n",
    "    \"VECTOR\",\n",
    "    \"STATUS\",\n",
    "    \"SYMBOL\",\n",
    "    \"TERMINATED\",\n",
    "    \"DECIMALS\",\n",
    "]\n",
    "\n",
    "# Drop the columns listed in 'useless_columns' from the DataFrame\n",
    "# This step helps to reduce the dataset to only the relevant\n",
    "df_clean = df.drop(useless_columns, axis=1)"
   ]
  },
  {
   "cell_type": "code",
   "execution_count": 6,
   "id": "fc4d48ad-9e66-4fb3-be61-36fdf2cf4405",
   "metadata": {},
   "outputs": [
    {
     "data": {
      "application/vnd.microsoft.datawrangler.viewer.v0+json": {
       "columns": [
        {
         "name": "index",
         "rawType": "int64",
         "type": "integer"
        },
        {
         "name": "Date",
         "rawType": "object",
         "type": "string"
        },
        {
         "name": "Trade",
         "rawType": "object",
         "type": "string"
        },
        {
         "name": "Free Trade Agreement",
         "rawType": "object",
         "type": "string"
        },
        {
         "name": "Product",
         "rawType": "object",
         "type": "string"
        },
        {
         "name": "Coordinate",
         "rawType": "object",
         "type": "string"
        },
        {
         "name": "Value",
         "rawType": "float64",
         "type": "float"
        }
       ],
       "conversionMethod": "pd.DataFrame",
       "ref": "e036c88f-75ab-495f-b7fb-300d8d9f0831",
       "rows": [
        [
         "0",
         "1988-01",
         "Import",
         "Total of all countries",
         "Total of all merchandise",
         "1.1.1.1",
         "12417833.7"
        ],
        [
         "1",
         "1988-01",
         "Import",
         "Total of all countries",
         "Farm, fishing and intermediate food products [C11]",
         "1.1.1.2",
         "438401.8"
        ],
        [
         "2",
         "1988-01",
         "Import",
         "Total of all countries",
         "Farm and fishing products [C111]",
         "1.1.1.3",
         "374211.3"
        ],
        [
         "3",
         "1988-01",
         "Import",
         "Total of all countries",
         "Live animals [111]",
         "1.1.1.4",
         "11592.8"
        ],
        [
         "4",
         "1988-01",
         "Import",
         "Total of all countries",
         "Wheat [112]",
         "1.1.1.5",
         "0.3"
        ]
       ],
       "shape": {
        "columns": 6,
        "rows": 5
       }
      },
      "text/html": [
       "<div>\n",
       "<style scoped>\n",
       "    .dataframe tbody tr th:only-of-type {\n",
       "        vertical-align: middle;\n",
       "    }\n",
       "\n",
       "    .dataframe tbody tr th {\n",
       "        vertical-align: top;\n",
       "    }\n",
       "\n",
       "    .dataframe thead th {\n",
       "        text-align: right;\n",
       "    }\n",
       "</style>\n",
       "<table border=\"1\" class=\"dataframe\">\n",
       "  <thead>\n",
       "    <tr style=\"text-align: right;\">\n",
       "      <th></th>\n",
       "      <th>Date</th>\n",
       "      <th>Trade</th>\n",
       "      <th>Free Trade Agreement</th>\n",
       "      <th>Product</th>\n",
       "      <th>Coordinate</th>\n",
       "      <th>Value</th>\n",
       "    </tr>\n",
       "  </thead>\n",
       "  <tbody>\n",
       "    <tr>\n",
       "      <th>0</th>\n",
       "      <td>1988-01</td>\n",
       "      <td>Import</td>\n",
       "      <td>Total of all countries</td>\n",
       "      <td>Total of all merchandise</td>\n",
       "      <td>1.1.1.1</td>\n",
       "      <td>12417833.7</td>\n",
       "    </tr>\n",
       "    <tr>\n",
       "      <th>1</th>\n",
       "      <td>1988-01</td>\n",
       "      <td>Import</td>\n",
       "      <td>Total of all countries</td>\n",
       "      <td>Farm, fishing and intermediate food products [...</td>\n",
       "      <td>1.1.1.2</td>\n",
       "      <td>438401.8</td>\n",
       "    </tr>\n",
       "    <tr>\n",
       "      <th>2</th>\n",
       "      <td>1988-01</td>\n",
       "      <td>Import</td>\n",
       "      <td>Total of all countries</td>\n",
       "      <td>Farm and fishing products [C111]</td>\n",
       "      <td>1.1.1.3</td>\n",
       "      <td>374211.3</td>\n",
       "    </tr>\n",
       "    <tr>\n",
       "      <th>3</th>\n",
       "      <td>1988-01</td>\n",
       "      <td>Import</td>\n",
       "      <td>Total of all countries</td>\n",
       "      <td>Live animals [111]</td>\n",
       "      <td>1.1.1.4</td>\n",
       "      <td>11592.8</td>\n",
       "    </tr>\n",
       "    <tr>\n",
       "      <th>4</th>\n",
       "      <td>1988-01</td>\n",
       "      <td>Import</td>\n",
       "      <td>Total of all countries</td>\n",
       "      <td>Wheat [112]</td>\n",
       "      <td>1.1.1.5</td>\n",
       "      <td>0.3</td>\n",
       "    </tr>\n",
       "  </tbody>\n",
       "</table>\n",
       "</div>"
      ],
      "text/plain": [
       "      Date   Trade    Free Trade Agreement  \\\n",
       "0  1988-01  Import  Total of all countries   \n",
       "1  1988-01  Import  Total of all countries   \n",
       "2  1988-01  Import  Total of all countries   \n",
       "3  1988-01  Import  Total of all countries   \n",
       "4  1988-01  Import  Total of all countries   \n",
       "\n",
       "                                             Product Coordinate       Value  \n",
       "0                           Total of all merchandise    1.1.1.1  12417833.7  \n",
       "1  Farm, fishing and intermediate food products [...    1.1.1.2    438401.8  \n",
       "2                   Farm and fishing products [C111]    1.1.1.3    374211.3  \n",
       "3                                 Live animals [111]    1.1.1.4     11592.8  \n",
       "4                                        Wheat [112]    1.1.1.5         0.3  "
      ]
     },
     "execution_count": 6,
     "metadata": {},
     "output_type": "execute_result"
    }
   ],
   "source": [
    "df_clean.rename(\n",
    "    columns={\n",
    "        \"REF_DATE\": \"Date\",\n",
    "        \"North American Product Classification System (NAPCS)\": \"Product\",\n",
    "        \"COORDINATE\": \"Coordinate\",\n",
    "        \"VALUE\": \"Value\",\n",
    "    },\n",
    "    inplace=True,\n",
    ")\n",
    "df_clean.head()"
   ]
  },
  {
   "cell_type": "markdown",
   "id": "a1cafe8c-8e8d-4763-9056-a2619c2efc92",
   "metadata": {},
   "source": [
    "### Removing the duplicates"
   ]
  },
  {
   "cell_type": "code",
   "execution_count": 7,
   "id": "be8c006e-1f88-4903-91b7-5df14956a976",
   "metadata": {
    "scrolled": true
   },
   "outputs": [
    {
     "data": {
      "text/plain": [
       "array(['Total of all merchandise',\n",
       "       'Farm, fishing and intermediate food products [C11]',\n",
       "       'Farm and fishing products [C111]', 'Live animals [111]',\n",
       "       'Wheat [112]', 'Canola (including rapeseed) [113]',\n",
       "       'Fresh fruit, nuts and vegetables, and pulse crops [114]',\n",
       "       'Other crop products [115]', 'Other animal products [116]',\n",
       "       'Fish, crustaceans, shellfish and other fishery products [121]',\n",
       "       'Animal feed [181]', 'Intermediate food products [C112]',\n",
       "       'Intermediate food products [182]', 'Energy products [C12]',\n",
       "       'Crude oil and crude bitumen [C121]',\n",
       "       'Crude oil and bitumen [141]',\n",
       "       'Natural gas, natural gas liquids and related products [C122]',\n",
       "       'Natural gas [142]',\n",
       "       'Natural gas liquids (including condensate) and related products [143]',\n",
       "       'Coal [C123]', 'Coal [144]',\n",
       "       'Nuclear fuel and other energy products [C124]',\n",
       "       'Nuclear fuel and other energy products [145]',\n",
       "       'Electricity [C125]', 'Electricity [146]',\n",
       "       'Refined petroleum energy products [C126]',\n",
       "       'Refined petroleum energy products (including liquid biofuels) [261]',\n",
       "       'Metal ores and non-metallic minerals [C13]',\n",
       "       'Metal ores and concentrates [C131]',\n",
       "       'Iron ores and concentrates [151]',\n",
       "       'Copper ores and concentrates [152]',\n",
       "       'Nickel ores and concentrates [153]',\n",
       "       'Radioactive ores and concentrates [154]',\n",
       "       'Other metal ores and concentrates [155]',\n",
       "       'Non-metallic minerals [C132]', 'Potash [161]',\n",
       "       'Stone, sand, gravel, clay, and refractory minerals [162]',\n",
       "       'Diamonds and other non-metallic minerals (except cut gemstones) [163]',\n",
       "       'Metal and non-metallic mineral products [C14]',\n",
       "       'Intermediate metal products [C141]',\n",
       "       'Unwrought iron, steel and ferro-alloys [311]',\n",
       "       'Basic and semi-finished iron or steel products [312]',\n",
       "       'Unwrought aluminum and aluminum alloys [321]',\n",
       "       'Unwrought copper and copper alloys [322]',\n",
       "       'Unwrought nickel and nickel alloys [323]',\n",
       "       'Unwrought gold, silver, and platinum group metals, and their alloys [324]',\n",
       "       'Other unwrought non-ferrous metals and non-ferrous metal alloys [325]',\n",
       "       'Basic and semi-finished products of non-ferrous metals and non-ferrous metal alloys (except aluminum) [326]',\n",
       "       'Basic and semi-finished products of aluminum and aluminum alloys [327]',\n",
       "       'Fabricated metal products [C142]',\n",
       "       'Fabricated metal products [472]',\n",
       "       'Non-metallic mineral products [C143]',\n",
       "       'Non-metallic mineral products [291]',\n",
       "       'Waste and scrap of metal and glass [C144]',\n",
       "       'Waste and scrap of metal [156]', 'Waste and scrap of glass [159]',\n",
       "       'Basic and industrial chemical, plastic and rubber products [C15]',\n",
       "       'Basic chemicals and industrial chemical products [C151]',\n",
       "       'Dyes and pigments, and petrochemicals [263]',\n",
       "       'Lubricants and other petroleum refinery products [264]',\n",
       "       'Basic chemicals [271]',\n",
       "       'Fertilizers, pesticides and other chemical products [272]',\n",
       "       'Plastic and rubber products [C152]', 'Plastic resins [281]',\n",
       "       'Plastic and rubber basic products not for packaging use (except plastic resins) [282]',\n",
       "       'Plastic and rubber finished products [284]',\n",
       "       'Waste and scrap of plastic and rubber [C153]',\n",
       "       'Waste and scrap of plastic and rubber [158]',\n",
       "       'Forestry products and building and packaging materials [C16]',\n",
       "       'Logs, pulpwood and other forestry products [C161]',\n",
       "       'Logs, pulpwood and other forestry products [131]',\n",
       "       'Pulp and paper [C162]', 'Pulp and paper [251]',\n",
       "       'Building and packaging materials [C163]',\n",
       "       'Lumber and other sawmill products [241]',\n",
       "       'Asphalt (except natural) and asphalt products [262]',\n",
       "       'Wood millwork, and wood products not elsewhere classified [462]',\n",
       "       'Paints, coatings, and adhesive products [463]',\n",
       "       'Plastic and foam building and construction materials [464]',\n",
       "       'Cement, lime and gypsum products [465]',\n",
       "       'Metal building and construction materials [466]',\n",
       "       'Prefabricated buildings and components thereof [471]',\n",
       "       'Packaging materials [474]',\n",
       "       'Waste and scrap of wood, wood by-products, paper and paperboard [C164]',\n",
       "       'Waste and scrap of wood, wood by-products, paper and paperboard [157]',\n",
       "       'Industrial machinery, equipment and parts [C17]',\n",
       "       'Industrial machinery, equipment and parts [C171]',\n",
       "       'Agricultural, lawn and garden machinery and equipment [331]',\n",
       "       'Logging, construction, mining, and oil and gas field machinery and equipment [332]',\n",
       "       'Metalworking machinery [341]',\n",
       "       'Commercial and service industry machinery and equipment [342]',\n",
       "       'Other industry-specific manufacturing machinery, not elsewhere classified [343]',\n",
       "       'Heating, cooling and air purification equipment [344]',\n",
       "       'Other general-purpose machinery and equipment, not elsewhere classified [345]',\n",
       "       'Parts of industrial machinery and equipment [351]',\n",
       "       'Electronic and electrical equipment and parts [C18]',\n",
       "       'Computers and computer peripherals [C181]',\n",
       "       'Computers and computer peripherals [361]',\n",
       "       'Communication, and audio and video equipment [C182]',\n",
       "       'Communication, and audio and video equipment [362]',\n",
       "       'Other electronic and electrical machinery, equipment and parts [C183]',\n",
       "       'Medical, measuring, and other electronic and electrical machinery and equipment [363]',\n",
       "       'Electronic and electrical parts [371]',\n",
       "       'Electrical components [381]', 'Motor vehicles and parts [C19]',\n",
       "       'Passenger cars and light trucks [C191]',\n",
       "       'Passenger cars and light trucks [411]',\n",
       "       'Medium and heavy trucks, buses, and other motor vehicles [C192]',\n",
       "       'Medium and heavy trucks, buses, and other motor vehicles [412]',\n",
       "       'Tires; motor vehicle engines and motor vehicle parts [C193]',\n",
       "       'Tires [283]',\n",
       "       'Motor vehicle engines and motor vehicle parts [413]',\n",
       "       'Aircraft and other transportation equipment and parts [C21]',\n",
       "       'Aircraft, aircraft engines and aircraft parts [C211]',\n",
       "       'Aircraft [421]',\n",
       "       'Aircraft engines, aircraft parts and other aerospace equipment [431]',\n",
       "       'Other transportation equipment and parts [C212]',\n",
       "       'Ships, locomotives, railway rolling stock, and rapid transit equipment [441]',\n",
       "       'Boats and other transportation equipment [442]',\n",
       "       'Parts of railway rolling stock and of other transportation equipment [451]',\n",
       "       'Consumer goods [C22]',\n",
       "       'Food, beverage and tobacco products [C221]',\n",
       "       'Prepared and packaged seafood products [171]',\n",
       "       'Meat products [172]', 'Dairy products [173]',\n",
       "       'Other food products [183]', 'Coffee and tea [191]',\n",
       "       'Frozen, fresh and canned fruit and vegetable juices [192]',\n",
       "       'Carbonated and non-carbonated drinks (including low alcohol fermented drinks), bottled water and ice [193]',\n",
       "       'Alcoholic beverages [211]',\n",
       "       'Tobacco products (including electronic cigarettes) [212]',\n",
       "       'Clothing, footwear and textile products [C222]',\n",
       "       'Fabric, fibre and yarn, and leather and dressed furs [221]',\n",
       "       'Clothing, footwear and accessories [231]',\n",
       "       'Carpets, textile furnishings and other textile products [232]',\n",
       "       'Paper and published products [C223]',\n",
       "       'Converted paper products (except for packaging) [252]',\n",
       "       'Published products and recorded media (except software) [481C]',\n",
       "       'Software and software licensing [482C]',\n",
       "       'Pharmaceutical and medicinal products [C224]',\n",
       "       'Pharmaceutical and medicinal products [273]',\n",
       "       'Furniture and fixtures [C225]', 'Furniture and fixtures [391]',\n",
       "       'Cleaning products, appliances, and miscellaneous goods and supplies [C226]',\n",
       "       'Cleaning products and toiletries [274]', 'Appliances [382]',\n",
       "       'Miscellaneous goods and supplies [475]',\n",
       "       'Special transactions trade [C23]',\n",
       "       'Special transactions trade [C231]',\n",
       "       'Special transactions trade [988]'], dtype=object)"
      ]
     },
     "execution_count": 7,
     "metadata": {},
     "output_type": "execute_result"
    }
   ],
   "source": [
    "# Identyfing the different categories under 'Products'\n",
    "df_clean[\"Product\"].unique()"
   ]
  },
  {
   "cell_type": "code",
   "execution_count": 8,
   "id": "272b8d3c",
   "metadata": {
    "scrolled": true
   },
   "outputs": [
    {
     "data": {
      "application/vnd.microsoft.datawrangler.viewer.v0+json": {
       "columns": [
        {
         "name": "index",
         "rawType": "int64",
         "type": "integer"
        },
        {
         "name": "Date",
         "rawType": "object",
         "type": "string"
        },
        {
         "name": "Trade",
         "rawType": "object",
         "type": "string"
        },
        {
         "name": "Free Trade Agreement",
         "rawType": "object",
         "type": "string"
        },
        {
         "name": "Product",
         "rawType": "object",
         "type": "string"
        },
        {
         "name": "Coordinate",
         "rawType": "object",
         "type": "string"
        },
        {
         "name": "Value",
         "rawType": "float64",
         "type": "float"
        }
       ],
       "conversionMethod": "pd.DataFrame",
       "ref": "50156488-532a-48b0-8adf-dc74c70d5336",
       "rows": [
        [
         "105",
         "1988-01",
         "Import",
         "Total of all countries",
         "Passenger cars and light trucks [C191]",
         "1.1.1.106",
         "829286.8"
        ],
        [
         "106",
         "1988-01",
         "Import",
         "Total of all countries",
         "Passenger cars and light trucks [411]",
         "1.1.1.107",
         "829286.8"
        ],
        [
         "5205",
         "1988-01",
         "Export",
         "Total of all countries",
         "Passenger cars and light trucks [C191]",
         "1.2.1.106",
         "1668955.1"
        ],
        [
         "5206",
         "1988-01",
         "Export",
         "Total of all countries",
         "Passenger cars and light trucks [411]",
         "1.2.1.107",
         "1668955.1"
        ],
        [
         "10305",
         "1988-02",
         "Import",
         "Total of all countries",
         "Passenger cars and light trucks [C191]",
         "1.1.1.106",
         "1428949.5"
        ],
        [
         "10306",
         "1988-02",
         "Import",
         "Total of all countries",
         "Passenger cars and light trucks [411]",
         "1.1.1.107",
         "1428949.5"
        ],
        [
         "15405",
         "1988-02",
         "Export",
         "Total of all countries",
         "Passenger cars and light trucks [C191]",
         "1.2.1.106",
         "2185848.1"
        ],
        [
         "15406",
         "1988-02",
         "Export",
         "Total of all countries",
         "Passenger cars and light trucks [411]",
         "1.2.1.107",
         "2185848.1"
        ],
        [
         "20505",
         "1988-03",
         "Import",
         "Total of all countries",
         "Passenger cars and light trucks [C191]",
         "1.1.1.106",
         "1333600.4"
        ],
        [
         "20506",
         "1988-03",
         "Import",
         "Total of all countries",
         "Passenger cars and light trucks [411]",
         "1.1.1.107",
         "1333600.4"
        ]
       ],
       "shape": {
        "columns": 6,
        "rows": 10
       }
      },
      "text/html": [
       "<div>\n",
       "<style scoped>\n",
       "    .dataframe tbody tr th:only-of-type {\n",
       "        vertical-align: middle;\n",
       "    }\n",
       "\n",
       "    .dataframe tbody tr th {\n",
       "        vertical-align: top;\n",
       "    }\n",
       "\n",
       "    .dataframe thead th {\n",
       "        text-align: right;\n",
       "    }\n",
       "</style>\n",
       "<table border=\"1\" class=\"dataframe\">\n",
       "  <thead>\n",
       "    <tr style=\"text-align: right;\">\n",
       "      <th></th>\n",
       "      <th>Date</th>\n",
       "      <th>Trade</th>\n",
       "      <th>Free Trade Agreement</th>\n",
       "      <th>Product</th>\n",
       "      <th>Coordinate</th>\n",
       "      <th>Value</th>\n",
       "    </tr>\n",
       "  </thead>\n",
       "  <tbody>\n",
       "    <tr>\n",
       "      <th>105</th>\n",
       "      <td>1988-01</td>\n",
       "      <td>Import</td>\n",
       "      <td>Total of all countries</td>\n",
       "      <td>Passenger cars and light trucks [C191]</td>\n",
       "      <td>1.1.1.106</td>\n",
       "      <td>829286.8</td>\n",
       "    </tr>\n",
       "    <tr>\n",
       "      <th>106</th>\n",
       "      <td>1988-01</td>\n",
       "      <td>Import</td>\n",
       "      <td>Total of all countries</td>\n",
       "      <td>Passenger cars and light trucks [411]</td>\n",
       "      <td>1.1.1.107</td>\n",
       "      <td>829286.8</td>\n",
       "    </tr>\n",
       "    <tr>\n",
       "      <th>5205</th>\n",
       "      <td>1988-01</td>\n",
       "      <td>Export</td>\n",
       "      <td>Total of all countries</td>\n",
       "      <td>Passenger cars and light trucks [C191]</td>\n",
       "      <td>1.2.1.106</td>\n",
       "      <td>1668955.1</td>\n",
       "    </tr>\n",
       "    <tr>\n",
       "      <th>5206</th>\n",
       "      <td>1988-01</td>\n",
       "      <td>Export</td>\n",
       "      <td>Total of all countries</td>\n",
       "      <td>Passenger cars and light trucks [411]</td>\n",
       "      <td>1.2.1.107</td>\n",
       "      <td>1668955.1</td>\n",
       "    </tr>\n",
       "    <tr>\n",
       "      <th>10305</th>\n",
       "      <td>1988-02</td>\n",
       "      <td>Import</td>\n",
       "      <td>Total of all countries</td>\n",
       "      <td>Passenger cars and light trucks [C191]</td>\n",
       "      <td>1.1.1.106</td>\n",
       "      <td>1428949.5</td>\n",
       "    </tr>\n",
       "    <tr>\n",
       "      <th>10306</th>\n",
       "      <td>1988-02</td>\n",
       "      <td>Import</td>\n",
       "      <td>Total of all countries</td>\n",
       "      <td>Passenger cars and light trucks [411]</td>\n",
       "      <td>1.1.1.107</td>\n",
       "      <td>1428949.5</td>\n",
       "    </tr>\n",
       "    <tr>\n",
       "      <th>15405</th>\n",
       "      <td>1988-02</td>\n",
       "      <td>Export</td>\n",
       "      <td>Total of all countries</td>\n",
       "      <td>Passenger cars and light trucks [C191]</td>\n",
       "      <td>1.2.1.106</td>\n",
       "      <td>2185848.1</td>\n",
       "    </tr>\n",
       "    <tr>\n",
       "      <th>15406</th>\n",
       "      <td>1988-02</td>\n",
       "      <td>Export</td>\n",
       "      <td>Total of all countries</td>\n",
       "      <td>Passenger cars and light trucks [411]</td>\n",
       "      <td>1.2.1.107</td>\n",
       "      <td>2185848.1</td>\n",
       "    </tr>\n",
       "    <tr>\n",
       "      <th>20505</th>\n",
       "      <td>1988-03</td>\n",
       "      <td>Import</td>\n",
       "      <td>Total of all countries</td>\n",
       "      <td>Passenger cars and light trucks [C191]</td>\n",
       "      <td>1.1.1.106</td>\n",
       "      <td>1333600.4</td>\n",
       "    </tr>\n",
       "    <tr>\n",
       "      <th>20506</th>\n",
       "      <td>1988-03</td>\n",
       "      <td>Import</td>\n",
       "      <td>Total of all countries</td>\n",
       "      <td>Passenger cars and light trucks [411]</td>\n",
       "      <td>1.1.1.107</td>\n",
       "      <td>1333600.4</td>\n",
       "    </tr>\n",
       "  </tbody>\n",
       "</table>\n",
       "</div>"
      ],
      "text/plain": [
       "          Date   Trade    Free Trade Agreement  \\\n",
       "105    1988-01  Import  Total of all countries   \n",
       "106    1988-01  Import  Total of all countries   \n",
       "5205   1988-01  Export  Total of all countries   \n",
       "5206   1988-01  Export  Total of all countries   \n",
       "10305  1988-02  Import  Total of all countries   \n",
       "10306  1988-02  Import  Total of all countries   \n",
       "15405  1988-02  Export  Total of all countries   \n",
       "15406  1988-02  Export  Total of all countries   \n",
       "20505  1988-03  Import  Total of all countries   \n",
       "20506  1988-03  Import  Total of all countries   \n",
       "\n",
       "                                      Product Coordinate      Value  \n",
       "105    Passenger cars and light trucks [C191]  1.1.1.106   829286.8  \n",
       "106     Passenger cars and light trucks [411]  1.1.1.107   829286.8  \n",
       "5205   Passenger cars and light trucks [C191]  1.2.1.106  1668955.1  \n",
       "5206    Passenger cars and light trucks [411]  1.2.1.107  1668955.1  \n",
       "10305  Passenger cars and light trucks [C191]  1.1.1.106  1428949.5  \n",
       "10306   Passenger cars and light trucks [411]  1.1.1.107  1428949.5  \n",
       "15405  Passenger cars and light trucks [C191]  1.2.1.106  2185848.1  \n",
       "15406   Passenger cars and light trucks [411]  1.2.1.107  2185848.1  \n",
       "20505  Passenger cars and light trucks [C191]  1.1.1.106  1333600.4  \n",
       "20506   Passenger cars and light trucks [411]  1.1.1.107  1333600.4  "
      ]
     },
     "execution_count": 8,
     "metadata": {},
     "output_type": "execute_result"
    }
   ],
   "source": [
    "# Filter the data to include only the specified products and FTA as 'Total of all countries'\n",
    "filtered_data = df_clean[\n",
    "    df_clean[\"Product\"].isin(\n",
    "        [\n",
    "            \"Passenger cars and light trucks [C191]\",\n",
    "            \"Passenger cars and light trucks [411]\",\n",
    "        ]\n",
    "    )\n",
    "    & (df_clean[\"Free Trade Agreement\"] == \"Total of all countries\")\n",
    "]\n",
    "\n",
    "# Display the first few rows of the filtered data\n",
    "filtered_data.head(10)"
   ]
  },
  {
   "cell_type": "code",
   "execution_count": 9,
   "id": "4ea9e2fc-bc09-47de-8e92-e1ac77e2edc9",
   "metadata": {},
   "outputs": [
    {
     "data": {
      "application/vnd.microsoft.datawrangler.viewer.v0+json": {
       "columns": [
        {
         "name": "index",
         "rawType": "int64",
         "type": "integer"
        },
        {
         "name": "Date",
         "rawType": "object",
         "type": "string"
        },
        {
         "name": "Trade",
         "rawType": "object",
         "type": "string"
        },
        {
         "name": "Free Trade Agreement",
         "rawType": "object",
         "type": "string"
        },
        {
         "name": "Coordinate",
         "rawType": "object",
         "type": "string"
        },
        {
         "name": "Value",
         "rawType": "float64",
         "type": "float"
        },
        {
         "name": "Description",
         "rawType": "object",
         "type": "string"
        }
       ],
       "conversionMethod": "pd.DataFrame",
       "ref": "db4e5f48-3c74-4e7c-bf39-ecee44f4a595",
       "rows": [
        [
         "0",
         "1988-01",
         "Import",
         "Total of all countries",
         "1.1.1.1",
         "12417833.7",
         "Total of all merchandise"
        ],
        [
         "1",
         "1988-01",
         "Import",
         "Total of all countries",
         "1.1.1.2",
         "438401.8",
         "Farm, fishing and intermediate food products"
        ],
        [
         "2",
         "1988-01",
         "Import",
         "Total of all countries",
         "1.1.1.3",
         "374211.3",
         "Farm and fishing products"
        ],
        [
         "3",
         "1988-01",
         "Import",
         "Total of all countries",
         "1.1.1.4",
         "11592.8",
         "Live animals"
        ],
        [
         "4",
         "1988-01",
         "Import",
         "Total of all countries",
         "1.1.1.5",
         "0.3",
         "Wheat"
        ]
       ],
       "shape": {
        "columns": 6,
        "rows": 5
       }
      },
      "text/html": [
       "<div>\n",
       "<style scoped>\n",
       "    .dataframe tbody tr th:only-of-type {\n",
       "        vertical-align: middle;\n",
       "    }\n",
       "\n",
       "    .dataframe tbody tr th {\n",
       "        vertical-align: top;\n",
       "    }\n",
       "\n",
       "    .dataframe thead th {\n",
       "        text-align: right;\n",
       "    }\n",
       "</style>\n",
       "<table border=\"1\" class=\"dataframe\">\n",
       "  <thead>\n",
       "    <tr style=\"text-align: right;\">\n",
       "      <th></th>\n",
       "      <th>Date</th>\n",
       "      <th>Trade</th>\n",
       "      <th>Free Trade Agreement</th>\n",
       "      <th>Coordinate</th>\n",
       "      <th>Value</th>\n",
       "      <th>Description</th>\n",
       "    </tr>\n",
       "  </thead>\n",
       "  <tbody>\n",
       "    <tr>\n",
       "      <th>0</th>\n",
       "      <td>1988-01</td>\n",
       "      <td>Import</td>\n",
       "      <td>Total of all countries</td>\n",
       "      <td>1.1.1.1</td>\n",
       "      <td>12417833.7</td>\n",
       "      <td>Total of all merchandise</td>\n",
       "    </tr>\n",
       "    <tr>\n",
       "      <th>1</th>\n",
       "      <td>1988-01</td>\n",
       "      <td>Import</td>\n",
       "      <td>Total of all countries</td>\n",
       "      <td>1.1.1.2</td>\n",
       "      <td>438401.8</td>\n",
       "      <td>Farm, fishing and intermediate food products</td>\n",
       "    </tr>\n",
       "    <tr>\n",
       "      <th>2</th>\n",
       "      <td>1988-01</td>\n",
       "      <td>Import</td>\n",
       "      <td>Total of all countries</td>\n",
       "      <td>1.1.1.3</td>\n",
       "      <td>374211.3</td>\n",
       "      <td>Farm and fishing products</td>\n",
       "    </tr>\n",
       "    <tr>\n",
       "      <th>3</th>\n",
       "      <td>1988-01</td>\n",
       "      <td>Import</td>\n",
       "      <td>Total of all countries</td>\n",
       "      <td>1.1.1.4</td>\n",
       "      <td>11592.8</td>\n",
       "      <td>Live animals</td>\n",
       "    </tr>\n",
       "    <tr>\n",
       "      <th>4</th>\n",
       "      <td>1988-01</td>\n",
       "      <td>Import</td>\n",
       "      <td>Total of all countries</td>\n",
       "      <td>1.1.1.5</td>\n",
       "      <td>0.3</td>\n",
       "      <td>Wheat</td>\n",
       "    </tr>\n",
       "  </tbody>\n",
       "</table>\n",
       "</div>"
      ],
      "text/plain": [
       "      Date   Trade    Free Trade Agreement Coordinate       Value  \\\n",
       "0  1988-01  Import  Total of all countries    1.1.1.1  12417833.7   \n",
       "1  1988-01  Import  Total of all countries    1.1.1.2    438401.8   \n",
       "2  1988-01  Import  Total of all countries    1.1.1.3    374211.3   \n",
       "3  1988-01  Import  Total of all countries    1.1.1.4     11592.8   \n",
       "4  1988-01  Import  Total of all countries    1.1.1.5         0.3   \n",
       "\n",
       "                                    Description  \n",
       "0                      Total of all merchandise  \n",
       "1  Farm, fishing and intermediate food products  \n",
       "2                     Farm and fishing products  \n",
       "3                                  Live animals  \n",
       "4                                         Wheat  "
      ]
     },
     "execution_count": 9,
     "metadata": {},
     "output_type": "execute_result"
    }
   ],
   "source": [
    "# Remove the codes from the Product names (text inside brackets)\n",
    "df_clean[\"Description\"] = df_clean[\"Product\"].apply(\n",
    "    lambda x: re.sub(r\"\\[.*?\\]\", \"\", x).strip()\n",
    ")\n",
    "\n",
    "# Drop the 'Product' column\n",
    "df_clean = df_clean.drop(columns=[\"Product\"])\n",
    "df_clean.head()"
   ]
  },
  {
   "cell_type": "code",
   "execution_count": 10,
   "id": "5fef1f8a-0ce5-4a53-9ced-f24543b8d51b",
   "metadata": {
    "scrolled": true
   },
   "outputs": [
    {
     "data": {
      "application/vnd.microsoft.datawrangler.viewer.v0+json": {
       "columns": [
        {
         "name": "index",
         "rawType": "int64",
         "type": "integer"
        },
        {
         "name": "Date",
         "rawType": "object",
         "type": "string"
        },
        {
         "name": "Trade",
         "rawType": "object",
         "type": "string"
        },
        {
         "name": "Free Trade Agreement",
         "rawType": "object",
         "type": "string"
        },
        {
         "name": "Coordinate",
         "rawType": "object",
         "type": "string"
        },
        {
         "name": "Value",
         "rawType": "float64",
         "type": "float"
        },
        {
         "name": "Description",
         "rawType": "object",
         "type": "string"
        }
       ],
       "conversionMethod": "pd.DataFrame",
       "ref": "3a14f3f0-7ad7-44b2-971a-e218736f722c",
       "rows": [
        [
         "105",
         "1988-01",
         "Import",
         "Total of all countries",
         "1.1.1.106",
         "829286.8",
         "Passenger cars and light trucks"
        ],
        [
         "5205",
         "1988-01",
         "Export",
         "Total of all countries",
         "1.2.1.106",
         "1668955.1",
         "Passenger cars and light trucks"
        ],
        [
         "10305",
         "1988-02",
         "Import",
         "Total of all countries",
         "1.1.1.106",
         "1428949.5",
         "Passenger cars and light trucks"
        ],
        [
         "15405",
         "1988-02",
         "Export",
         "Total of all countries",
         "1.2.1.106",
         "2185848.1",
         "Passenger cars and light trucks"
        ],
        [
         "20505",
         "1988-03",
         "Import",
         "Total of all countries",
         "1.1.1.106",
         "1333600.4",
         "Passenger cars and light trucks"
        ],
        [
         "25605",
         "1988-03",
         "Export",
         "Total of all countries",
         "1.2.1.106",
         "2099962.4",
         "Passenger cars and light trucks"
        ],
        [
         "30705",
         "1988-04",
         "Import",
         "Total of all countries",
         "1.1.1.106",
         "1405613.7",
         "Passenger cars and light trucks"
        ],
        [
         "35805",
         "1988-04",
         "Export",
         "Total of all countries",
         "1.2.1.106",
         "2111173.4",
         "Passenger cars and light trucks"
        ],
        [
         "40905",
         "1988-05",
         "Import",
         "Total of all countries",
         "1.1.1.106",
         "1408191.8",
         "Passenger cars and light trucks"
        ],
        [
         "46005",
         "1988-05",
         "Export",
         "Total of all countries",
         "1.2.1.106",
         "2113811.4",
         "Passenger cars and light trucks"
        ]
       ],
       "shape": {
        "columns": 6,
        "rows": 10
       }
      },
      "text/html": [
       "<div>\n",
       "<style scoped>\n",
       "    .dataframe tbody tr th:only-of-type {\n",
       "        vertical-align: middle;\n",
       "    }\n",
       "\n",
       "    .dataframe tbody tr th {\n",
       "        vertical-align: top;\n",
       "    }\n",
       "\n",
       "    .dataframe thead th {\n",
       "        text-align: right;\n",
       "    }\n",
       "</style>\n",
       "<table border=\"1\" class=\"dataframe\">\n",
       "  <thead>\n",
       "    <tr style=\"text-align: right;\">\n",
       "      <th></th>\n",
       "      <th>Date</th>\n",
       "      <th>Trade</th>\n",
       "      <th>Free Trade Agreement</th>\n",
       "      <th>Coordinate</th>\n",
       "      <th>Value</th>\n",
       "      <th>Description</th>\n",
       "    </tr>\n",
       "  </thead>\n",
       "  <tbody>\n",
       "    <tr>\n",
       "      <th>105</th>\n",
       "      <td>1988-01</td>\n",
       "      <td>Import</td>\n",
       "      <td>Total of all countries</td>\n",
       "      <td>1.1.1.106</td>\n",
       "      <td>829286.8</td>\n",
       "      <td>Passenger cars and light trucks</td>\n",
       "    </tr>\n",
       "    <tr>\n",
       "      <th>5205</th>\n",
       "      <td>1988-01</td>\n",
       "      <td>Export</td>\n",
       "      <td>Total of all countries</td>\n",
       "      <td>1.2.1.106</td>\n",
       "      <td>1668955.1</td>\n",
       "      <td>Passenger cars and light trucks</td>\n",
       "    </tr>\n",
       "    <tr>\n",
       "      <th>10305</th>\n",
       "      <td>1988-02</td>\n",
       "      <td>Import</td>\n",
       "      <td>Total of all countries</td>\n",
       "      <td>1.1.1.106</td>\n",
       "      <td>1428949.5</td>\n",
       "      <td>Passenger cars and light trucks</td>\n",
       "    </tr>\n",
       "    <tr>\n",
       "      <th>15405</th>\n",
       "      <td>1988-02</td>\n",
       "      <td>Export</td>\n",
       "      <td>Total of all countries</td>\n",
       "      <td>1.2.1.106</td>\n",
       "      <td>2185848.1</td>\n",
       "      <td>Passenger cars and light trucks</td>\n",
       "    </tr>\n",
       "    <tr>\n",
       "      <th>20505</th>\n",
       "      <td>1988-03</td>\n",
       "      <td>Import</td>\n",
       "      <td>Total of all countries</td>\n",
       "      <td>1.1.1.106</td>\n",
       "      <td>1333600.4</td>\n",
       "      <td>Passenger cars and light trucks</td>\n",
       "    </tr>\n",
       "    <tr>\n",
       "      <th>25605</th>\n",
       "      <td>1988-03</td>\n",
       "      <td>Export</td>\n",
       "      <td>Total of all countries</td>\n",
       "      <td>1.2.1.106</td>\n",
       "      <td>2099962.4</td>\n",
       "      <td>Passenger cars and light trucks</td>\n",
       "    </tr>\n",
       "    <tr>\n",
       "      <th>30705</th>\n",
       "      <td>1988-04</td>\n",
       "      <td>Import</td>\n",
       "      <td>Total of all countries</td>\n",
       "      <td>1.1.1.106</td>\n",
       "      <td>1405613.7</td>\n",
       "      <td>Passenger cars and light trucks</td>\n",
       "    </tr>\n",
       "    <tr>\n",
       "      <th>35805</th>\n",
       "      <td>1988-04</td>\n",
       "      <td>Export</td>\n",
       "      <td>Total of all countries</td>\n",
       "      <td>1.2.1.106</td>\n",
       "      <td>2111173.4</td>\n",
       "      <td>Passenger cars and light trucks</td>\n",
       "    </tr>\n",
       "    <tr>\n",
       "      <th>40905</th>\n",
       "      <td>1988-05</td>\n",
       "      <td>Import</td>\n",
       "      <td>Total of all countries</td>\n",
       "      <td>1.1.1.106</td>\n",
       "      <td>1408191.8</td>\n",
       "      <td>Passenger cars and light trucks</td>\n",
       "    </tr>\n",
       "    <tr>\n",
       "      <th>46005</th>\n",
       "      <td>1988-05</td>\n",
       "      <td>Export</td>\n",
       "      <td>Total of all countries</td>\n",
       "      <td>1.2.1.106</td>\n",
       "      <td>2113811.4</td>\n",
       "      <td>Passenger cars and light trucks</td>\n",
       "    </tr>\n",
       "  </tbody>\n",
       "</table>\n",
       "</div>"
      ],
      "text/plain": [
       "          Date   Trade    Free Trade Agreement Coordinate      Value  \\\n",
       "105    1988-01  Import  Total of all countries  1.1.1.106   829286.8   \n",
       "5205   1988-01  Export  Total of all countries  1.2.1.106  1668955.1   \n",
       "10305  1988-02  Import  Total of all countries  1.1.1.106  1428949.5   \n",
       "15405  1988-02  Export  Total of all countries  1.2.1.106  2185848.1   \n",
       "20505  1988-03  Import  Total of all countries  1.1.1.106  1333600.4   \n",
       "25605  1988-03  Export  Total of all countries  1.2.1.106  2099962.4   \n",
       "30705  1988-04  Import  Total of all countries  1.1.1.106  1405613.7   \n",
       "35805  1988-04  Export  Total of all countries  1.2.1.106  2111173.4   \n",
       "40905  1988-05  Import  Total of all countries  1.1.1.106  1408191.8   \n",
       "46005  1988-05  Export  Total of all countries  1.2.1.106  2113811.4   \n",
       "\n",
       "                           Description  \n",
       "105    Passenger cars and light trucks  \n",
       "5205   Passenger cars and light trucks  \n",
       "10305  Passenger cars and light trucks  \n",
       "15405  Passenger cars and light trucks  \n",
       "20505  Passenger cars and light trucks  \n",
       "25605  Passenger cars and light trucks  \n",
       "30705  Passenger cars and light trucks  \n",
       "35805  Passenger cars and light trucks  \n",
       "40905  Passenger cars and light trucks  \n",
       "46005  Passenger cars and light trucks  "
      ]
     },
     "execution_count": 10,
     "metadata": {},
     "output_type": "execute_result"
    }
   ],
   "source": [
    "# Remove duplicate rows without aggregation\n",
    "df_clean = df_clean.drop_duplicates(\n",
    "    subset=[\"Date\", \"Description\", \"Value\", \"Free Trade Agreement\", \"Trade\"]\n",
    ")\n",
    "\n",
    "# Filter the data to include only the specified products and FTA as 'Total of all countries'\n",
    "filtered_data = df_clean[\n",
    "    df_clean[\"Description\"].isin([\"Passenger cars and light trucks\"])\n",
    "    & (df_clean[\"Free Trade Agreement\"] == \"Total of all countries\")\n",
    "]\n",
    "\n",
    "# Display the first few rows of the filtered data\n",
    "filtered_data.head(10)"
   ]
  },
  {
   "cell_type": "code",
   "execution_count": 11,
   "id": "bb967dcf-8c78-405d-9f69-b34dddb7b334",
   "metadata": {
    "scrolled": true
   },
   "outputs": [
    {
     "data": {
      "application/vnd.microsoft.datawrangler.viewer.v0+json": {
       "columns": [
        {
         "name": "index",
         "rawType": "int64",
         "type": "integer"
        },
        {
         "name": "Date",
         "rawType": "object",
         "type": "string"
        },
        {
         "name": "Free Trade Agreement",
         "rawType": "object",
         "type": "string"
        },
        {
         "name": "Description",
         "rawType": "object",
         "type": "string"
        },
        {
         "name": "Trade",
         "rawType": "object",
         "type": "string"
        },
        {
         "name": "Value",
         "rawType": "float64",
         "type": "float"
        }
       ],
       "conversionMethod": "pd.DataFrame",
       "ref": "24d2121d-84ba-4342-b183-76d53160851e",
       "rows": [
        [
         "8576",
         "1988-01",
         "Total of all countries",
         "Passenger cars and light trucks",
         "Export",
         "1668955.1"
        ],
        [
         "8577",
         "1988-01",
         "Total of all countries",
         "Passenger cars and light trucks",
         "Import",
         "829286.8"
        ],
        [
         "17484",
         "1988-02",
         "Total of all countries",
         "Passenger cars and light trucks",
         "Export",
         "2185848.1"
        ],
        [
         "17485",
         "1988-02",
         "Total of all countries",
         "Passenger cars and light trucks",
         "Import",
         "1428949.5"
        ],
        [
         "26392",
         "1988-03",
         "Total of all countries",
         "Passenger cars and light trucks",
         "Export",
         "2099962.4"
        ],
        [
         "26393",
         "1988-03",
         "Total of all countries",
         "Passenger cars and light trucks",
         "Import",
         "1333600.4"
        ],
        [
         "35300",
         "1988-04",
         "Total of all countries",
         "Passenger cars and light trucks",
         "Export",
         "2111173.4"
        ],
        [
         "35301",
         "1988-04",
         "Total of all countries",
         "Passenger cars and light trucks",
         "Import",
         "1405613.7"
        ],
        [
         "44208",
         "1988-05",
         "Total of all countries",
         "Passenger cars and light trucks",
         "Export",
         "2113811.4"
        ],
        [
         "44209",
         "1988-05",
         "Total of all countries",
         "Passenger cars and light trucks",
         "Import",
         "1408191.8"
        ]
       ],
       "shape": {
        "columns": 5,
        "rows": 10
       }
      },
      "text/html": [
       "<div>\n",
       "<style scoped>\n",
       "    .dataframe tbody tr th:only-of-type {\n",
       "        vertical-align: middle;\n",
       "    }\n",
       "\n",
       "    .dataframe tbody tr th {\n",
       "        vertical-align: top;\n",
       "    }\n",
       "\n",
       "    .dataframe thead th {\n",
       "        text-align: right;\n",
       "    }\n",
       "</style>\n",
       "<table border=\"1\" class=\"dataframe\">\n",
       "  <thead>\n",
       "    <tr style=\"text-align: right;\">\n",
       "      <th></th>\n",
       "      <th>Date</th>\n",
       "      <th>Free Trade Agreement</th>\n",
       "      <th>Description</th>\n",
       "      <th>Trade</th>\n",
       "      <th>Value</th>\n",
       "    </tr>\n",
       "  </thead>\n",
       "  <tbody>\n",
       "    <tr>\n",
       "      <th>8576</th>\n",
       "      <td>1988-01</td>\n",
       "      <td>Total of all countries</td>\n",
       "      <td>Passenger cars and light trucks</td>\n",
       "      <td>Export</td>\n",
       "      <td>1668955.1</td>\n",
       "    </tr>\n",
       "    <tr>\n",
       "      <th>8577</th>\n",
       "      <td>1988-01</td>\n",
       "      <td>Total of all countries</td>\n",
       "      <td>Passenger cars and light trucks</td>\n",
       "      <td>Import</td>\n",
       "      <td>829286.8</td>\n",
       "    </tr>\n",
       "    <tr>\n",
       "      <th>17484</th>\n",
       "      <td>1988-02</td>\n",
       "      <td>Total of all countries</td>\n",
       "      <td>Passenger cars and light trucks</td>\n",
       "      <td>Export</td>\n",
       "      <td>2185848.1</td>\n",
       "    </tr>\n",
       "    <tr>\n",
       "      <th>17485</th>\n",
       "      <td>1988-02</td>\n",
       "      <td>Total of all countries</td>\n",
       "      <td>Passenger cars and light trucks</td>\n",
       "      <td>Import</td>\n",
       "      <td>1428949.5</td>\n",
       "    </tr>\n",
       "    <tr>\n",
       "      <th>26392</th>\n",
       "      <td>1988-03</td>\n",
       "      <td>Total of all countries</td>\n",
       "      <td>Passenger cars and light trucks</td>\n",
       "      <td>Export</td>\n",
       "      <td>2099962.4</td>\n",
       "    </tr>\n",
       "    <tr>\n",
       "      <th>26393</th>\n",
       "      <td>1988-03</td>\n",
       "      <td>Total of all countries</td>\n",
       "      <td>Passenger cars and light trucks</td>\n",
       "      <td>Import</td>\n",
       "      <td>1333600.4</td>\n",
       "    </tr>\n",
       "    <tr>\n",
       "      <th>35300</th>\n",
       "      <td>1988-04</td>\n",
       "      <td>Total of all countries</td>\n",
       "      <td>Passenger cars and light trucks</td>\n",
       "      <td>Export</td>\n",
       "      <td>2111173.4</td>\n",
       "    </tr>\n",
       "    <tr>\n",
       "      <th>35301</th>\n",
       "      <td>1988-04</td>\n",
       "      <td>Total of all countries</td>\n",
       "      <td>Passenger cars and light trucks</td>\n",
       "      <td>Import</td>\n",
       "      <td>1405613.7</td>\n",
       "    </tr>\n",
       "    <tr>\n",
       "      <th>44208</th>\n",
       "      <td>1988-05</td>\n",
       "      <td>Total of all countries</td>\n",
       "      <td>Passenger cars and light trucks</td>\n",
       "      <td>Export</td>\n",
       "      <td>2113811.4</td>\n",
       "    </tr>\n",
       "    <tr>\n",
       "      <th>44209</th>\n",
       "      <td>1988-05</td>\n",
       "      <td>Total of all countries</td>\n",
       "      <td>Passenger cars and light trucks</td>\n",
       "      <td>Import</td>\n",
       "      <td>1408191.8</td>\n",
       "    </tr>\n",
       "  </tbody>\n",
       "</table>\n",
       "</div>"
      ],
      "text/plain": [
       "          Date    Free Trade Agreement                      Description  \\\n",
       "8576   1988-01  Total of all countries  Passenger cars and light trucks   \n",
       "8577   1988-01  Total of all countries  Passenger cars and light trucks   \n",
       "17484  1988-02  Total of all countries  Passenger cars and light trucks   \n",
       "17485  1988-02  Total of all countries  Passenger cars and light trucks   \n",
       "26392  1988-03  Total of all countries  Passenger cars and light trucks   \n",
       "26393  1988-03  Total of all countries  Passenger cars and light trucks   \n",
       "35300  1988-04  Total of all countries  Passenger cars and light trucks   \n",
       "35301  1988-04  Total of all countries  Passenger cars and light trucks   \n",
       "44208  1988-05  Total of all countries  Passenger cars and light trucks   \n",
       "44209  1988-05  Total of all countries  Passenger cars and light trucks   \n",
       "\n",
       "        Trade      Value  \n",
       "8576   Export  1668955.1  \n",
       "8577   Import   829286.8  \n",
       "17484  Export  2185848.1  \n",
       "17485  Import  1428949.5  \n",
       "26392  Export  2099962.4  \n",
       "26393  Import  1333600.4  \n",
       "35300  Export  2111173.4  \n",
       "35301  Import  1405613.7  \n",
       "44208  Export  2113811.4  \n",
       "44209  Import  1408191.8  "
      ]
     },
     "execution_count": 11,
     "metadata": {},
     "output_type": "execute_result"
    }
   ],
   "source": [
    "# Group by 'Date', 'Free Trade Agreement', 'Description', and 'Trade' and sum the 'Value' column\n",
    "df_clean = df_clean.groupby(\n",
    "    [\"Date\", \"Free Trade Agreement\", \"Description\", \"Trade\"], as_index=False\n",
    ")[\"Value\"].sum()\n",
    "\n",
    "# Filter the data to include only the specified products and FTA as 'Total of all countries'\n",
    "filtered_data = df_clean[\n",
    "    df_clean[\"Description\"].isin([\"Passenger cars and light trucks\"])\n",
    "    & (df_clean[\"Free Trade Agreement\"] == \"Total of all countries\")\n",
    "]\n",
    "\n",
    "# Display the first few rows of the filtered data\n",
    "filtered_data.head(10)"
   ]
  },
  {
   "cell_type": "markdown",
   "id": "4cfd380e",
   "metadata": {},
   "source": [
    "### Dropping CUSMA duplicates"
   ]
  },
  {
   "cell_type": "code",
   "execution_count": 12,
   "id": "12179586",
   "metadata": {
    "scrolled": true
   },
   "outputs": [
    {
     "data": {
      "text/plain": [
       "array(['Canada-ASEAN Free Trade Agreement, discussions',\n",
       "       'Canada-Caribbean Community Trade Agreement, negotiations',\n",
       "       'Canada-Chile Free Trade Agreement, in force from 1997/07 to present',\n",
       "       'Canada-China Free Trade Agreement, discussions',\n",
       "       'Canada-Colombia Free Trade Agreement, in force from 2011/08 to present',\n",
       "       'Canada-Costa Rica Free Trade Agreement, in force from 2002/11 to present',\n",
       "       'Canada-Dominican Republic Free Trade Agreement, negotiations',\n",
       "       'Canada-European Free Trade Association (EFTA) Free Trade Agreement, in force from 2009/07 to present',\n",
       "       'Canada-European Union: Comprehensive Economic and Trade Agreement (CETA), in force from 2017/09 to present',\n",
       "       'Canada-Guatemala, Nicaragua and El Salvador Free Trade Agreement, negotiations',\n",
       "       'Canada-Honduras Free Trade Agreement, in force from 2014/10 to present',\n",
       "       'Canada-India Comprehensive Economic Partnership Agreement, negotiations',\n",
       "       'Canada-Indonesia Comprehensive Economic Partnership Agreement, negotiations',\n",
       "       'Canada-Israel Free Trade Agreement (CIFTA), in force from 1997/01 to present',\n",
       "       'Canada-Japan Economic Partnership Agreement, negotiations',\n",
       "       'Canada-Jordan Free Trade Agreement, in force from 2012/10 to present',\n",
       "       'Canada-Korea Free Trade Agreement (CKFTA), in force from 2015/01 to present',\n",
       "       'Canada-Mercosur Free Trade Agreement, negotiations',\n",
       "       'Canada-Morocco Free Trade Agreement, negotiations',\n",
       "       'Canada-Pacific Alliance Free Trade Agreement, negotiations',\n",
       "       'Canada-Panama Free Trade Agreement, in force from 2013/04 to present',\n",
       "       'Canada-Peru Free Trade Agreement, in force from 2009/08 to present',\n",
       "       'Canada-Philippines Free Trade Agreement, discussions',\n",
       "       'Canada-Singapore Free Trade Agreement, negotiations',\n",
       "       'Canada-Thailand Free Trade Agreement, discussions',\n",
       "       'Canada-Türkiye Free Trade Agreement, discussions',\n",
       "       'Canada-U.S. Free Trade Agreement (CUSFTA), superseded by NAFTA, in force from 1989/01 to 1993/12',\n",
       "       'Canada-Ukraine Free Trade Agreement (CUFTA), in force from 2017/08 to present',\n",
       "       'Canada-United Kingdom Trade Continuity Agreement, signed',\n",
       "       'Canada-United States-Mexico Agreement (CUSMA), in force from 2020/07 to present',\n",
       "       'Comprehensive and Progressive Agreement for Trans-Pacific Partnership (CPTPP), in force from 2019/01 to present',\n",
       "       'North American Free Trade Agreement (NAFTA), superseded by CUSMA, in force from 1994/01 to 2020/06',\n",
       "       'Total of all countries',\n",
       "       'Trans-Pacific Partnership (TPP), signed'], dtype=object)"
      ]
     },
     "execution_count": 12,
     "metadata": {},
     "output_type": "execute_result"
    }
   ],
   "source": [
    "# Identyfing the different categories under 'Free Trade Agreement'\n",
    "df_clean[\"Free Trade Agreement\"].unique()"
   ]
  },
  {
   "cell_type": "code",
   "execution_count": 13,
   "id": "2c1b415b",
   "metadata": {
    "scrolled": true
   },
   "outputs": [
    {
     "data": {
      "text/plain": [
       "array(['Canada-ASEAN Free Trade Agreement, discussions',\n",
       "       'Canada-Caribbean Community Trade Agreement, negotiations',\n",
       "       'Canada-Chile Free Trade Agreement, in force from 1997/07 to present',\n",
       "       'Canada-China Free Trade Agreement, discussions',\n",
       "       'Canada-Colombia Free Trade Agreement, in force from 2011/08 to present',\n",
       "       'Canada-Costa Rica Free Trade Agreement, in force from 2002/11 to present',\n",
       "       'Canada-Dominican Republic Free Trade Agreement, negotiations',\n",
       "       'Canada-European Free Trade Association (EFTA) Free Trade Agreement, in force from 2009/07 to present',\n",
       "       'Canada-European Union: Comprehensive Economic and Trade Agreement (CETA), in force from 2017/09 to present',\n",
       "       'Canada-Guatemala, Nicaragua and El Salvador Free Trade Agreement, negotiations',\n",
       "       'Canada-Honduras Free Trade Agreement, in force from 2014/10 to present',\n",
       "       'Canada-India Comprehensive Economic Partnership Agreement, negotiations',\n",
       "       'Canada-Indonesia Comprehensive Economic Partnership Agreement, negotiations',\n",
       "       'Canada-Israel Free Trade Agreement (CIFTA), in force from 1997/01 to present',\n",
       "       'Canada-Japan Economic Partnership Agreement, negotiations',\n",
       "       'Canada-Jordan Free Trade Agreement, in force from 2012/10 to present',\n",
       "       'Canada-Korea Free Trade Agreement (CKFTA), in force from 2015/01 to present',\n",
       "       'Canada-Mercosur Free Trade Agreement, negotiations',\n",
       "       'Canada-Morocco Free Trade Agreement, negotiations',\n",
       "       'Canada-Pacific Alliance Free Trade Agreement, negotiations',\n",
       "       'Canada-Panama Free Trade Agreement, in force from 2013/04 to present',\n",
       "       'Canada-Peru Free Trade Agreement, in force from 2009/08 to present',\n",
       "       'Canada-Philippines Free Trade Agreement, discussions',\n",
       "       'Canada-Singapore Free Trade Agreement, negotiations',\n",
       "       'Canada-Thailand Free Trade Agreement, discussions',\n",
       "       'Canada-Türkiye Free Trade Agreement, discussions',\n",
       "       'Canada-U.S. Free Trade Agreement (CUSFTA), superseded by NAFTA, in force from 1989/01 to 1993/12',\n",
       "       'Canada-Ukraine Free Trade Agreement (CUFTA), in force from 2017/08 to present',\n",
       "       'Canada-United Kingdom Trade Continuity Agreement, signed',\n",
       "       'Comprehensive and Progressive Agreement for Trans-Pacific Partnership (CPTPP), in force from 2019/01 to present',\n",
       "       'Canada-United States-Mexico Agreement (CUSMA), preceeded by NAFTA',\n",
       "       'Total of all countries',\n",
       "       'Trans-Pacific Partnership (TPP), signed'], dtype=object)"
      ]
     },
     "execution_count": 13,
     "metadata": {},
     "output_type": "execute_result"
    }
   ],
   "source": [
    "# Drop 'Canada-United States-Mexico Agreement (CUSMA), in force from 2020/07 to present'\n",
    "df_clean = df_clean[df_clean[\"Free Trade Agreement\"] != 'Canada-United States-Mexico Agreement (CUSMA), in force from 2020/07 to present']\n",
    "\n",
    "# Change 'North American Free Trade Agreement (NAFTA), superseded by CUSMA, in force from 1994/01 to 2020/06' to 'Canada-United States-Mexico Agreement (CUSMA), preceeded by NAFTA'\n",
    "df_clean[\"Free Trade Agreement\"] = df_clean[\"Free Trade Agreement\"].replace(\n",
    "    'North American Free Trade Agreement (NAFTA), superseded by CUSMA, in force from 1994/01 to 2020/06',\n",
    "    'Canada-United States-Mexico Agreement (CUSMA), preceeded by NAFTA'\n",
    ")\n",
    "\n",
    "# Identify the rows with the specified 'Free Trade Agreement' values\n",
    "cusfta_rows = df_clean[df_clean[\"Free Trade Agreement\"] == 'Canada-U.S. Free Trade Agreement (CUSFTA), superseded by NAFTA, in force from 1989/01 to 1993/12']\n",
    "cusma_rows = df_clean[df_clean[\"Free Trade Agreement\"] == 'Canada-United States-Mexico Agreement (CUSMA), preceeded by NAFTA']\n",
    "\n",
    "# Find the common 'Value' between the two sets of rows\n",
    "common_values = cusfta_rows[cusfta_rows[\"Value\"].isin(cusma_rows[\"Value\"])]\n",
    "\n",
    "# Drop the rows with 'Canada-United States-Mexico Agreement (CUSMA), preceeded by NAFTA' that share the same 'Value'\n",
    "df_clean = df_clean[~((df_clean[\"Free Trade Agreement\"] == 'Canada-United States-Mexico Agreement (CUSMA), preceeded by NAFTA') & (df_clean[\"Value\"].isin(common_values[\"Value\"])))]\n",
    "\n",
    "# Display the updated unique values of 'Free Trade Agreement'\n",
    "df_clean[\"Free Trade Agreement\"].unique()\n"
   ]
  },
  {
   "cell_type": "markdown",
   "id": "1d734f41-3e77-4f81-9e0e-ae3fd0be9a7c",
   "metadata": {},
   "source": [
    "### Final touches"
   ]
  },
  {
   "cell_type": "code",
   "execution_count": 14,
   "id": "53b6b054",
   "metadata": {},
   "outputs": [],
   "source": [
    "# Drop rows where 'Description' is 'Total of all merchandise' or 'Free Trade Agreement' is 'Total of all countries'\n",
    "df_clean = df_clean[\n",
    "    (df_clean[\"Description\"] != \"Total of all merchandise\") &\n",
    "    (df_clean[\"Free Trade Agreement\"] != \"Total of all countries\")\n",
    "]"
   ]
  },
  {
   "cell_type": "code",
   "execution_count": 15,
   "id": "0392d2b9",
   "metadata": {},
   "outputs": [],
   "source": [
    "# Convert 'Value' to thousands\n",
    "df_clean['Value'] = df_clean['Value'] * 1000"
   ]
  },
  {
   "cell_type": "code",
   "execution_count": 16,
   "id": "7e531000-05f3-4c48-991f-eb9ca8f03dec",
   "metadata": {},
   "outputs": [
    {
     "data": {
      "text/plain": [
       "Date                    0\n",
       "Free Trade Agreement    0\n",
       "Description             0\n",
       "Trade                   0\n",
       "Value                   0\n",
       "dtype: int64"
      ]
     },
     "execution_count": 16,
     "metadata": {},
     "output_type": "execute_result"
    }
   ],
   "source": [
    "df_clean.isnull().sum()"
   ]
  },
  {
   "cell_type": "code",
   "execution_count": 17,
   "id": "7221025b-92d1-4cc7-8110-78e2ea8f19ca",
   "metadata": {},
   "outputs": [
    {
     "data": {
      "text/plain": [
       "(3664111, 5)"
      ]
     },
     "execution_count": 17,
     "metadata": {},
     "output_type": "execute_result"
    }
   ],
   "source": [
    "df_clean = df_clean.dropna()\n",
    "df_clean.shape"
   ]
  },
  {
   "cell_type": "code",
   "execution_count": 18,
   "id": "cd74983e",
   "metadata": {},
   "outputs": [
    {
     "data": {
      "text/plain": [
       "count    3.664111e+06\n",
       "mean     5.164507e+07\n",
       "std      3.346071e+08\n",
       "min      0.000000e+00\n",
       "25%      0.000000e+00\n",
       "50%      5.640000e+04\n",
       "75%      2.873800e+06\n",
       "max      2.042747e+10\n",
       "Name: Value, dtype: float64"
      ]
     },
     "execution_count": 18,
     "metadata": {},
     "output_type": "execute_result"
    }
   ],
   "source": [
    "df_clean[\"Value\"].describe()"
   ]
  },
  {
   "cell_type": "code",
   "execution_count": 19,
   "id": "ad3acaad-ee0c-44b0-ac19-8ef1eb4d3541",
   "metadata": {},
   "outputs": [
    {
     "data": {
      "application/vnd.microsoft.datawrangler.viewer.v0+json": {
       "columns": [
        {
         "name": "index",
         "rawType": "int64",
         "type": "integer"
        },
        {
         "name": "Date",
         "rawType": "object",
         "type": "string"
        },
        {
         "name": "Free Trade Agreement",
         "rawType": "object",
         "type": "string"
        },
        {
         "name": "Description",
         "rawType": "object",
         "type": "string"
        },
        {
         "name": "Trade",
         "rawType": "object",
         "type": "string"
        },
        {
         "name": "Value",
         "rawType": "float64",
         "type": "float"
        }
       ],
       "conversionMethod": "pd.DataFrame",
       "ref": "40d0fd58-9dca-4c7f-9bde-eb54615a6917",
       "rows": [
        [
         "0",
         "1988-01",
         "Canada-ASEAN Free Trade Agreement, discussions",
         "Agricultural, lawn and garden machinery and equipment",
         "Export",
         "376400.0"
        ],
        [
         "1",
         "1988-01",
         "Canada-ASEAN Free Trade Agreement, discussions",
         "Agricultural, lawn and garden machinery and equipment",
         "Import",
         "0.0"
        ],
        [
         "2",
         "1988-01",
         "Canada-ASEAN Free Trade Agreement, discussions",
         "Aircraft",
         "Export",
         "0.0"
        ],
        [
         "3",
         "1988-01",
         "Canada-ASEAN Free Trade Agreement, discussions",
         "Aircraft",
         "Import",
         "0.0"
        ],
        [
         "4",
         "1988-01",
         "Canada-ASEAN Free Trade Agreement, discussions",
         "Aircraft and other transportation equipment and parts",
         "Export",
         "1317900.0"
        ]
       ],
       "shape": {
        "columns": 5,
        "rows": 5
       }
      },
      "text/html": [
       "<div>\n",
       "<style scoped>\n",
       "    .dataframe tbody tr th:only-of-type {\n",
       "        vertical-align: middle;\n",
       "    }\n",
       "\n",
       "    .dataframe tbody tr th {\n",
       "        vertical-align: top;\n",
       "    }\n",
       "\n",
       "    .dataframe thead th {\n",
       "        text-align: right;\n",
       "    }\n",
       "</style>\n",
       "<table border=\"1\" class=\"dataframe\">\n",
       "  <thead>\n",
       "    <tr style=\"text-align: right;\">\n",
       "      <th></th>\n",
       "      <th>Date</th>\n",
       "      <th>Free Trade Agreement</th>\n",
       "      <th>Description</th>\n",
       "      <th>Trade</th>\n",
       "      <th>Value</th>\n",
       "    </tr>\n",
       "  </thead>\n",
       "  <tbody>\n",
       "    <tr>\n",
       "      <th>0</th>\n",
       "      <td>1988-01</td>\n",
       "      <td>Canada-ASEAN Free Trade Agreement, discussions</td>\n",
       "      <td>Agricultural, lawn and garden machinery and eq...</td>\n",
       "      <td>Export</td>\n",
       "      <td>376400.0</td>\n",
       "    </tr>\n",
       "    <tr>\n",
       "      <th>1</th>\n",
       "      <td>1988-01</td>\n",
       "      <td>Canada-ASEAN Free Trade Agreement, discussions</td>\n",
       "      <td>Agricultural, lawn and garden machinery and eq...</td>\n",
       "      <td>Import</td>\n",
       "      <td>0.0</td>\n",
       "    </tr>\n",
       "    <tr>\n",
       "      <th>2</th>\n",
       "      <td>1988-01</td>\n",
       "      <td>Canada-ASEAN Free Trade Agreement, discussions</td>\n",
       "      <td>Aircraft</td>\n",
       "      <td>Export</td>\n",
       "      <td>0.0</td>\n",
       "    </tr>\n",
       "    <tr>\n",
       "      <th>3</th>\n",
       "      <td>1988-01</td>\n",
       "      <td>Canada-ASEAN Free Trade Agreement, discussions</td>\n",
       "      <td>Aircraft</td>\n",
       "      <td>Import</td>\n",
       "      <td>0.0</td>\n",
       "    </tr>\n",
       "    <tr>\n",
       "      <th>4</th>\n",
       "      <td>1988-01</td>\n",
       "      <td>Canada-ASEAN Free Trade Agreement, discussions</td>\n",
       "      <td>Aircraft and other transportation equipment an...</td>\n",
       "      <td>Export</td>\n",
       "      <td>1317900.0</td>\n",
       "    </tr>\n",
       "  </tbody>\n",
       "</table>\n",
       "</div>"
      ],
      "text/plain": [
       "      Date                            Free Trade Agreement  \\\n",
       "0  1988-01  Canada-ASEAN Free Trade Agreement, discussions   \n",
       "1  1988-01  Canada-ASEAN Free Trade Agreement, discussions   \n",
       "2  1988-01  Canada-ASEAN Free Trade Agreement, discussions   \n",
       "3  1988-01  Canada-ASEAN Free Trade Agreement, discussions   \n",
       "4  1988-01  Canada-ASEAN Free Trade Agreement, discussions   \n",
       "\n",
       "                                         Description   Trade      Value  \n",
       "0  Agricultural, lawn and garden machinery and eq...  Export   376400.0  \n",
       "1  Agricultural, lawn and garden machinery and eq...  Import        0.0  \n",
       "2                                           Aircraft  Export        0.0  \n",
       "3                                           Aircraft  Import        0.0  \n",
       "4  Aircraft and other transportation equipment an...  Export  1317900.0  "
      ]
     },
     "execution_count": 19,
     "metadata": {},
     "output_type": "execute_result"
    }
   ],
   "source": [
    "df_clean.head()"
   ]
  },
  {
   "cell_type": "markdown",
   "id": "83dcb6ef-9ef9-4de7-a376-b50928845841",
   "metadata": {},
   "source": [
    "### Indexing date plus adding Month and Year columns"
   ]
  },
  {
   "cell_type": "code",
   "execution_count": 20,
   "id": "0b304f50-dfec-4662-8a56-3ca96ecb112f",
   "metadata": {},
   "outputs": [
    {
     "data": {
      "application/vnd.microsoft.datawrangler.viewer.v0+json": {
       "columns": [
        {
         "name": "Date",
         "rawType": "datetime64[ns]",
         "type": "datetime"
        },
        {
         "name": "Free Trade Agreement",
         "rawType": "object",
         "type": "string"
        },
        {
         "name": "Description",
         "rawType": "object",
         "type": "string"
        },
        {
         "name": "Trade",
         "rawType": "object",
         "type": "string"
        },
        {
         "name": "Value",
         "rawType": "float64",
         "type": "float"
        },
        {
         "name": "Year",
         "rawType": "int32",
         "type": "integer"
        },
        {
         "name": "Month",
         "rawType": "int32",
         "type": "integer"
        }
       ],
       "conversionMethod": "pd.DataFrame",
       "ref": "55055a14-34e2-4e00-8051-9f2e2e15ea3d",
       "rows": [
        [
         "1988-01-01 00:00:00",
         "Canada-ASEAN Free Trade Agreement, discussions",
         "Agricultural, lawn and garden machinery and equipment",
         "Export",
         "376400.0",
         "1988",
         "1"
        ],
        [
         "1988-01-01 00:00:00",
         "Canada-ASEAN Free Trade Agreement, discussions",
         "Agricultural, lawn and garden machinery and equipment",
         "Import",
         "0.0",
         "1988",
         "1"
        ],
        [
         "1988-01-01 00:00:00",
         "Canada-ASEAN Free Trade Agreement, discussions",
         "Aircraft",
         "Export",
         "0.0",
         "1988",
         "1"
        ],
        [
         "1988-01-01 00:00:00",
         "Canada-ASEAN Free Trade Agreement, discussions",
         "Aircraft",
         "Import",
         "0.0",
         "1988",
         "1"
        ],
        [
         "1988-01-01 00:00:00",
         "Canada-ASEAN Free Trade Agreement, discussions",
         "Aircraft and other transportation equipment and parts",
         "Export",
         "1317900.0",
         "1988",
         "1"
        ]
       ],
       "shape": {
        "columns": 6,
        "rows": 5
       }
      },
      "text/html": [
       "<div>\n",
       "<style scoped>\n",
       "    .dataframe tbody tr th:only-of-type {\n",
       "        vertical-align: middle;\n",
       "    }\n",
       "\n",
       "    .dataframe tbody tr th {\n",
       "        vertical-align: top;\n",
       "    }\n",
       "\n",
       "    .dataframe thead th {\n",
       "        text-align: right;\n",
       "    }\n",
       "</style>\n",
       "<table border=\"1\" class=\"dataframe\">\n",
       "  <thead>\n",
       "    <tr style=\"text-align: right;\">\n",
       "      <th></th>\n",
       "      <th>Free Trade Agreement</th>\n",
       "      <th>Description</th>\n",
       "      <th>Trade</th>\n",
       "      <th>Value</th>\n",
       "      <th>Year</th>\n",
       "      <th>Month</th>\n",
       "    </tr>\n",
       "    <tr>\n",
       "      <th>Date</th>\n",
       "      <th></th>\n",
       "      <th></th>\n",
       "      <th></th>\n",
       "      <th></th>\n",
       "      <th></th>\n",
       "      <th></th>\n",
       "    </tr>\n",
       "  </thead>\n",
       "  <tbody>\n",
       "    <tr>\n",
       "      <th>1988-01-01</th>\n",
       "      <td>Canada-ASEAN Free Trade Agreement, discussions</td>\n",
       "      <td>Agricultural, lawn and garden machinery and eq...</td>\n",
       "      <td>Export</td>\n",
       "      <td>376400.0</td>\n",
       "      <td>1988</td>\n",
       "      <td>1</td>\n",
       "    </tr>\n",
       "    <tr>\n",
       "      <th>1988-01-01</th>\n",
       "      <td>Canada-ASEAN Free Trade Agreement, discussions</td>\n",
       "      <td>Agricultural, lawn and garden machinery and eq...</td>\n",
       "      <td>Import</td>\n",
       "      <td>0.0</td>\n",
       "      <td>1988</td>\n",
       "      <td>1</td>\n",
       "    </tr>\n",
       "    <tr>\n",
       "      <th>1988-01-01</th>\n",
       "      <td>Canada-ASEAN Free Trade Agreement, discussions</td>\n",
       "      <td>Aircraft</td>\n",
       "      <td>Export</td>\n",
       "      <td>0.0</td>\n",
       "      <td>1988</td>\n",
       "      <td>1</td>\n",
       "    </tr>\n",
       "    <tr>\n",
       "      <th>1988-01-01</th>\n",
       "      <td>Canada-ASEAN Free Trade Agreement, discussions</td>\n",
       "      <td>Aircraft</td>\n",
       "      <td>Import</td>\n",
       "      <td>0.0</td>\n",
       "      <td>1988</td>\n",
       "      <td>1</td>\n",
       "    </tr>\n",
       "    <tr>\n",
       "      <th>1988-01-01</th>\n",
       "      <td>Canada-ASEAN Free Trade Agreement, discussions</td>\n",
       "      <td>Aircraft and other transportation equipment an...</td>\n",
       "      <td>Export</td>\n",
       "      <td>1317900.0</td>\n",
       "      <td>1988</td>\n",
       "      <td>1</td>\n",
       "    </tr>\n",
       "  </tbody>\n",
       "</table>\n",
       "</div>"
      ],
      "text/plain": [
       "                                      Free Trade Agreement  \\\n",
       "Date                                                         \n",
       "1988-01-01  Canada-ASEAN Free Trade Agreement, discussions   \n",
       "1988-01-01  Canada-ASEAN Free Trade Agreement, discussions   \n",
       "1988-01-01  Canada-ASEAN Free Trade Agreement, discussions   \n",
       "1988-01-01  Canada-ASEAN Free Trade Agreement, discussions   \n",
       "1988-01-01  Canada-ASEAN Free Trade Agreement, discussions   \n",
       "\n",
       "                                                  Description   Trade  \\\n",
       "Date                                                                    \n",
       "1988-01-01  Agricultural, lawn and garden machinery and eq...  Export   \n",
       "1988-01-01  Agricultural, lawn and garden machinery and eq...  Import   \n",
       "1988-01-01                                           Aircraft  Export   \n",
       "1988-01-01                                           Aircraft  Import   \n",
       "1988-01-01  Aircraft and other transportation equipment an...  Export   \n",
       "\n",
       "                Value  Year  Month  \n",
       "Date                                \n",
       "1988-01-01   376400.0  1988      1  \n",
       "1988-01-01        0.0  1988      1  \n",
       "1988-01-01        0.0  1988      1  \n",
       "1988-01-01        0.0  1988      1  \n",
       "1988-01-01  1317900.0  1988      1  "
      ]
     },
     "execution_count": 20,
     "metadata": {},
     "output_type": "execute_result"
    }
   ],
   "source": [
    "# Convert the 'Date' column to datetime (with the correct format)\n",
    "df_clean[\"Date\"] = pd.to_datetime(df_clean[\"Date\"], format=\"%Y-%m\")\n",
    "\n",
    "# Set the 'Date' column as the index\n",
    "df_clean.set_index(\"Date\", inplace=True)\n",
    "\n",
    "# Extract year and month from 'Date' for easier analysis\n",
    "df_clean[\"Year\"] = df_clean.index.year\n",
    "df_clean[\"Month\"] = df_clean.index.month\n",
    "# Display the updated data\n",
    "df_clean.head()"
   ]
  },
  {
   "cell_type": "markdown",
   "id": "5c38b1ea",
   "metadata": {},
   "source": [
    "### Creating a Category column"
   ]
  },
  {
   "cell_type": "code",
   "execution_count": 21,
   "id": "fcd122ec",
   "metadata": {},
   "outputs": [
    {
     "data": {
      "application/vnd.microsoft.datawrangler.viewer.v0+json": {
       "columns": [
        {
         "name": "Date",
         "rawType": "datetime64[ns]",
         "type": "datetime"
        },
        {
         "name": "Free Trade Agreement",
         "rawType": "object",
         "type": "string"
        },
        {
         "name": "Description",
         "rawType": "object",
         "type": "string"
        },
        {
         "name": "Trade",
         "rawType": "object",
         "type": "string"
        },
        {
         "name": "Value",
         "rawType": "float64",
         "type": "float"
        },
        {
         "name": "Year",
         "rawType": "int32",
         "type": "integer"
        },
        {
         "name": "Month",
         "rawType": "int32",
         "type": "integer"
        },
        {
         "name": "Category",
         "rawType": "object",
         "type": "string"
        }
       ],
       "conversionMethod": "pd.DataFrame",
       "ref": "a83f4969-4d16-49b1-8d5f-f7c41dc36ea9",
       "rows": [
        [
         "1988-01-01 00:00:00",
         "Canada-ASEAN Free Trade Agreement, discussions",
         "Agricultural, lawn and garden machinery and equipment",
         "Export",
         "376400.0",
         "1988",
         "1",
         "Agriculture"
        ],
        [
         "1988-01-01 00:00:00",
         "Canada-ASEAN Free Trade Agreement, discussions",
         "Agricultural, lawn and garden machinery and equipment",
         "Import",
         "0.0",
         "1988",
         "1",
         "Agriculture"
        ],
        [
         "1988-01-01 00:00:00",
         "Canada-ASEAN Free Trade Agreement, discussions",
         "Aircraft",
         "Export",
         "0.0",
         "1988",
         "1",
         "Transportation"
        ],
        [
         "1988-01-01 00:00:00",
         "Canada-ASEAN Free Trade Agreement, discussions",
         "Aircraft",
         "Import",
         "0.0",
         "1988",
         "1",
         "Transportation"
        ],
        [
         "1988-01-01 00:00:00",
         "Canada-ASEAN Free Trade Agreement, discussions",
         "Aircraft and other transportation equipment and parts",
         "Export",
         "1317900.0",
         "1988",
         "1",
         "Transportation"
        ]
       ],
       "shape": {
        "columns": 7,
        "rows": 5
       }
      },
      "text/html": [
       "<div>\n",
       "<style scoped>\n",
       "    .dataframe tbody tr th:only-of-type {\n",
       "        vertical-align: middle;\n",
       "    }\n",
       "\n",
       "    .dataframe tbody tr th {\n",
       "        vertical-align: top;\n",
       "    }\n",
       "\n",
       "    .dataframe thead th {\n",
       "        text-align: right;\n",
       "    }\n",
       "</style>\n",
       "<table border=\"1\" class=\"dataframe\">\n",
       "  <thead>\n",
       "    <tr style=\"text-align: right;\">\n",
       "      <th></th>\n",
       "      <th>Free Trade Agreement</th>\n",
       "      <th>Description</th>\n",
       "      <th>Trade</th>\n",
       "      <th>Value</th>\n",
       "      <th>Year</th>\n",
       "      <th>Month</th>\n",
       "      <th>Category</th>\n",
       "    </tr>\n",
       "    <tr>\n",
       "      <th>Date</th>\n",
       "      <th></th>\n",
       "      <th></th>\n",
       "      <th></th>\n",
       "      <th></th>\n",
       "      <th></th>\n",
       "      <th></th>\n",
       "      <th></th>\n",
       "    </tr>\n",
       "  </thead>\n",
       "  <tbody>\n",
       "    <tr>\n",
       "      <th>1988-01-01</th>\n",
       "      <td>Canada-ASEAN Free Trade Agreement, discussions</td>\n",
       "      <td>Agricultural, lawn and garden machinery and eq...</td>\n",
       "      <td>Export</td>\n",
       "      <td>376400.0</td>\n",
       "      <td>1988</td>\n",
       "      <td>1</td>\n",
       "      <td>Agriculture</td>\n",
       "    </tr>\n",
       "    <tr>\n",
       "      <th>1988-01-01</th>\n",
       "      <td>Canada-ASEAN Free Trade Agreement, discussions</td>\n",
       "      <td>Agricultural, lawn and garden machinery and eq...</td>\n",
       "      <td>Import</td>\n",
       "      <td>0.0</td>\n",
       "      <td>1988</td>\n",
       "      <td>1</td>\n",
       "      <td>Agriculture</td>\n",
       "    </tr>\n",
       "    <tr>\n",
       "      <th>1988-01-01</th>\n",
       "      <td>Canada-ASEAN Free Trade Agreement, discussions</td>\n",
       "      <td>Aircraft</td>\n",
       "      <td>Export</td>\n",
       "      <td>0.0</td>\n",
       "      <td>1988</td>\n",
       "      <td>1</td>\n",
       "      <td>Transportation</td>\n",
       "    </tr>\n",
       "    <tr>\n",
       "      <th>1988-01-01</th>\n",
       "      <td>Canada-ASEAN Free Trade Agreement, discussions</td>\n",
       "      <td>Aircraft</td>\n",
       "      <td>Import</td>\n",
       "      <td>0.0</td>\n",
       "      <td>1988</td>\n",
       "      <td>1</td>\n",
       "      <td>Transportation</td>\n",
       "    </tr>\n",
       "    <tr>\n",
       "      <th>1988-01-01</th>\n",
       "      <td>Canada-ASEAN Free Trade Agreement, discussions</td>\n",
       "      <td>Aircraft and other transportation equipment an...</td>\n",
       "      <td>Export</td>\n",
       "      <td>1317900.0</td>\n",
       "      <td>1988</td>\n",
       "      <td>1</td>\n",
       "      <td>Transportation</td>\n",
       "    </tr>\n",
       "  </tbody>\n",
       "</table>\n",
       "</div>"
      ],
      "text/plain": [
       "                                      Free Trade Agreement  \\\n",
       "Date                                                         \n",
       "1988-01-01  Canada-ASEAN Free Trade Agreement, discussions   \n",
       "1988-01-01  Canada-ASEAN Free Trade Agreement, discussions   \n",
       "1988-01-01  Canada-ASEAN Free Trade Agreement, discussions   \n",
       "1988-01-01  Canada-ASEAN Free Trade Agreement, discussions   \n",
       "1988-01-01  Canada-ASEAN Free Trade Agreement, discussions   \n",
       "\n",
       "                                                  Description   Trade  \\\n",
       "Date                                                                    \n",
       "1988-01-01  Agricultural, lawn and garden machinery and eq...  Export   \n",
       "1988-01-01  Agricultural, lawn and garden machinery and eq...  Import   \n",
       "1988-01-01                                           Aircraft  Export   \n",
       "1988-01-01                                           Aircraft  Import   \n",
       "1988-01-01  Aircraft and other transportation equipment an...  Export   \n",
       "\n",
       "                Value  Year  Month        Category  \n",
       "Date                                                \n",
       "1988-01-01   376400.0  1988      1     Agriculture  \n",
       "1988-01-01        0.0  1988      1     Agriculture  \n",
       "1988-01-01        0.0  1988      1  Transportation  \n",
       "1988-01-01        0.0  1988      1  Transportation  \n",
       "1988-01-01  1317900.0  1988      1  Transportation  "
      ]
     },
     "execution_count": 21,
     "metadata": {},
     "output_type": "execute_result"
    }
   ],
   "source": [
    "# Define the mapping dictionary\n",
    "description_to_category = {\n",
    "    \"Agricultural, lawn and garden machinery and equipment\": \"Agriculture\",\n",
    "    \"Aircraft\": \"Transportation\",\n",
    "    \"Aircraft and other transportation equipment and parts\": \"Transportation\",\n",
    "    \"Aircraft engines, aircraft parts and other aerospace equipment\": \"Transportation\",\n",
    "    \"Aircraft, aircraft engines and aircraft parts\": \"Transportation\",\n",
    "    \"Alcoholic beverages\": \"Beverages\",\n",
    "    \"Animal feed\": \"Agriculture\",\n",
    "    \"Appliances\": \"Consumer Goods\",\n",
    "    \"Asphalt (except natural) and asphalt products\": \"Construction\",\n",
    "    \"Basic and industrial chemical, plastic and rubber products\": \"Chemicals\",\n",
    "    \"Basic and semi-finished iron or steel products\": \"Metals\",\n",
    "    \"Basic and semi-finished products of aluminum and aluminum alloys\": \"Metals\",\n",
    "    \"Basic and semi-finished products of non-ferrous metals and non-ferrous metal alloys (except aluminum)\": \"Metals\",\n",
    "    \"Basic chemicals\": \"Chemicals\",\n",
    "    \"Basic chemicals and industrial chemical products\": \"Chemicals\",\n",
    "    \"Boats and other transportation equipment\": \"Transportation\",\n",
    "    \"Building and packaging materials\": \"Construction\",\n",
    "    \"Canola (including rapeseed)\": \"Agriculture\",\n",
    "    \"Carbonated and non-carbonated drinks (including low alcohol fermented drinks), bottled water and ice\": \"Beverages\",\n",
    "    \"Carpets, textile furnishings and other textile products\": \"Textiles\",\n",
    "    \"Cement, lime and gypsum products\": \"Construction\",\n",
    "    \"Cleaning products and toiletries\": \"Consumer Goods\",\n",
    "    \"Cleaning products, appliances, and miscellaneous goods and supplies\": \"Consumer Goods\",\n",
    "    \"Clothing, footwear and accessories\": \"Textiles\",\n",
    "    \"Clothing, footwear and textile products\": \"Textiles\",\n",
    "    \"Coal\": \"Energy\",\n",
    "    \"Coffee and tea\": \"Beverages\",\n",
    "    \"Commercial and service industry machinery and equipment\": \"Machinery\",\n",
    "    \"Communication, and audio and video equipment\": \"Electronics\",\n",
    "    \"Computers and computer peripherals\": \"Electronics\",\n",
    "    \"Consumer goods\": \"Consumer Goods\",\n",
    "    \"Converted paper products (except for packaging)\": \"Paper Products\",\n",
    "    \"Copper ores and concentrates\": \"Metals\",\n",
    "    \"Crude oil and bitumen\": \"Energy\",\n",
    "    \"Crude oil and crude bitumen\": \"Energy\",\n",
    "    \"Dairy products\": \"Food\",\n",
    "    \"Diamonds and other non-metallic minerals (except cut gemstones)\": \"Minerals\",\n",
    "    \"Dyes and pigments, and petrochemicals\": \"Chemicals\",\n",
    "    \"Electrical components\": \"Electronics\",\n",
    "    \"Electricity\": \"Energy\",\n",
    "    \"Electronic and electrical equipment and parts\": \"Electronics\",\n",
    "    \"Electronic and electrical parts\": \"Electronics\",\n",
    "    \"Energy products\": \"Energy\",\n",
    "    \"Fabric, fibre and yarn, and leather and dressed furs\": \"Textiles\",\n",
    "    \"Fabricated metal products\": \"Metals\",\n",
    "    \"Farm and fishing products\": \"Agriculture\",\n",
    "    \"Farm, fishing and intermediate food products\": \"Agriculture\",\n",
    "    \"Fertilizers, pesticides and other chemical products\": \"Chemicals\",\n",
    "    \"Fish, crustaceans, shellfish and other fishery products\": \"Food\",\n",
    "    \"Food, beverage and tobacco products\": \"Food\",\n",
    "    \"Forestry products and building and packaging materials\": \"Construction\",\n",
    "    \"Fresh fruit, nuts and vegetables, and pulse crops\": \"Food\",\n",
    "    \"Frozen, fresh and canned fruit and vegetable juices\": \"Food\",\n",
    "    \"Furniture and fixtures\": \"Furniture\",\n",
    "    \"Heating, cooling and air purification equipment\": \"Machinery\",\n",
    "    \"Industrial machinery, equipment and parts\": \"Machinery\",\n",
    "    \"Intermediate food products\": \"Food\",\n",
    "    \"Intermediate metal products\": \"Metals\",\n",
    "    \"Iron ores and concentrates\": \"Metals\",\n",
    "    \"Live animals\": \"Agriculture\",\n",
    "    \"Logging, construction, mining, and oil and gas field machinery and equipment\": \"Machinery\",\n",
    "    \"Logs, pulpwood and other forestry products\": \"Construction\",\n",
    "    \"Lubricants and other petroleum refinery products\": \"Energy\",\n",
    "    \"Lumber and other sawmill products\": \"Construction\",\n",
    "    \"Meat products\": \"Food\",\n",
    "    \"Medical, measuring, and other electronic and electrical machinery and equipment\": \"Electronics\",\n",
    "    \"Medium and heavy trucks, buses, and other motor vehicles\": \"Transportation\",\n",
    "    \"Metal and non-metallic mineral products\": \"Metals\",\n",
    "    \"Metal building and construction materials\": \"Construction\",\n",
    "    \"Metal ores and concentrates\": \"Metals\",\n",
    "    \"Metal ores and non-metallic minerals\": \"Metals\",\n",
    "    \"Metalworking machinery\": \"Machinery\",\n",
    "    \"Miscellaneous goods and supplies\": \"Miscellaneous\",\n",
    "    \"Motor vehicle engines and motor vehicle parts\": \"Transportation\",\n",
    "    \"Motor vehicles and parts\": \"Transportation\",\n",
    "    \"Natural gas\": \"Energy\",\n",
    "    \"Natural gas liquids (including condensate) and related products\": \"Energy\",\n",
    "    \"Natural gas, natural gas liquids and related products\": \"Energy\",\n",
    "    \"Nickel ores and concentrates\": \"Metals\",\n",
    "    \"Non-metallic mineral products\": \"Minerals\",\n",
    "    \"Non-metallic minerals\": \"Minerals\",\n",
    "    \"Nuclear fuel and other energy products\": \"Energy\",\n",
    "    \"Other animal products\": \"Agriculture\",\n",
    "    \"Other crop products\": \"Agriculture\",\n",
    "    \"Other electronic and electrical machinery, equipment and parts\": \"Electronics\",\n",
    "    \"Other food products\": \"Food\",\n",
    "    \"Other general-purpose machinery and equipment, not elsewhere classified\": \"Machinery\",\n",
    "    \"Other industry-specific manufacturing machinery, not elsewhere classified\": \"Machinery\",\n",
    "    \"Other metal ores and concentrates\": \"Metals\",\n",
    "    \"Other transportation equipment and parts\": \"Transportation\",\n",
    "    \"Other unwrought non-ferrous metals and non-ferrous metal alloys\": \"Metals\",\n",
    "    \"Packaging materials\": \"Packaging\",\n",
    "    \"Paints, coatings, and adhesive products\": \"Chemicals\",\n",
    "    \"Paper and published products\": \"Paper Products\",\n",
    "    \"Parts of industrial machinery and equipment\": \"Machinery\",\n",
    "    \"Parts of railway rolling stock and of other transportation equipment\": \"Transportation\",\n",
    "    \"Passenger cars and light trucks\": \"Transportation\",\n",
    "    \"Pharmaceutical and medicinal products\": \"Pharmaceuticals\",\n",
    "    \"Plastic and foam building and construction materials\": \"Construction\",\n",
    "    \"Plastic and rubber basic products not for packaging use (except plastic resins)\": \"Plastics\",\n",
    "    \"Plastic and rubber finished products\": \"Plastics\",\n",
    "    \"Plastic and rubber products\": \"Plastics\",\n",
    "    \"Plastic resins\": \"Plastics\",\n",
    "    \"Potash\": \"Minerals\",\n",
    "    \"Prefabricated buildings and components thereof\": \"Construction\",\n",
    "    \"Prepared and packaged seafood products\": \"Food\",\n",
    "    \"Published products and recorded media (except software)\": \"Media\",\n",
    "    \"Pulp and paper\": \"Paper Products\",\n",
    "    \"Radioactive ores and concentrates\": \"Minerals\",\n",
    "    \"Refined petroleum energy products\": \"Energy\",\n",
    "    \"Refined petroleum energy products (including liquid biofuels)\": \"Energy\",\n",
    "    \"Ships, locomotives, railway rolling stock, and rapid transit equipment\": \"Transportation\",\n",
    "    \"Software and software licensing\": \"Software\",\n",
    "    \"Special transactions trade\": \"Miscellaneous\",\n",
    "    \"Stone, sand, gravel, clay, and refractory minerals\": \"Minerals\",\n",
    "    \"Tires\": \"Plastics\",\n",
    "    \"Tires; motor vehicle engines and motor vehicle parts\": \"Transportation\",\n",
    "    \"Tobacco products (including electronic cigarettes)\": \"Tobacco\",\n",
    "    \"Unwrought aluminum and aluminum alloys\": \"Metals\",\n",
    "    \"Unwrought copper and copper alloys\": \"Metals\",\n",
    "    \"Unwrought gold, silver, and platinum group metals, and their alloys\": \"Metals\",\n",
    "    \"Unwrought iron, steel and ferro-alloys\": \"Metals\",\n",
    "    \"Unwrought nickel and nickel alloys\": \"Metals\",\n",
    "    \"Waste and scrap of glass\": \"Recycling\",\n",
    "    \"Waste and scrap of metal\": \"Recycling\",\n",
    "    \"Waste and scrap of metal and glass\": \"Recycling\",\n",
    "    \"Waste and scrap of plastic and rubber\": \"Recycling\",\n",
    "    \"Waste and scrap of wood, wood by-products, paper and paperboard\": \"Recycling\",\n",
    "    \"Wheat\": \"Agriculture\",\n",
    "    \"Wood millwork, and wood products not elsewhere classified\": \"Wood Products\",\n",
    "}\n",
    "\n",
    "# Map the descriptions to categories\n",
    "df_clean[\"Category\"] = df_clean[\"Description\"].map(description_to_category)\n",
    "\n",
    "# Drop rows with missing categories\n",
    "df_clean = df_clean.dropna(subset=[\"Category\"])\n",
    "\n",
    "df_clean.head()"
   ]
  },
  {
   "cell_type": "markdown",
   "id": "fa7c272b",
   "metadata": {},
   "source": [
    "### Creating a Country(ies) column\n",
    "> This column's purpose is to create a Map graph in Tableau. It will help visualize the trade data geographically by associating each trade agreement with the respective countries involved. This data will be supported by another database from StatsCAN."
   ]
  },
  {
   "cell_type": "code",
   "execution_count": 22,
   "id": "6b4a1fae",
   "metadata": {},
   "outputs": [
    {
     "data": {
      "application/vnd.microsoft.datawrangler.viewer.v0+json": {
       "columns": [
        {
         "name": "Date",
         "rawType": "datetime64[ns]",
         "type": "datetime"
        },
        {
         "name": "Free Trade Agreement",
         "rawType": "object",
         "type": "string"
        },
        {
         "name": "Description",
         "rawType": "object",
         "type": "string"
        },
        {
         "name": "Trade",
         "rawType": "object",
         "type": "string"
        },
        {
         "name": "Value",
         "rawType": "float64",
         "type": "float"
        },
        {
         "name": "Year",
         "rawType": "int32",
         "type": "integer"
        },
        {
         "name": "Month",
         "rawType": "int32",
         "type": "integer"
        },
        {
         "name": "Category",
         "rawType": "object",
         "type": "string"
        },
        {
         "name": "Country",
         "rawType": "object",
         "type": "string"
        }
       ],
       "conversionMethod": "pd.DataFrame",
       "ref": "cc55efde-b17c-4b4e-bdb2-4d6e13e69cf1",
       "rows": [
        [
         "1988-01-01 00:00:00",
         "Canada-ASEAN Free Trade Agreement, discussions",
         "Agricultural, lawn and garden machinery and equipment",
         "Export",
         "376400.0",
         "1988",
         "1",
         "Agriculture",
         "Brunei, Cambodia, Indonesia, Laos, Malaysia, Myanmar, Philippines, Singapore, Thailand, Vietnam"
        ],
        [
         "1988-01-01 00:00:00",
         "Canada-ASEAN Free Trade Agreement, discussions",
         "Agricultural, lawn and garden machinery and equipment",
         "Import",
         "0.0",
         "1988",
         "1",
         "Agriculture",
         "Brunei, Cambodia, Indonesia, Laos, Malaysia, Myanmar, Philippines, Singapore, Thailand, Vietnam"
        ],
        [
         "1988-01-01 00:00:00",
         "Canada-ASEAN Free Trade Agreement, discussions",
         "Aircraft",
         "Export",
         "0.0",
         "1988",
         "1",
         "Transportation",
         "Brunei, Cambodia, Indonesia, Laos, Malaysia, Myanmar, Philippines, Singapore, Thailand, Vietnam"
        ],
        [
         "1988-01-01 00:00:00",
         "Canada-ASEAN Free Trade Agreement, discussions",
         "Aircraft",
         "Import",
         "0.0",
         "1988",
         "1",
         "Transportation",
         "Brunei, Cambodia, Indonesia, Laos, Malaysia, Myanmar, Philippines, Singapore, Thailand, Vietnam"
        ],
        [
         "1988-01-01 00:00:00",
         "Canada-ASEAN Free Trade Agreement, discussions",
         "Aircraft and other transportation equipment and parts",
         "Export",
         "1317900.0",
         "1988",
         "1",
         "Transportation",
         "Brunei, Cambodia, Indonesia, Laos, Malaysia, Myanmar, Philippines, Singapore, Thailand, Vietnam"
        ]
       ],
       "shape": {
        "columns": 8,
        "rows": 5
       }
      },
      "text/html": [
       "<div>\n",
       "<style scoped>\n",
       "    .dataframe tbody tr th:only-of-type {\n",
       "        vertical-align: middle;\n",
       "    }\n",
       "\n",
       "    .dataframe tbody tr th {\n",
       "        vertical-align: top;\n",
       "    }\n",
       "\n",
       "    .dataframe thead th {\n",
       "        text-align: right;\n",
       "    }\n",
       "</style>\n",
       "<table border=\"1\" class=\"dataframe\">\n",
       "  <thead>\n",
       "    <tr style=\"text-align: right;\">\n",
       "      <th></th>\n",
       "      <th>Free Trade Agreement</th>\n",
       "      <th>Description</th>\n",
       "      <th>Trade</th>\n",
       "      <th>Value</th>\n",
       "      <th>Year</th>\n",
       "      <th>Month</th>\n",
       "      <th>Category</th>\n",
       "      <th>Country</th>\n",
       "    </tr>\n",
       "    <tr>\n",
       "      <th>Date</th>\n",
       "      <th></th>\n",
       "      <th></th>\n",
       "      <th></th>\n",
       "      <th></th>\n",
       "      <th></th>\n",
       "      <th></th>\n",
       "      <th></th>\n",
       "      <th></th>\n",
       "    </tr>\n",
       "  </thead>\n",
       "  <tbody>\n",
       "    <tr>\n",
       "      <th>1988-01-01</th>\n",
       "      <td>Canada-ASEAN Free Trade Agreement, discussions</td>\n",
       "      <td>Agricultural, lawn and garden machinery and eq...</td>\n",
       "      <td>Export</td>\n",
       "      <td>376400.0</td>\n",
       "      <td>1988</td>\n",
       "      <td>1</td>\n",
       "      <td>Agriculture</td>\n",
       "      <td>Brunei, Cambodia, Indonesia, Laos, Malaysia, M...</td>\n",
       "    </tr>\n",
       "    <tr>\n",
       "      <th>1988-01-01</th>\n",
       "      <td>Canada-ASEAN Free Trade Agreement, discussions</td>\n",
       "      <td>Agricultural, lawn and garden machinery and eq...</td>\n",
       "      <td>Import</td>\n",
       "      <td>0.0</td>\n",
       "      <td>1988</td>\n",
       "      <td>1</td>\n",
       "      <td>Agriculture</td>\n",
       "      <td>Brunei, Cambodia, Indonesia, Laos, Malaysia, M...</td>\n",
       "    </tr>\n",
       "    <tr>\n",
       "      <th>1988-01-01</th>\n",
       "      <td>Canada-ASEAN Free Trade Agreement, discussions</td>\n",
       "      <td>Aircraft</td>\n",
       "      <td>Export</td>\n",
       "      <td>0.0</td>\n",
       "      <td>1988</td>\n",
       "      <td>1</td>\n",
       "      <td>Transportation</td>\n",
       "      <td>Brunei, Cambodia, Indonesia, Laos, Malaysia, M...</td>\n",
       "    </tr>\n",
       "    <tr>\n",
       "      <th>1988-01-01</th>\n",
       "      <td>Canada-ASEAN Free Trade Agreement, discussions</td>\n",
       "      <td>Aircraft</td>\n",
       "      <td>Import</td>\n",
       "      <td>0.0</td>\n",
       "      <td>1988</td>\n",
       "      <td>1</td>\n",
       "      <td>Transportation</td>\n",
       "      <td>Brunei, Cambodia, Indonesia, Laos, Malaysia, M...</td>\n",
       "    </tr>\n",
       "    <tr>\n",
       "      <th>1988-01-01</th>\n",
       "      <td>Canada-ASEAN Free Trade Agreement, discussions</td>\n",
       "      <td>Aircraft and other transportation equipment an...</td>\n",
       "      <td>Export</td>\n",
       "      <td>1317900.0</td>\n",
       "      <td>1988</td>\n",
       "      <td>1</td>\n",
       "      <td>Transportation</td>\n",
       "      <td>Brunei, Cambodia, Indonesia, Laos, Malaysia, M...</td>\n",
       "    </tr>\n",
       "  </tbody>\n",
       "</table>\n",
       "</div>"
      ],
      "text/plain": [
       "                                      Free Trade Agreement  \\\n",
       "Date                                                         \n",
       "1988-01-01  Canada-ASEAN Free Trade Agreement, discussions   \n",
       "1988-01-01  Canada-ASEAN Free Trade Agreement, discussions   \n",
       "1988-01-01  Canada-ASEAN Free Trade Agreement, discussions   \n",
       "1988-01-01  Canada-ASEAN Free Trade Agreement, discussions   \n",
       "1988-01-01  Canada-ASEAN Free Trade Agreement, discussions   \n",
       "\n",
       "                                                  Description   Trade  \\\n",
       "Date                                                                    \n",
       "1988-01-01  Agricultural, lawn and garden machinery and eq...  Export   \n",
       "1988-01-01  Agricultural, lawn and garden machinery and eq...  Import   \n",
       "1988-01-01                                           Aircraft  Export   \n",
       "1988-01-01                                           Aircraft  Import   \n",
       "1988-01-01  Aircraft and other transportation equipment an...  Export   \n",
       "\n",
       "                Value  Year  Month        Category  \\\n",
       "Date                                                 \n",
       "1988-01-01   376400.0  1988      1     Agriculture   \n",
       "1988-01-01        0.0  1988      1     Agriculture   \n",
       "1988-01-01        0.0  1988      1  Transportation   \n",
       "1988-01-01        0.0  1988      1  Transportation   \n",
       "1988-01-01  1317900.0  1988      1  Transportation   \n",
       "\n",
       "                                                      Country  \n",
       "Date                                                           \n",
       "1988-01-01  Brunei, Cambodia, Indonesia, Laos, Malaysia, M...  \n",
       "1988-01-01  Brunei, Cambodia, Indonesia, Laos, Malaysia, M...  \n",
       "1988-01-01  Brunei, Cambodia, Indonesia, Laos, Malaysia, M...  \n",
       "1988-01-01  Brunei, Cambodia, Indonesia, Laos, Malaysia, M...  \n",
       "1988-01-01  Brunei, Cambodia, Indonesia, Laos, Malaysia, M...  "
      ]
     },
     "execution_count": 22,
     "metadata": {},
     "output_type": "execute_result"
    }
   ],
   "source": [
    "# Define the mapping dictionary for Free Trade Agreements to countries\n",
    "fta_to_countries = {\n",
    "    \"Canada-ASEAN Free Trade Agreement, discussions\": \"Brunei, Cambodia, Indonesia, Laos, Malaysia, Myanmar, Philippines, Singapore, Thailand, Vietnam\",\n",
    "    \"Canada-Caribbean Community Trade Agreement, negotiations\": \"Antigua and Barbuda, Bahamas, Barbados, Belize, Dominica, Grenada, Guyana, Haiti, Jamaica, Montserrat, Saint Kitts and Nevis, Saint Lucia, Saint Vincent and the Grenadines, Suriname, Trinidad and Tobago\",\n",
    "    \"Canada-Chile Free Trade Agreement, in force from 1997/07 to present\": \"Chile\",\n",
    "    \"Canada-China Free Trade Agreement, discussions\": \"China\",\n",
    "    \"Canada-Colombia Free Trade Agreement, in force from 2011/08 to present\": \"Colombia\",\n",
    "    \"Canada-Costa Rica Free Trade Agreement, in force from 2002/11 to present\": \"Costa Rica\",\n",
    "    \"Canada-Dominican Republic Free Trade Agreement, negotiations\": \"Dominican Republic\",\n",
    "    \"Canada-European Free Trade Association (EFTA) Free Trade Agreement, in force from 2009/07 to present\": \"Iceland, Liechtenstein, Norway, Switzerland\",\n",
    "    \"Canada-European Union: Comprehensive Economic and Trade Agreement (CETA), in force from 2017/09 to present\": \"Austria, Belgium, Bulgaria, Croatia, Cyprus, Czech Republic, Denmark, Estonia, Finland, France, Germany, Greece, Hungary, Ireland, Italy, Latvia, Lithuania, Luxembourg, Malta, Netherlands, Poland, Portugal, Romania, Slovakia, Slovenia, Spain, Sweden\",\n",
    "    \"Canada-Guatemala, Nicaragua and El Salvador Free Trade Agreement, negotiations\": \"Guatemala, Nicaragua, El Salvador\",\n",
    "    \"Canada-Honduras Free Trade Agreement, in force from 2014/10 to present\": \"Honduras\",\n",
    "    \"Canada-India Comprehensive Economic Partnership Agreement, negotiations\": \"India\",\n",
    "    \"Canada-Indonesia Comprehensive Economic Partnership Agreement, negotiations\": \"Indonesia\",\n",
    "    \"Canada-Israel Free Trade Agreement (CIFTA), in force from 1997/01 to present\": \"Israel\",\n",
    "    \"Canada-Japan Economic Partnership Agreement, negotiations\": \"Japan\",\n",
    "    \"Canada-Jordan Free Trade Agreement, in force from 2012/10 to present\": \"Jordan\",\n",
    "    \"Canada-Korea Free Trade Agreement (CKFTA), in force from 2015/01 to present\": \"South Korea\",\n",
    "    \"Canada-Mercosur Free Trade Agreement, negotiations\": \"Argentina, Brazil, Paraguay, Uruguay\",\n",
    "    \"Canada-Morocco Free Trade Agreement, negotiations\": \"Morocco\",\n",
    "    \"Canada-Pacific Alliance Free Trade Agreement, negotiations\": \"Chile, Colombia, Mexico, Peru\",\n",
    "    \"Canada-Panama Free Trade Agreement, in force from 2013/04 to present\": \"Panama\",\n",
    "    \"Canada-Peru Free Trade Agreement, in force from 2009/08 to present\": \"Peru\",\n",
    "    \"Canada-Philippines Free Trade Agreement, discussions\": \"Philippines\",\n",
    "    \"Canada-Singapore Free Trade Agreement, negotiations\": \"Singapore\",\n",
    "    \"Canada-Thailand Free Trade Agreement, discussions\": \"Thailand\",\n",
    "    \"Canada-Türkiye Free Trade Agreement, discussions\": \"Turkey\",\n",
    "    \"Canada-U.S. Free Trade Agreement (CUSFTA), superseded by NAFTA, in force from 1989/01 to 1993/12\": \"United States\",\n",
    "    \"Canada-Ukraine Free Trade Agreement (CUFTA), in force from 2017/08 to present\": \"Ukraine\",\n",
    "    \"Canada-United Kingdom Trade Continuity Agreement, signed\": \"United Kingdom\",\n",
    "    \"Comprehensive and Progressive Agreement for Trans-Pacific Partnership (CPTPP), in force from 2019/01 to present\": \"Australia, Brunei, Chile, Japan, Malaysia, Mexico, New Zealand, Peru, Singapore, Vietnam\",\n",
    "    \"Canada-United States-Mexico Agreement (CUSMA), preceeded by NAFTA\": \"Mexico, United States\",\n",
    "    \"Trans-Pacific Partnership (TPP), signed\": \"Australia, Brunei, Chile, Japan, Malaysia, Mexico, New Zealand, Peru, Singapore, Vietnam\",\n",
    "}\n",
    "\n",
    "# Map the Free Trade Agreements to countries\n",
    "df_clean[\"Country\"] = df_clean[\"Free Trade Agreement\"].map(fta_to_countries)\n",
    "\n",
    "# Fill missing values with a default value, e.g., 'Unknown'\n",
    "df_clean[\"Country\"] = df_clean[\"Country\"].fillna(\"Unknown\")\n",
    "\n",
    "df_clean.head()"
   ]
  },
  {
   "cell_type": "markdown",
   "id": "d93e0bc0",
   "metadata": {},
   "source": [
    "### Saving the cleaned dataset as a .csv"
   ]
  },
  {
   "cell_type": "code",
   "execution_count": 23,
   "id": "c9426851",
   "metadata": {},
   "outputs": [],
   "source": [
    "# Reset the index to ensure the 'Date' column is included in the CSV\n",
    "df_clean_reset = df_clean.reset_index()\n",
    "\n",
    "# Save the cleaned DataFrame to a CSV file\n",
    "df_clean_reset.to_csv(\"cleaned_trade_canada.csv\", index=False)"
   ]
  },
  {
   "cell_type": "markdown",
   "id": "653a590e",
   "metadata": {},
   "source": [
    "<a id=\"db2\"></a>\n",
    "### **1.2 Yearly Country Database**\n",
    "### Reading the database"
   ]
  },
  {
   "cell_type": "code",
   "execution_count": 24,
   "id": "d359c855",
   "metadata": {},
   "outputs": [
    {
     "data": {
      "application/vnd.microsoft.datawrangler.viewer.v0+json": {
       "columns": [
        {
         "name": "index",
         "rawType": "int64",
         "type": "integer"
        },
        {
         "name": "REF_DATE",
         "rawType": "int64",
         "type": "integer"
        },
        {
         "name": "GEO",
         "rawType": "object",
         "type": "string"
        },
        {
         "name": "DGUID",
         "rawType": "object",
         "type": "string"
        },
        {
         "name": "Trading partner",
         "rawType": "object",
         "type": "string"
        },
        {
         "name": "North American Product Classification System (NAPCS)",
         "rawType": "object",
         "type": "string"
        },
        {
         "name": "Trade",
         "rawType": "object",
         "type": "string"
        },
        {
         "name": "UOM",
         "rawType": "object",
         "type": "string"
        },
        {
         "name": "UOM_ID",
         "rawType": "int64",
         "type": "integer"
        },
        {
         "name": "SCALAR_FACTOR",
         "rawType": "object",
         "type": "string"
        },
        {
         "name": "SCALAR_ID",
         "rawType": "int64",
         "type": "integer"
        },
        {
         "name": "VECTOR",
         "rawType": "object",
         "type": "string"
        },
        {
         "name": "COORDINATE",
         "rawType": "object",
         "type": "string"
        },
        {
         "name": "VALUE",
         "rawType": "float64",
         "type": "float"
        },
        {
         "name": "STATUS",
         "rawType": "float64",
         "type": "float"
        },
        {
         "name": "SYMBOL",
         "rawType": "float64",
         "type": "float"
        },
        {
         "name": "TERMINATED",
         "rawType": "float64",
         "type": "float"
        },
        {
         "name": "DECIMALS",
         "rawType": "int64",
         "type": "integer"
        }
       ],
       "conversionMethod": "pd.DataFrame",
       "ref": "b3ece395-150c-4e37-ae9f-2f1685c1df80",
       "rows": [
        [
         "0",
         "1999",
         "Canada",
         "2021A000011124",
         "All countries",
         "All sections",
         "Export",
         "Dollars",
         "81",
         "thousands",
         "3",
         "v1566975955",
         "1.1.1.1",
         "355420762.2",
         null,
         null,
         null,
         "1"
        ],
        [
         "1",
         "1999",
         "Canada",
         "2021A000011124",
         "All countries",
         "All sections",
         "Import",
         "Dollars",
         "81",
         "thousands",
         "3",
         "v1566975956",
         "1.1.1.2",
         "320408692.7",
         null,
         null,
         null,
         "1"
        ],
        [
         "2",
         "1999",
         "Canada",
         "2021A000011124",
         "All countries",
         "Farm, fishing and intermediate food products [C11]",
         "Export",
         "Dollars",
         "81",
         "thousands",
         "3",
         "v1566975957",
         "1.1.2.1",
         "14899221.7",
         null,
         null,
         null,
         "1"
        ],
        [
         "3",
         "1999",
         "Canada",
         "2021A000011124",
         "All countries",
         "Farm, fishing and intermediate food products [C11]",
         "Import",
         "Dollars",
         "81",
         "thousands",
         "3",
         "v1566975958",
         "1.1.2.2",
         "8266540.9",
         null,
         null,
         null,
         "1"
        ],
        [
         "4",
         "1999",
         "Canada",
         "2021A000011124",
         "All countries",
         "Energy products [C12]",
         "Export",
         "Dollars",
         "81",
         "thousands",
         "3",
         "v1566975959",
         "1.1.3.1",
         "29459508.3",
         null,
         null,
         null,
         "1"
        ]
       ],
       "shape": {
        "columns": 17,
        "rows": 5
       }
      },
      "text/html": [
       "<div>\n",
       "<style scoped>\n",
       "    .dataframe tbody tr th:only-of-type {\n",
       "        vertical-align: middle;\n",
       "    }\n",
       "\n",
       "    .dataframe tbody tr th {\n",
       "        vertical-align: top;\n",
       "    }\n",
       "\n",
       "    .dataframe thead th {\n",
       "        text-align: right;\n",
       "    }\n",
       "</style>\n",
       "<table border=\"1\" class=\"dataframe\">\n",
       "  <thead>\n",
       "    <tr style=\"text-align: right;\">\n",
       "      <th></th>\n",
       "      <th>REF_DATE</th>\n",
       "      <th>GEO</th>\n",
       "      <th>DGUID</th>\n",
       "      <th>Trading partner</th>\n",
       "      <th>North American Product Classification System (NAPCS)</th>\n",
       "      <th>Trade</th>\n",
       "      <th>UOM</th>\n",
       "      <th>UOM_ID</th>\n",
       "      <th>SCALAR_FACTOR</th>\n",
       "      <th>SCALAR_ID</th>\n",
       "      <th>VECTOR</th>\n",
       "      <th>COORDINATE</th>\n",
       "      <th>VALUE</th>\n",
       "      <th>STATUS</th>\n",
       "      <th>SYMBOL</th>\n",
       "      <th>TERMINATED</th>\n",
       "      <th>DECIMALS</th>\n",
       "    </tr>\n",
       "  </thead>\n",
       "  <tbody>\n",
       "    <tr>\n",
       "      <th>0</th>\n",
       "      <td>1999</td>\n",
       "      <td>Canada</td>\n",
       "      <td>2021A000011124</td>\n",
       "      <td>All countries</td>\n",
       "      <td>All sections</td>\n",
       "      <td>Export</td>\n",
       "      <td>Dollars</td>\n",
       "      <td>81</td>\n",
       "      <td>thousands</td>\n",
       "      <td>3</td>\n",
       "      <td>v1566975955</td>\n",
       "      <td>1.1.1.1</td>\n",
       "      <td>355420762.2</td>\n",
       "      <td>NaN</td>\n",
       "      <td>NaN</td>\n",
       "      <td>NaN</td>\n",
       "      <td>1</td>\n",
       "    </tr>\n",
       "    <tr>\n",
       "      <th>1</th>\n",
       "      <td>1999</td>\n",
       "      <td>Canada</td>\n",
       "      <td>2021A000011124</td>\n",
       "      <td>All countries</td>\n",
       "      <td>All sections</td>\n",
       "      <td>Import</td>\n",
       "      <td>Dollars</td>\n",
       "      <td>81</td>\n",
       "      <td>thousands</td>\n",
       "      <td>3</td>\n",
       "      <td>v1566975956</td>\n",
       "      <td>1.1.1.2</td>\n",
       "      <td>320408692.7</td>\n",
       "      <td>NaN</td>\n",
       "      <td>NaN</td>\n",
       "      <td>NaN</td>\n",
       "      <td>1</td>\n",
       "    </tr>\n",
       "    <tr>\n",
       "      <th>2</th>\n",
       "      <td>1999</td>\n",
       "      <td>Canada</td>\n",
       "      <td>2021A000011124</td>\n",
       "      <td>All countries</td>\n",
       "      <td>Farm, fishing and intermediate food products [...</td>\n",
       "      <td>Export</td>\n",
       "      <td>Dollars</td>\n",
       "      <td>81</td>\n",
       "      <td>thousands</td>\n",
       "      <td>3</td>\n",
       "      <td>v1566975957</td>\n",
       "      <td>1.1.2.1</td>\n",
       "      <td>14899221.7</td>\n",
       "      <td>NaN</td>\n",
       "      <td>NaN</td>\n",
       "      <td>NaN</td>\n",
       "      <td>1</td>\n",
       "    </tr>\n",
       "    <tr>\n",
       "      <th>3</th>\n",
       "      <td>1999</td>\n",
       "      <td>Canada</td>\n",
       "      <td>2021A000011124</td>\n",
       "      <td>All countries</td>\n",
       "      <td>Farm, fishing and intermediate food products [...</td>\n",
       "      <td>Import</td>\n",
       "      <td>Dollars</td>\n",
       "      <td>81</td>\n",
       "      <td>thousands</td>\n",
       "      <td>3</td>\n",
       "      <td>v1566975958</td>\n",
       "      <td>1.1.2.2</td>\n",
       "      <td>8266540.9</td>\n",
       "      <td>NaN</td>\n",
       "      <td>NaN</td>\n",
       "      <td>NaN</td>\n",
       "      <td>1</td>\n",
       "    </tr>\n",
       "    <tr>\n",
       "      <th>4</th>\n",
       "      <td>1999</td>\n",
       "      <td>Canada</td>\n",
       "      <td>2021A000011124</td>\n",
       "      <td>All countries</td>\n",
       "      <td>Energy products [C12]</td>\n",
       "      <td>Export</td>\n",
       "      <td>Dollars</td>\n",
       "      <td>81</td>\n",
       "      <td>thousands</td>\n",
       "      <td>3</td>\n",
       "      <td>v1566975959</td>\n",
       "      <td>1.1.3.1</td>\n",
       "      <td>29459508.3</td>\n",
       "      <td>NaN</td>\n",
       "      <td>NaN</td>\n",
       "      <td>NaN</td>\n",
       "      <td>1</td>\n",
       "    </tr>\n",
       "  </tbody>\n",
       "</table>\n",
       "</div>"
      ],
      "text/plain": [
       "   REF_DATE     GEO           DGUID Trading partner  \\\n",
       "0      1999  Canada  2021A000011124   All countries   \n",
       "1      1999  Canada  2021A000011124   All countries   \n",
       "2      1999  Canada  2021A000011124   All countries   \n",
       "3      1999  Canada  2021A000011124   All countries   \n",
       "4      1999  Canada  2021A000011124   All countries   \n",
       "\n",
       "  North American Product Classification System (NAPCS)   Trade      UOM  \\\n",
       "0                                       All sections    Export  Dollars   \n",
       "1                                       All sections    Import  Dollars   \n",
       "2  Farm, fishing and intermediate food products [...    Export  Dollars   \n",
       "3  Farm, fishing and intermediate food products [...    Import  Dollars   \n",
       "4                              Energy products [C12]    Export  Dollars   \n",
       "\n",
       "   UOM_ID SCALAR_FACTOR  SCALAR_ID       VECTOR COORDINATE        VALUE  \\\n",
       "0      81     thousands          3  v1566975955    1.1.1.1  355420762.2   \n",
       "1      81     thousands          3  v1566975956    1.1.1.2  320408692.7   \n",
       "2      81     thousands          3  v1566975957    1.1.2.1   14899221.7   \n",
       "3      81     thousands          3  v1566975958    1.1.2.2    8266540.9   \n",
       "4      81     thousands          3  v1566975959    1.1.3.1   29459508.3   \n",
       "\n",
       "   STATUS  SYMBOL  TERMINATED  DECIMALS  \n",
       "0     NaN     NaN         NaN         1  \n",
       "1     NaN     NaN         NaN         1  \n",
       "2     NaN     NaN         NaN         1  \n",
       "3     NaN     NaN         NaN         1  \n",
       "4     NaN     NaN         NaN         1  "
      ]
     },
     "execution_count": 24,
     "metadata": {},
     "output_type": "execute_result"
    }
   ],
   "source": [
    "dfc= pd.read_csv(\"db_country.csv\", on_bad_lines=\"skip\", low_memory=False)\n",
    "dfc.head()"
   ]
  },
  {
   "cell_type": "code",
   "execution_count": 25,
   "id": "6c107501",
   "metadata": {},
   "outputs": [
    {
     "data": {
      "text/plain": [
       "(174408, 17)"
      ]
     },
     "execution_count": 25,
     "metadata": {},
     "output_type": "execute_result"
    }
   ],
   "source": [
    "dfc.shape"
   ]
  },
  {
   "cell_type": "markdown",
   "id": "26f40e8a",
   "metadata": {},
   "source": [
    "### Analyzing the columns"
   ]
  },
  {
   "cell_type": "code",
   "execution_count": 26,
   "id": "f0169755",
   "metadata": {},
   "outputs": [
    {
     "name": "stdout",
     "output_type": "stream",
     "text": [
      "['REF_DATE', 'GEO', 'DGUID', 'Trading partner', 'North American Product Classification System (NAPCS)', 'Trade', 'UOM', 'UOM_ID', 'SCALAR_FACTOR', 'SCALAR_ID', 'VECTOR', 'COORDINATE', 'VALUE', 'STATUS', 'SYMBOL', 'TERMINATED', 'DECIMALS']\n"
     ]
    }
   ],
   "source": [
    "cols = list(dfc.columns)\n",
    "print(cols)"
   ]
  },
  {
   "cell_type": "code",
   "execution_count": 27,
   "id": "8b490083",
   "metadata": {},
   "outputs": [],
   "source": [
    "# Define a list of columns that are not necessary for our analysis\n",
    "# These columns include player metadata, IDs, URLs, and other non-essential details\n",
    "useless_columns = [\n",
    "    \"GEO\",\n",
    "    \"DGUID\",\n",
    "    \"UOM\",\n",
    "    \"UOM_ID\",\n",
    "    \"SCALAR_FACTOR\",\n",
    "    \"SCALAR_ID\",\n",
    "    \"VECTOR\",\n",
    "    \"COORDINATE\",\n",
    "    \"STATUS\",\n",
    "    \"SYMBOL\",\n",
    "    \"TERMINATED\",\n",
    "    \"DECIMALS\",\n",
    "]\n",
    "\n",
    "# Drop the columns listed in 'useless_columns' from the DataFrame\n",
    "# This step helps to reduce the dataset to only the relevant\n",
    "dfc_clean = dfc.drop(useless_columns, axis=1)"
   ]
  },
  {
   "cell_type": "code",
   "execution_count": 28,
   "id": "79e87a69",
   "metadata": {},
   "outputs": [
    {
     "data": {
      "application/vnd.microsoft.datawrangler.viewer.v0+json": {
       "columns": [
        {
         "name": "index",
         "rawType": "int64",
         "type": "integer"
        },
        {
         "name": "Date",
         "rawType": "int64",
         "type": "integer"
        },
        {
         "name": "Country",
         "rawType": "object",
         "type": "string"
        },
        {
         "name": "Product",
         "rawType": "object",
         "type": "string"
        },
        {
         "name": "Trade",
         "rawType": "object",
         "type": "string"
        },
        {
         "name": "Value",
         "rawType": "float64",
         "type": "float"
        }
       ],
       "conversionMethod": "pd.DataFrame",
       "ref": "0912b696-eac0-400d-bb36-45e3564d2fae",
       "rows": [
        [
         "0",
         "1999",
         "All countries",
         "All sections",
         "Export",
         "355420762.2"
        ],
        [
         "1",
         "1999",
         "All countries",
         "All sections",
         "Import",
         "320408692.7"
        ],
        [
         "2",
         "1999",
         "All countries",
         "Farm, fishing and intermediate food products [C11]",
         "Export",
         "14899221.7"
        ],
        [
         "3",
         "1999",
         "All countries",
         "Farm, fishing and intermediate food products [C11]",
         "Import",
         "8266540.9"
        ],
        [
         "4",
         "1999",
         "All countries",
         "Energy products [C12]",
         "Export",
         "29459508.3"
        ]
       ],
       "shape": {
        "columns": 5,
        "rows": 5
       }
      },
      "text/html": [
       "<div>\n",
       "<style scoped>\n",
       "    .dataframe tbody tr th:only-of-type {\n",
       "        vertical-align: middle;\n",
       "    }\n",
       "\n",
       "    .dataframe tbody tr th {\n",
       "        vertical-align: top;\n",
       "    }\n",
       "\n",
       "    .dataframe thead th {\n",
       "        text-align: right;\n",
       "    }\n",
       "</style>\n",
       "<table border=\"1\" class=\"dataframe\">\n",
       "  <thead>\n",
       "    <tr style=\"text-align: right;\">\n",
       "      <th></th>\n",
       "      <th>Date</th>\n",
       "      <th>Country</th>\n",
       "      <th>Product</th>\n",
       "      <th>Trade</th>\n",
       "      <th>Value</th>\n",
       "    </tr>\n",
       "  </thead>\n",
       "  <tbody>\n",
       "    <tr>\n",
       "      <th>0</th>\n",
       "      <td>1999</td>\n",
       "      <td>All countries</td>\n",
       "      <td>All sections</td>\n",
       "      <td>Export</td>\n",
       "      <td>355420762.2</td>\n",
       "    </tr>\n",
       "    <tr>\n",
       "      <th>1</th>\n",
       "      <td>1999</td>\n",
       "      <td>All countries</td>\n",
       "      <td>All sections</td>\n",
       "      <td>Import</td>\n",
       "      <td>320408692.7</td>\n",
       "    </tr>\n",
       "    <tr>\n",
       "      <th>2</th>\n",
       "      <td>1999</td>\n",
       "      <td>All countries</td>\n",
       "      <td>Farm, fishing and intermediate food products [...</td>\n",
       "      <td>Export</td>\n",
       "      <td>14899221.7</td>\n",
       "    </tr>\n",
       "    <tr>\n",
       "      <th>3</th>\n",
       "      <td>1999</td>\n",
       "      <td>All countries</td>\n",
       "      <td>Farm, fishing and intermediate food products [...</td>\n",
       "      <td>Import</td>\n",
       "      <td>8266540.9</td>\n",
       "    </tr>\n",
       "    <tr>\n",
       "      <th>4</th>\n",
       "      <td>1999</td>\n",
       "      <td>All countries</td>\n",
       "      <td>Energy products [C12]</td>\n",
       "      <td>Export</td>\n",
       "      <td>29459508.3</td>\n",
       "    </tr>\n",
       "  </tbody>\n",
       "</table>\n",
       "</div>"
      ],
      "text/plain": [
       "   Date        Country                                            Product  \\\n",
       "0  1999  All countries                                       All sections   \n",
       "1  1999  All countries                                       All sections   \n",
       "2  1999  All countries  Farm, fishing and intermediate food products [...   \n",
       "3  1999  All countries  Farm, fishing and intermediate food products [...   \n",
       "4  1999  All countries                              Energy products [C12]   \n",
       "\n",
       "    Trade        Value  \n",
       "0  Export  355420762.2  \n",
       "1  Import  320408692.7  \n",
       "2  Export   14899221.7  \n",
       "3  Import    8266540.9  \n",
       "4  Export   29459508.3  "
      ]
     },
     "execution_count": 28,
     "metadata": {},
     "output_type": "execute_result"
    }
   ],
   "source": [
    "dfc_clean.rename(\n",
    "    columns={\n",
    "        \"REF_DATE\": \"Date\",\n",
    "        \"Trading partner\": \"Country\",\n",
    "        \"North American Product Classification System (NAPCS)\": \"Product\",\n",
    "        \"VALUE\": \"Value\",\n",
    "    },\n",
    "    inplace=True,\n",
    ")\n",
    "dfc_clean.head()"
   ]
  },
  {
   "cell_type": "markdown",
   "id": "14aaba64",
   "metadata": {},
   "source": [
    "### Removing the duplicates"
   ]
  },
  {
   "cell_type": "code",
   "execution_count": 29,
   "id": "3495b934",
   "metadata": {},
   "outputs": [
    {
     "data": {
      "text/plain": [
       "array(['All sections',\n",
       "       'Farm, fishing and intermediate food products [C11]',\n",
       "       'Energy products [C12]',\n",
       "       'Metal ores and non-metallic minerals [C13]',\n",
       "       'Metal and non-metallic mineral products [C14]',\n",
       "       'Basic and industrial chemical, plastic and rubber products [C15]',\n",
       "       'Forestry products and building and packaging materials [C16]',\n",
       "       'Industrial machinery, equipment and parts [C17]',\n",
       "       'Electronic and electrical equipment and parts [C18]',\n",
       "       'Motor vehicles and parts [C19]',\n",
       "       'Aircraft and other transportation equipment and parts [C21]',\n",
       "       'Consumer goods [C22]', 'Special transactions trade [C23]'],\n",
       "      dtype=object)"
      ]
     },
     "execution_count": 29,
     "metadata": {},
     "output_type": "execute_result"
    }
   ],
   "source": [
    "# Identyfing the different categories under 'Products'\n",
    "dfc_clean[\"Product\"].unique()"
   ]
  },
  {
   "cell_type": "code",
   "execution_count": 30,
   "id": "84e02891",
   "metadata": {},
   "outputs": [
    {
     "data": {
      "application/vnd.microsoft.datawrangler.viewer.v0+json": {
       "columns": [
        {
         "name": "index",
         "rawType": "int64",
         "type": "integer"
        },
        {
         "name": "Date",
         "rawType": "int64",
         "type": "integer"
        },
        {
         "name": "Country",
         "rawType": "object",
         "type": "string"
        },
        {
         "name": "Trade",
         "rawType": "object",
         "type": "string"
        },
        {
         "name": "Value",
         "rawType": "float64",
         "type": "float"
        },
        {
         "name": "Description",
         "rawType": "object",
         "type": "string"
        }
       ],
       "conversionMethod": "pd.DataFrame",
       "ref": "7683cf0a-5bd8-4199-823b-23c156ff5f9c",
       "rows": [
        [
         "0",
         "1999",
         "All countries",
         "Export",
         "355420762.2",
         "All sections"
        ],
        [
         "1",
         "1999",
         "All countries",
         "Import",
         "320408692.7",
         "All sections"
        ],
        [
         "2",
         "1999",
         "All countries",
         "Export",
         "14899221.7",
         "Farm, fishing and intermediate food products"
        ],
        [
         "3",
         "1999",
         "All countries",
         "Import",
         "8266540.9",
         "Farm, fishing and intermediate food products"
        ],
        [
         "4",
         "1999",
         "All countries",
         "Export",
         "29459508.3",
         "Energy products"
        ]
       ],
       "shape": {
        "columns": 5,
        "rows": 5
       }
      },
      "text/html": [
       "<div>\n",
       "<style scoped>\n",
       "    .dataframe tbody tr th:only-of-type {\n",
       "        vertical-align: middle;\n",
       "    }\n",
       "\n",
       "    .dataframe tbody tr th {\n",
       "        vertical-align: top;\n",
       "    }\n",
       "\n",
       "    .dataframe thead th {\n",
       "        text-align: right;\n",
       "    }\n",
       "</style>\n",
       "<table border=\"1\" class=\"dataframe\">\n",
       "  <thead>\n",
       "    <tr style=\"text-align: right;\">\n",
       "      <th></th>\n",
       "      <th>Date</th>\n",
       "      <th>Country</th>\n",
       "      <th>Trade</th>\n",
       "      <th>Value</th>\n",
       "      <th>Description</th>\n",
       "    </tr>\n",
       "  </thead>\n",
       "  <tbody>\n",
       "    <tr>\n",
       "      <th>0</th>\n",
       "      <td>1999</td>\n",
       "      <td>All countries</td>\n",
       "      <td>Export</td>\n",
       "      <td>355420762.2</td>\n",
       "      <td>All sections</td>\n",
       "    </tr>\n",
       "    <tr>\n",
       "      <th>1</th>\n",
       "      <td>1999</td>\n",
       "      <td>All countries</td>\n",
       "      <td>Import</td>\n",
       "      <td>320408692.7</td>\n",
       "      <td>All sections</td>\n",
       "    </tr>\n",
       "    <tr>\n",
       "      <th>2</th>\n",
       "      <td>1999</td>\n",
       "      <td>All countries</td>\n",
       "      <td>Export</td>\n",
       "      <td>14899221.7</td>\n",
       "      <td>Farm, fishing and intermediate food products</td>\n",
       "    </tr>\n",
       "    <tr>\n",
       "      <th>3</th>\n",
       "      <td>1999</td>\n",
       "      <td>All countries</td>\n",
       "      <td>Import</td>\n",
       "      <td>8266540.9</td>\n",
       "      <td>Farm, fishing and intermediate food products</td>\n",
       "    </tr>\n",
       "    <tr>\n",
       "      <th>4</th>\n",
       "      <td>1999</td>\n",
       "      <td>All countries</td>\n",
       "      <td>Export</td>\n",
       "      <td>29459508.3</td>\n",
       "      <td>Energy products</td>\n",
       "    </tr>\n",
       "  </tbody>\n",
       "</table>\n",
       "</div>"
      ],
      "text/plain": [
       "   Date        Country   Trade        Value  \\\n",
       "0  1999  All countries  Export  355420762.2   \n",
       "1  1999  All countries  Import  320408692.7   \n",
       "2  1999  All countries  Export   14899221.7   \n",
       "3  1999  All countries  Import    8266540.9   \n",
       "4  1999  All countries  Export   29459508.3   \n",
       "\n",
       "                                    Description  \n",
       "0                                  All sections  \n",
       "1                                  All sections  \n",
       "2  Farm, fishing and intermediate food products  \n",
       "3  Farm, fishing and intermediate food products  \n",
       "4                               Energy products  "
      ]
     },
     "execution_count": 30,
     "metadata": {},
     "output_type": "execute_result"
    }
   ],
   "source": [
    "# Remove the codes from the Product names (text inside brackets)\n",
    "dfc_clean[\"Description\"] = dfc_clean[\"Product\"].apply(\n",
    "    lambda x: re.sub(r\"\\[.*?\\]\", \"\", x).strip()\n",
    ")\n",
    "\n",
    "# Drop the 'Product' column\n",
    "dfc_clean = dfc_clean.drop(columns=[\"Product\"])\n",
    "dfc_clean.head()"
   ]
  },
  {
   "cell_type": "code",
   "execution_count": 31,
   "id": "8d2870fc",
   "metadata": {
    "scrolled": true
   },
   "outputs": [
    {
     "data": {
      "text/plain": [
       "array(['All countries', 'Afghanistan', 'Aland Islands', 'Albania',\n",
       "       'Algeria', 'American Samoa', 'Andorra', 'Angola', 'Anguilla',\n",
       "       'Antarctica', 'Antigua and Barbuda', 'Argentina', 'Armenia',\n",
       "       'Aruba', 'Australia', 'Austria', 'Azerbaijan', 'Bahamas',\n",
       "       'Bahrain', 'Bangladesh', 'Barbados', 'Belarus', 'Belgium',\n",
       "       'Belize', 'Benin', 'Bermuda', 'Bhutan', 'Bolivia',\n",
       "       'Bonaire, Sint Eustatius and Saba', 'Bosnia and Herzegovina',\n",
       "       'Botswana', 'Bouvet Island', 'Brazil',\n",
       "       'British Indian Ocean Territory', 'British Virgin Islands',\n",
       "       'Brunei Darussalam', 'Bulgaria', 'Burkina Faso', 'Burundi',\n",
       "       'Cabo Verde', 'Cambodia', 'Cameroon', 'Canada', 'Cayman Islands',\n",
       "       'Central African Republic', 'Ceuta and Melilla', 'Chad', 'Chile',\n",
       "       'China', 'Christmas Island', 'Cocos (Keeling) Islands', 'Colombia',\n",
       "       'Comoros', 'Congo', 'Cook Islands', 'Costa Rica', 'Croatia',\n",
       "       'Cuba', 'Curaçao', 'Cyprus', 'Czechia', \"Côte d'Ivoire\",\n",
       "       'Democratic Republic of the Congo', 'Denmark', 'Djibouti',\n",
       "       'Dominica', 'Dominican Republic', 'East Timor', 'Ecuador', 'Egypt',\n",
       "       'El Salvador', 'Equatorial Guinea', 'Eritrea', 'Estonia',\n",
       "       'Ethiopia', 'Falkland Islands (Malvinas)', 'Faroe Islands',\n",
       "       'Federated States of Micronesia', 'Fiji', 'Finland', 'France',\n",
       "       'French Guiana', 'French Polynesia', 'French Southern Territories',\n",
       "       'Gabon', 'Gambia', 'Georgia', 'Germany', 'Ghana', 'Gibraltar',\n",
       "       'Greece', 'Greenland', 'Grenada', 'Guadeloupe', 'Guam',\n",
       "       'Guatemala', 'Guernsey', 'Guinea', 'Guinea-Bissau', 'Guyana',\n",
       "       'Haiti', 'Heard Island and McDonald Islands', 'High Seas',\n",
       "       'Holy See (Vatican)', 'Honduras', 'Hong Kong', 'Hungary',\n",
       "       'Iceland', 'India', 'Indonesia', 'Iran', 'Iraq', 'Ireland',\n",
       "       'Isle of Man', 'Israel', 'Italy', 'Jamaica', 'Japan', 'Jersey',\n",
       "       'Jordan', 'Kazakhstan', 'Kenya', 'Kiribati', 'Kosovo', 'Kuwait',\n",
       "       'Kyrgyzstan', 'Laos', 'Latvia', 'Lebanon', 'Lesotho', 'Liberia',\n",
       "       'Libya', 'Liechtenstein', 'Lithuania', 'Luxembourg', 'Macao',\n",
       "       'Madagascar', 'Malawi', 'Malaysia', 'Maldives', 'Mali', 'Malta',\n",
       "       'Marshall Islands', 'Martinique', 'Mauritania', 'Mauritius',\n",
       "       'Mayotte', 'Mexico', 'Monaco', 'Mongolia', 'Montenegro',\n",
       "       'Montserrat', 'Morocco', 'Mozambique', 'Myanmar', 'Namibia',\n",
       "       'Nauru', 'Nepal', 'Netherlands', 'Netherlands Antilles',\n",
       "       'New Caledonia', 'New Zealand', 'Nicaragua', 'Niger', 'Nigeria',\n",
       "       'Niue', 'Norfolk Island', 'North Korea', 'North Macedonia',\n",
       "       'Northern Mariana Islands', 'Norway', 'Oman', 'Pacific Islands',\n",
       "       'Pakistan', 'Palau', 'Panama', 'Papua New Guinea', 'Paraguay',\n",
       "       'Peru', 'Philippines', 'Pitcairn', 'Poland', 'Portugal',\n",
       "       'Puerto Rico', 'Qatar', 'Republic of Moldova', 'Reunion',\n",
       "       'Romania', 'Russian Federation', 'Rwanda', 'Saint Helena',\n",
       "       'Saint Kitts and Nevis', 'Saint Lucia',\n",
       "       'Saint Pierre and Miquelon', 'Saint Vincent and the Grenadines',\n",
       "       'Samoa', 'San Marino', 'Sao Tome and Principe', 'Saudi Arabia',\n",
       "       'Senegal', 'Serbia', 'Serbia and Montenegro', 'Seychelles',\n",
       "       'Sierra Leone', 'Singapore', 'Sint Maarten (Dutch part)',\n",
       "       'Slovakia', 'Slovenia', 'Solomon Islands', 'Somalia',\n",
       "       'South Africa', 'South Georgia and the South Sandwich Islands',\n",
       "       'South Korea', 'South Sudan', 'Spain', 'Sri Lanka',\n",
       "       'State of Palestine', 'Sudan', 'Suriname', 'Svalbard Island',\n",
       "       'Eswatini', 'Sweden', 'Switzerland', 'Syria', 'Taiwan',\n",
       "       'Tajikistan', 'Thailand', 'Timor-Leste', 'Togo', 'Tokelau',\n",
       "       'Tonga', 'Trinidad and Tobago', 'Tunisia', 'Türkiye',\n",
       "       'Turkmenistan', 'Turks and Caicos Islands', 'Tuvalu', 'Uganda',\n",
       "       'Ukraine', 'United Arab Emirates', 'United Kingdom',\n",
       "       'United Republic of Tanzania', 'United States',\n",
       "       'United States Minor Outlying Islands', 'Uruguay', 'Uzbekistan',\n",
       "       'Vanuatu', 'Venezuela', 'Viet Nam',\n",
       "       'Virgin Islands, United States', 'Wallis and Futuna',\n",
       "       'Western Sahara', 'Yemen', 'Yugoslavia', 'Zambia', 'Zimbabwe',\n",
       "       'Saint Barthélemy', 'Saint Martin (French part)'], dtype=object)"
      ]
     },
     "execution_count": 31,
     "metadata": {},
     "output_type": "execute_result"
    }
   ],
   "source": [
    "# Identyfing the different categories under 'Country'\n",
    "dfc_clean[\"Country\"].unique()"
   ]
  },
  {
   "cell_type": "markdown",
   "id": "0611915e",
   "metadata": {},
   "source": [
    "### Final touches"
   ]
  },
  {
   "cell_type": "code",
   "execution_count": 32,
   "id": "67ae2d06",
   "metadata": {},
   "outputs": [],
   "source": [
    "# Drop rows where 'Country' is 'All countries' or 'Description' is 'All sections'\n",
    "dfc_clean = dfc_clean[\n",
    "    (dfc_clean[\"Country\"] != \"All countries\") &\n",
    "    (dfc_clean[\"Description\"] != \"All sections\")\n",
    "]"
   ]
  },
  {
   "cell_type": "code",
   "execution_count": 33,
   "id": "dec4504a",
   "metadata": {},
   "outputs": [],
   "source": [
    "# Convert 'Value' to thousands\n",
    "dfc_clean['Value'] = dfc_clean['Value'] * 1000"
   ]
  },
  {
   "cell_type": "code",
   "execution_count": 34,
   "id": "9d01a908",
   "metadata": {},
   "outputs": [
    {
     "data": {
      "text/plain": [
       "Date           0\n",
       "Country        0\n",
       "Trade          0\n",
       "Value          0\n",
       "Description    0\n",
       "dtype: int64"
      ]
     },
     "execution_count": 34,
     "metadata": {},
     "output_type": "execute_result"
    }
   ],
   "source": [
    "dfc_clean.isnull().sum()"
   ]
  },
  {
   "cell_type": "code",
   "execution_count": 35,
   "id": "7afe446f",
   "metadata": {},
   "outputs": [
    {
     "data": {
      "text/plain": [
       "(160368, 5)"
      ]
     },
     "execution_count": 35,
     "metadata": {},
     "output_type": "execute_result"
    }
   ],
   "source": [
    "dfc_clean = dfc_clean.dropna()\n",
    "dfc_clean.shape"
   ]
  },
  {
   "cell_type": "code",
   "execution_count": 36,
   "id": "c142d726",
   "metadata": {},
   "outputs": [
    {
     "data": {
      "text/plain": [
       "count    1.603680e+05\n",
       "mean     1.600947e+08\n",
       "std      2.322676e+09\n",
       "min      0.000000e+00\n",
       "25%      0.000000e+00\n",
       "50%      3.820000e+04\n",
       "75%      3.192725e+06\n",
       "max      2.048284e+11\n",
       "Name: Value, dtype: float64"
      ]
     },
     "execution_count": 36,
     "metadata": {},
     "output_type": "execute_result"
    }
   ],
   "source": [
    "dfc_clean[\"Value\"].describe()"
   ]
  },
  {
   "cell_type": "code",
   "execution_count": 37,
   "id": "f1979814",
   "metadata": {},
   "outputs": [
    {
     "data": {
      "application/vnd.microsoft.datawrangler.viewer.v0+json": {
       "columns": [
        {
         "name": "index",
         "rawType": "int64",
         "type": "integer"
        },
        {
         "name": "Date",
         "rawType": "int64",
         "type": "integer"
        },
        {
         "name": "Country",
         "rawType": "object",
         "type": "string"
        },
        {
         "name": "Trade",
         "rawType": "object",
         "type": "string"
        },
        {
         "name": "Value",
         "rawType": "float64",
         "type": "float"
        },
        {
         "name": "Description",
         "rawType": "object",
         "type": "string"
        }
       ],
       "conversionMethod": "pd.DataFrame",
       "ref": "53a03775-4788-4e02-ac01-78176ec9822a",
       "rows": [
        [
         "28",
         "1999",
         "Afghanistan",
         "Export",
         "458000.0",
         "Farm, fishing and intermediate food products"
        ],
        [
         "29",
         "1999",
         "Afghanistan",
         "Import",
         "18900.0",
         "Farm, fishing and intermediate food products"
        ],
        [
         "30",
         "1999",
         "Afghanistan",
         "Export",
         "0.0",
         "Energy products"
        ],
        [
         "31",
         "1999",
         "Afghanistan",
         "Import",
         "0.0",
         "Energy products"
        ],
        [
         "32",
         "1999",
         "Afghanistan",
         "Export",
         "0.0",
         "Metal ores and non-metallic minerals"
        ]
       ],
       "shape": {
        "columns": 5,
        "rows": 5
       }
      },
      "text/html": [
       "<div>\n",
       "<style scoped>\n",
       "    .dataframe tbody tr th:only-of-type {\n",
       "        vertical-align: middle;\n",
       "    }\n",
       "\n",
       "    .dataframe tbody tr th {\n",
       "        vertical-align: top;\n",
       "    }\n",
       "\n",
       "    .dataframe thead th {\n",
       "        text-align: right;\n",
       "    }\n",
       "</style>\n",
       "<table border=\"1\" class=\"dataframe\">\n",
       "  <thead>\n",
       "    <tr style=\"text-align: right;\">\n",
       "      <th></th>\n",
       "      <th>Date</th>\n",
       "      <th>Country</th>\n",
       "      <th>Trade</th>\n",
       "      <th>Value</th>\n",
       "      <th>Description</th>\n",
       "    </tr>\n",
       "  </thead>\n",
       "  <tbody>\n",
       "    <tr>\n",
       "      <th>28</th>\n",
       "      <td>1999</td>\n",
       "      <td>Afghanistan</td>\n",
       "      <td>Export</td>\n",
       "      <td>458000.0</td>\n",
       "      <td>Farm, fishing and intermediate food products</td>\n",
       "    </tr>\n",
       "    <tr>\n",
       "      <th>29</th>\n",
       "      <td>1999</td>\n",
       "      <td>Afghanistan</td>\n",
       "      <td>Import</td>\n",
       "      <td>18900.0</td>\n",
       "      <td>Farm, fishing and intermediate food products</td>\n",
       "    </tr>\n",
       "    <tr>\n",
       "      <th>30</th>\n",
       "      <td>1999</td>\n",
       "      <td>Afghanistan</td>\n",
       "      <td>Export</td>\n",
       "      <td>0.0</td>\n",
       "      <td>Energy products</td>\n",
       "    </tr>\n",
       "    <tr>\n",
       "      <th>31</th>\n",
       "      <td>1999</td>\n",
       "      <td>Afghanistan</td>\n",
       "      <td>Import</td>\n",
       "      <td>0.0</td>\n",
       "      <td>Energy products</td>\n",
       "    </tr>\n",
       "    <tr>\n",
       "      <th>32</th>\n",
       "      <td>1999</td>\n",
       "      <td>Afghanistan</td>\n",
       "      <td>Export</td>\n",
       "      <td>0.0</td>\n",
       "      <td>Metal ores and non-metallic minerals</td>\n",
       "    </tr>\n",
       "  </tbody>\n",
       "</table>\n",
       "</div>"
      ],
      "text/plain": [
       "    Date      Country   Trade     Value  \\\n",
       "28  1999  Afghanistan  Export  458000.0   \n",
       "29  1999  Afghanistan  Import   18900.0   \n",
       "30  1999  Afghanistan  Export       0.0   \n",
       "31  1999  Afghanistan  Import       0.0   \n",
       "32  1999  Afghanistan  Export       0.0   \n",
       "\n",
       "                                     Description  \n",
       "28  Farm, fishing and intermediate food products  \n",
       "29  Farm, fishing and intermediate food products  \n",
       "30                               Energy products  \n",
       "31                               Energy products  \n",
       "32          Metal ores and non-metallic minerals  "
      ]
     },
     "execution_count": 37,
     "metadata": {},
     "output_type": "execute_result"
    }
   ],
   "source": [
    "dfc_clean.head()"
   ]
  },
  {
   "cell_type": "markdown",
   "id": "01248d0b",
   "metadata": {},
   "source": [
    "### Indexing date plus adding Year column"
   ]
  },
  {
   "cell_type": "code",
   "execution_count": 38,
   "id": "ccf382ba",
   "metadata": {},
   "outputs": [],
   "source": [
    "# Convert the 'Date' column to datetime (with the correct format)\n",
    "dfc_clean[\"Date\"] = pd.to_datetime(dfc_clean[\"Date\"], format=\"%Y\")\n",
    "\n",
    "# Set the 'Date' column as the index\n",
    "dfc_clean.set_index(\"Date\", inplace=True)\n",
    "\n",
    "# Extract year from 'Date' for easier analysis\n",
    "dfc_clean[\"Year\"] = dfc_clean.index.year"
   ]
  },
  {
   "cell_type": "markdown",
   "id": "9914ba91",
   "metadata": {},
   "source": [
    "### Creating a Category column"
   ]
  },
  {
   "cell_type": "code",
   "execution_count": 39,
   "id": "8b751f1a",
   "metadata": {},
   "outputs": [
    {
     "data": {
      "application/vnd.microsoft.datawrangler.viewer.v0+json": {
       "columns": [
        {
         "name": "Date",
         "rawType": "datetime64[ns]",
         "type": "datetime"
        },
        {
         "name": "Country",
         "rawType": "object",
         "type": "string"
        },
        {
         "name": "Trade",
         "rawType": "object",
         "type": "string"
        },
        {
         "name": "Value",
         "rawType": "float64",
         "type": "float"
        },
        {
         "name": "Description",
         "rawType": "object",
         "type": "string"
        },
        {
         "name": "Year",
         "rawType": "int32",
         "type": "integer"
        },
        {
         "name": "Category",
         "rawType": "object",
         "type": "string"
        }
       ],
       "conversionMethod": "pd.DataFrame",
       "ref": "fce10c07-f7bb-4dfa-8024-86307f34e188",
       "rows": [
        [
         "1999-01-01 00:00:00",
         "Afghanistan",
         "Export",
         "458000.0",
         "Farm, fishing and intermediate food products",
         "1999",
         "Agriculture"
        ],
        [
         "1999-01-01 00:00:00",
         "Afghanistan",
         "Import",
         "18900.0",
         "Farm, fishing and intermediate food products",
         "1999",
         "Agriculture"
        ],
        [
         "1999-01-01 00:00:00",
         "Afghanistan",
         "Export",
         "0.0",
         "Energy products",
         "1999",
         "Energy"
        ],
        [
         "1999-01-01 00:00:00",
         "Afghanistan",
         "Import",
         "0.0",
         "Energy products",
         "1999",
         "Energy"
        ],
        [
         "1999-01-01 00:00:00",
         "Afghanistan",
         "Export",
         "0.0",
         "Metal ores and non-metallic minerals",
         "1999",
         "Metals"
        ]
       ],
       "shape": {
        "columns": 6,
        "rows": 5
       }
      },
      "text/html": [
       "<div>\n",
       "<style scoped>\n",
       "    .dataframe tbody tr th:only-of-type {\n",
       "        vertical-align: middle;\n",
       "    }\n",
       "\n",
       "    .dataframe tbody tr th {\n",
       "        vertical-align: top;\n",
       "    }\n",
       "\n",
       "    .dataframe thead th {\n",
       "        text-align: right;\n",
       "    }\n",
       "</style>\n",
       "<table border=\"1\" class=\"dataframe\">\n",
       "  <thead>\n",
       "    <tr style=\"text-align: right;\">\n",
       "      <th></th>\n",
       "      <th>Country</th>\n",
       "      <th>Trade</th>\n",
       "      <th>Value</th>\n",
       "      <th>Description</th>\n",
       "      <th>Year</th>\n",
       "      <th>Category</th>\n",
       "    </tr>\n",
       "    <tr>\n",
       "      <th>Date</th>\n",
       "      <th></th>\n",
       "      <th></th>\n",
       "      <th></th>\n",
       "      <th></th>\n",
       "      <th></th>\n",
       "      <th></th>\n",
       "    </tr>\n",
       "  </thead>\n",
       "  <tbody>\n",
       "    <tr>\n",
       "      <th>1999-01-01</th>\n",
       "      <td>Afghanistan</td>\n",
       "      <td>Export</td>\n",
       "      <td>458000.0</td>\n",
       "      <td>Farm, fishing and intermediate food products</td>\n",
       "      <td>1999</td>\n",
       "      <td>Agriculture</td>\n",
       "    </tr>\n",
       "    <tr>\n",
       "      <th>1999-01-01</th>\n",
       "      <td>Afghanistan</td>\n",
       "      <td>Import</td>\n",
       "      <td>18900.0</td>\n",
       "      <td>Farm, fishing and intermediate food products</td>\n",
       "      <td>1999</td>\n",
       "      <td>Agriculture</td>\n",
       "    </tr>\n",
       "    <tr>\n",
       "      <th>1999-01-01</th>\n",
       "      <td>Afghanistan</td>\n",
       "      <td>Export</td>\n",
       "      <td>0.0</td>\n",
       "      <td>Energy products</td>\n",
       "      <td>1999</td>\n",
       "      <td>Energy</td>\n",
       "    </tr>\n",
       "    <tr>\n",
       "      <th>1999-01-01</th>\n",
       "      <td>Afghanistan</td>\n",
       "      <td>Import</td>\n",
       "      <td>0.0</td>\n",
       "      <td>Energy products</td>\n",
       "      <td>1999</td>\n",
       "      <td>Energy</td>\n",
       "    </tr>\n",
       "    <tr>\n",
       "      <th>1999-01-01</th>\n",
       "      <td>Afghanistan</td>\n",
       "      <td>Export</td>\n",
       "      <td>0.0</td>\n",
       "      <td>Metal ores and non-metallic minerals</td>\n",
       "      <td>1999</td>\n",
       "      <td>Metals</td>\n",
       "    </tr>\n",
       "  </tbody>\n",
       "</table>\n",
       "</div>"
      ],
      "text/plain": [
       "                Country   Trade     Value  \\\n",
       "Date                                        \n",
       "1999-01-01  Afghanistan  Export  458000.0   \n",
       "1999-01-01  Afghanistan  Import   18900.0   \n",
       "1999-01-01  Afghanistan  Export       0.0   \n",
       "1999-01-01  Afghanistan  Import       0.0   \n",
       "1999-01-01  Afghanistan  Export       0.0   \n",
       "\n",
       "                                             Description  Year     Category  \n",
       "Date                                                                         \n",
       "1999-01-01  Farm, fishing and intermediate food products  1999  Agriculture  \n",
       "1999-01-01  Farm, fishing and intermediate food products  1999  Agriculture  \n",
       "1999-01-01                               Energy products  1999       Energy  \n",
       "1999-01-01                               Energy products  1999       Energy  \n",
       "1999-01-01          Metal ores and non-metallic minerals  1999       Metals  "
      ]
     },
     "execution_count": 39,
     "metadata": {},
     "output_type": "execute_result"
    }
   ],
   "source": [
    "# Define the mapping dictionary\n",
    "description_to_category_c = {\n",
    "    \"Aircraft and other transportation equipment and parts\": \"Transportation\",\n",
    "    \"Basic and industrial chemical, plastic and rubber products\": \"Chemicals\",\n",
    "    \"Consumer goods\": \"Consumer Goods\",\n",
    "    \"Electronic and electrical equipment and parts\": \"Electronics\",\n",
    "    \"Energy products\": \"Energy\",\n",
    "    \"Farm, fishing and intermediate food products\": \"Agriculture\",\n",
    "    \"Forestry products and building and packaging materials\": \"Construction\",\n",
    "    \"Industrial machinery, equipment and parts\": \"Machinery\",\n",
    "    \"Metal and non-metallic mineral products\": \"Metals\",\n",
    "    \"Metal ores and non-metallic minerals\": \"Metals\",\n",
    "    \"Motor vehicles and parts\": \"Transportation\",\n",
    "    \"Special transactions trade\": \"Miscellaneous\",\n",
    "}\n",
    "\n",
    "# Map the descriptions to categories\n",
    "dfc_clean[\"Category\"] = dfc_clean[\"Description\"].map(description_to_category_c)\n",
    "\n",
    "# Drop rows with missing categories\n",
    "dfc_clean = dfc_clean.dropna(subset=[\"Category\"])\n",
    "\n",
    "dfc_clean.head()"
   ]
  },
  {
   "cell_type": "markdown",
   "id": "88147fb6",
   "metadata": {},
   "source": [
    "### Saving the cleaned dataset as a .csv"
   ]
  },
  {
   "cell_type": "code",
   "execution_count": 40,
   "id": "2c545368",
   "metadata": {},
   "outputs": [],
   "source": [
    "# Reset the index to ensure the 'Date' column is included in the CSV\n",
    "dfc_clean_reset = dfc_clean.reset_index()\n",
    "\n",
    "# Save the cleaned DataFrame to a CSV file\n",
    "dfc_clean_reset.to_csv(\"cleaned_country.csv\", index=False)"
   ]
  },
  {
   "cell_type": "markdown",
   "id": "9b3c7b71-aa34-4af5-b68e-6413d9ef86f5",
   "metadata": {},
   "source": [
    "---\n",
    "\n",
    "<a id=\"interpretation\"></a>\n",
    "## **2. Interpretation**"
   ]
  },
  {
   "cell_type": "markdown",
   "id": "6467e6f6",
   "metadata": {},
   "source": [
    "<a id=\"d1\"></a>\n",
    "### 2.1 Distribution of Free Trade Agreements by Yearly Average Value (Last 10 Years)"
   ]
  },
  {
   "cell_type": "code",
   "execution_count": 41,
   "id": "6a23302b",
   "metadata": {},
   "outputs": [
    {
     "data": {
      "application/vnd.plotly.v1+json": {
       "config": {
        "plotlyServerURL": "https://plot.ly"
       },
       "data": [
        {
         "branchvalues": "total",
         "domain": {
          "x": [
           0,
           1
          ],
          "y": [
           0,
           1
          ]
         },
         "hovertemplate": "%{label}<br>Yearly Avg Value: $%{value:,.2f}<extra></extra>",
         "ids": [
          "Canada-ASEAN Free Trade Agreement, discussions",
          "Canada-Caribbean Community Trade Agreement, negotiations",
          "Canada-Chile Free Trade Agreement, in force from 1997/07 to present",
          "Canada-China Free Trade Agreement, discussions",
          "Canada-Colombia Free Trade Agreement, in force from 2011/08 to present",
          "Canada-Costa Rica Free Trade Agreement, in force from 2002/11 to present",
          "Canada-Dominican Republic Free Trade Agreement, negotiations",
          "Canada-European Free Trade Association (EFTA) Free Trade Agreement, in force from 2009/07 to present",
          "Canada-European Union: Comprehensive Economic and Trade Agreement (CETA), in force from 2017/09 to present",
          "Canada-Guatemala, Nicaragua and El Salvador Free Trade Agreement, negotiations",
          "Canada-Honduras Free Trade Agreement, in force from 2014/10 to present",
          "Canada-India Comprehensive Economic Partnership Agreement, negotiations",
          "Canada-Indonesia Comprehensive Economic Partnership Agreement, negotiations",
          "Canada-Israel Free Trade Agreement (CIFTA), in force from 1997/01 to present",
          "Canada-Japan Economic Partnership Agreement, negotiations",
          "Canada-Jordan Free Trade Agreement, in force from 2012/10 to present",
          "Canada-Korea Free Trade Agreement (CKFTA), in force from 2015/01 to present",
          "Canada-Mercosur Free Trade Agreement, negotiations",
          "Canada-Morocco Free Trade Agreement, negotiations",
          "Canada-Pacific Alliance Free Trade Agreement, negotiations",
          "Canada-Panama Free Trade Agreement, in force from 2013/04 to present",
          "Canada-Peru Free Trade Agreement, in force from 2009/08 to present",
          "Canada-Philippines Free Trade Agreement, discussions",
          "Canada-Singapore Free Trade Agreement, negotiations",
          "Canada-Thailand Free Trade Agreement, discussions",
          "Canada-Türkiye Free Trade Agreement, discussions",
          "Canada-U.S. Free Trade Agreement (CUSFTA), superseded by NAFTA, in force from 1989/01 to 1993/12",
          "Canada-Ukraine Free Trade Agreement (CUFTA), in force from 2017/08 to present",
          "Canada-United Kingdom Trade Continuity Agreement, signed",
          "Canada-United States-Mexico Agreement (CUSMA), preceeded by NAFTA",
          "Comprehensive and Progressive Agreement for Trans-Pacific Partnership (CPTPP), in force from 2019/01 to present",
          "Trans-Pacific Partnership (TPP), signed"
         ],
         "labels": [
          "Canada-ASEAN Free Trade Agreement, discussions",
          "Canada-Caribbean Community Trade Agreement, negotiations",
          "Canada-Chile Free Trade Agreement, in force from 1997/07 to present",
          "Canada-China Free Trade Agreement, discussions",
          "Canada-Colombia Free Trade Agreement, in force from 2011/08 to present",
          "Canada-Costa Rica Free Trade Agreement, in force from 2002/11 to present",
          "Canada-Dominican Republic Free Trade Agreement, negotiations",
          "Canada-European Free Trade Association (EFTA) Free Trade Agreement, in force from 2009/07 to present",
          "Canada-European Union: Comprehensive Economic and Trade Agreement (CETA), in force from 2017/09 to present",
          "Canada-Guatemala, Nicaragua and El Salvador Free Trade Agreement, negotiations",
          "Canada-Honduras Free Trade Agreement, in force from 2014/10 to present",
          "Canada-India Comprehensive Economic Partnership Agreement, negotiations",
          "Canada-Indonesia Comprehensive Economic Partnership Agreement, negotiations",
          "Canada-Israel Free Trade Agreement (CIFTA), in force from 1997/01 to present",
          "Canada-Japan Economic Partnership Agreement, negotiations",
          "Canada-Jordan Free Trade Agreement, in force from 2012/10 to present",
          "Canada-Korea Free Trade Agreement (CKFTA), in force from 2015/01 to present",
          "Canada-Mercosur Free Trade Agreement, negotiations",
          "Canada-Morocco Free Trade Agreement, negotiations",
          "Canada-Pacific Alliance Free Trade Agreement, negotiations",
          "Canada-Panama Free Trade Agreement, in force from 2013/04 to present",
          "Canada-Peru Free Trade Agreement, in force from 2009/08 to present",
          "Canada-Philippines Free Trade Agreement, discussions",
          "Canada-Singapore Free Trade Agreement, negotiations",
          "Canada-Thailand Free Trade Agreement, discussions",
          "Canada-Türkiye Free Trade Agreement, discussions",
          "Canada-U.S. Free Trade Agreement (CUSFTA), superseded by NAFTA, in force from 1989/01 to 1993/12",
          "Canada-Ukraine Free Trade Agreement (CUFTA), in force from 2017/08 to present",
          "Canada-United Kingdom Trade Continuity Agreement, signed",
          "Canada-United States-Mexico Agreement (CUSMA), preceeded by NAFTA",
          "Comprehensive and Progressive Agreement for Trans-Pacific Partnership (CPTPP), in force from 2019/01 to present",
          "Trans-Pacific Partnership (TPP), signed"
         ],
         "name": "",
         "parents": [
          "",
          "",
          "",
          "",
          "",
          "",
          "",
          "",
          "",
          "",
          "",
          "",
          "",
          "",
          "",
          "",
          "",
          "",
          "",
          "",
          "",
          "",
          "",
          "",
          "",
          "",
          "",
          "",
          "",
          "",
          "",
          ""
         ],
         "type": "treemap",
         "values": {
          "bdata": "yJW5vchiaEGrhaCfn285Qb4KZklBgjdBVXpfyAZthEGzpBwQLlU6QRAZ7lXavhVB1h3GBAz3GEHZZJNtc4xiQfTjyuisyJBBofpMW2M5IUG1EPTjcvDyQPMI1ScDo1tB1kLQj29VOUGqz7Q1jXAmQb1Uejdcu3VBlCgsTimBAEFeT8d6ATpiQZUDIiMRiFNBw70KZhBfLkHpoos+ZcxxQfjggw+U2BtB9k+isH5DPEHrM22NdCI7QdmJndhvRENBWXcYkzh4N0EV8Zw9SHdAQTb+7uE7fsdB2j+Jwi55GEFD0I/vfoKAQejoP+WX08hBWJwispXah0GwXY885fvIQQ==",
          "dtype": "f8"
         }
        }
       ],
       "layout": {
        "legend": {
         "tracegroupgap": 0
        },
        "margin": {
         "t": 60
        },
        "template": {
         "data": {
          "bar": [
           {
            "error_x": {
             "color": "#2a3f5f"
            },
            "error_y": {
             "color": "#2a3f5f"
            },
            "marker": {
             "line": {
              "color": "#E5ECF6",
              "width": 0.5
             },
             "pattern": {
              "fillmode": "overlay",
              "size": 10,
              "solidity": 0.2
             }
            },
            "type": "bar"
           }
          ],
          "barpolar": [
           {
            "marker": {
             "line": {
              "color": "#E5ECF6",
              "width": 0.5
             },
             "pattern": {
              "fillmode": "overlay",
              "size": 10,
              "solidity": 0.2
             }
            },
            "type": "barpolar"
           }
          ],
          "carpet": [
           {
            "aaxis": {
             "endlinecolor": "#2a3f5f",
             "gridcolor": "white",
             "linecolor": "white",
             "minorgridcolor": "white",
             "startlinecolor": "#2a3f5f"
            },
            "baxis": {
             "endlinecolor": "#2a3f5f",
             "gridcolor": "white",
             "linecolor": "white",
             "minorgridcolor": "white",
             "startlinecolor": "#2a3f5f"
            },
            "type": "carpet"
           }
          ],
          "choropleth": [
           {
            "colorbar": {
             "outlinewidth": 0,
             "ticks": ""
            },
            "type": "choropleth"
           }
          ],
          "contour": [
           {
            "colorbar": {
             "outlinewidth": 0,
             "ticks": ""
            },
            "colorscale": [
             [
              0,
              "#0d0887"
             ],
             [
              0.1111111111111111,
              "#46039f"
             ],
             [
              0.2222222222222222,
              "#7201a8"
             ],
             [
              0.3333333333333333,
              "#9c179e"
             ],
             [
              0.4444444444444444,
              "#bd3786"
             ],
             [
              0.5555555555555556,
              "#d8576b"
             ],
             [
              0.6666666666666666,
              "#ed7953"
             ],
             [
              0.7777777777777778,
              "#fb9f3a"
             ],
             [
              0.8888888888888888,
              "#fdca26"
             ],
             [
              1,
              "#f0f921"
             ]
            ],
            "type": "contour"
           }
          ],
          "contourcarpet": [
           {
            "colorbar": {
             "outlinewidth": 0,
             "ticks": ""
            },
            "type": "contourcarpet"
           }
          ],
          "heatmap": [
           {
            "colorbar": {
             "outlinewidth": 0,
             "ticks": ""
            },
            "colorscale": [
             [
              0,
              "#0d0887"
             ],
             [
              0.1111111111111111,
              "#46039f"
             ],
             [
              0.2222222222222222,
              "#7201a8"
             ],
             [
              0.3333333333333333,
              "#9c179e"
             ],
             [
              0.4444444444444444,
              "#bd3786"
             ],
             [
              0.5555555555555556,
              "#d8576b"
             ],
             [
              0.6666666666666666,
              "#ed7953"
             ],
             [
              0.7777777777777778,
              "#fb9f3a"
             ],
             [
              0.8888888888888888,
              "#fdca26"
             ],
             [
              1,
              "#f0f921"
             ]
            ],
            "type": "heatmap"
           }
          ],
          "histogram": [
           {
            "marker": {
             "pattern": {
              "fillmode": "overlay",
              "size": 10,
              "solidity": 0.2
             }
            },
            "type": "histogram"
           }
          ],
          "histogram2d": [
           {
            "colorbar": {
             "outlinewidth": 0,
             "ticks": ""
            },
            "colorscale": [
             [
              0,
              "#0d0887"
             ],
             [
              0.1111111111111111,
              "#46039f"
             ],
             [
              0.2222222222222222,
              "#7201a8"
             ],
             [
              0.3333333333333333,
              "#9c179e"
             ],
             [
              0.4444444444444444,
              "#bd3786"
             ],
             [
              0.5555555555555556,
              "#d8576b"
             ],
             [
              0.6666666666666666,
              "#ed7953"
             ],
             [
              0.7777777777777778,
              "#fb9f3a"
             ],
             [
              0.8888888888888888,
              "#fdca26"
             ],
             [
              1,
              "#f0f921"
             ]
            ],
            "type": "histogram2d"
           }
          ],
          "histogram2dcontour": [
           {
            "colorbar": {
             "outlinewidth": 0,
             "ticks": ""
            },
            "colorscale": [
             [
              0,
              "#0d0887"
             ],
             [
              0.1111111111111111,
              "#46039f"
             ],
             [
              0.2222222222222222,
              "#7201a8"
             ],
             [
              0.3333333333333333,
              "#9c179e"
             ],
             [
              0.4444444444444444,
              "#bd3786"
             ],
             [
              0.5555555555555556,
              "#d8576b"
             ],
             [
              0.6666666666666666,
              "#ed7953"
             ],
             [
              0.7777777777777778,
              "#fb9f3a"
             ],
             [
              0.8888888888888888,
              "#fdca26"
             ],
             [
              1,
              "#f0f921"
             ]
            ],
            "type": "histogram2dcontour"
           }
          ],
          "mesh3d": [
           {
            "colorbar": {
             "outlinewidth": 0,
             "ticks": ""
            },
            "type": "mesh3d"
           }
          ],
          "parcoords": [
           {
            "line": {
             "colorbar": {
              "outlinewidth": 0,
              "ticks": ""
             }
            },
            "type": "parcoords"
           }
          ],
          "pie": [
           {
            "automargin": true,
            "type": "pie"
           }
          ],
          "scatter": [
           {
            "fillpattern": {
             "fillmode": "overlay",
             "size": 10,
             "solidity": 0.2
            },
            "type": "scatter"
           }
          ],
          "scatter3d": [
           {
            "line": {
             "colorbar": {
              "outlinewidth": 0,
              "ticks": ""
             }
            },
            "marker": {
             "colorbar": {
              "outlinewidth": 0,
              "ticks": ""
             }
            },
            "type": "scatter3d"
           }
          ],
          "scattercarpet": [
           {
            "marker": {
             "colorbar": {
              "outlinewidth": 0,
              "ticks": ""
             }
            },
            "type": "scattercarpet"
           }
          ],
          "scattergeo": [
           {
            "marker": {
             "colorbar": {
              "outlinewidth": 0,
              "ticks": ""
             }
            },
            "type": "scattergeo"
           }
          ],
          "scattergl": [
           {
            "marker": {
             "colorbar": {
              "outlinewidth": 0,
              "ticks": ""
             }
            },
            "type": "scattergl"
           }
          ],
          "scattermap": [
           {
            "marker": {
             "colorbar": {
              "outlinewidth": 0,
              "ticks": ""
             }
            },
            "type": "scattermap"
           }
          ],
          "scattermapbox": [
           {
            "marker": {
             "colorbar": {
              "outlinewidth": 0,
              "ticks": ""
             }
            },
            "type": "scattermapbox"
           }
          ],
          "scatterpolar": [
           {
            "marker": {
             "colorbar": {
              "outlinewidth": 0,
              "ticks": ""
             }
            },
            "type": "scatterpolar"
           }
          ],
          "scatterpolargl": [
           {
            "marker": {
             "colorbar": {
              "outlinewidth": 0,
              "ticks": ""
             }
            },
            "type": "scatterpolargl"
           }
          ],
          "scatterternary": [
           {
            "marker": {
             "colorbar": {
              "outlinewidth": 0,
              "ticks": ""
             }
            },
            "type": "scatterternary"
           }
          ],
          "surface": [
           {
            "colorbar": {
             "outlinewidth": 0,
             "ticks": ""
            },
            "colorscale": [
             [
              0,
              "#0d0887"
             ],
             [
              0.1111111111111111,
              "#46039f"
             ],
             [
              0.2222222222222222,
              "#7201a8"
             ],
             [
              0.3333333333333333,
              "#9c179e"
             ],
             [
              0.4444444444444444,
              "#bd3786"
             ],
             [
              0.5555555555555556,
              "#d8576b"
             ],
             [
              0.6666666666666666,
              "#ed7953"
             ],
             [
              0.7777777777777778,
              "#fb9f3a"
             ],
             [
              0.8888888888888888,
              "#fdca26"
             ],
             [
              1,
              "#f0f921"
             ]
            ],
            "type": "surface"
           }
          ],
          "table": [
           {
            "cells": {
             "fill": {
              "color": "#EBF0F8"
             },
             "line": {
              "color": "white"
             }
            },
            "header": {
             "fill": {
              "color": "#C8D4E3"
             },
             "line": {
              "color": "white"
             }
            },
            "type": "table"
           }
          ]
         },
         "layout": {
          "annotationdefaults": {
           "arrowcolor": "#2a3f5f",
           "arrowhead": 0,
           "arrowwidth": 1
          },
          "autotypenumbers": "strict",
          "coloraxis": {
           "colorbar": {
            "outlinewidth": 0,
            "ticks": ""
           }
          },
          "colorscale": {
           "diverging": [
            [
             0,
             "#8e0152"
            ],
            [
             0.1,
             "#c51b7d"
            ],
            [
             0.2,
             "#de77ae"
            ],
            [
             0.3,
             "#f1b6da"
            ],
            [
             0.4,
             "#fde0ef"
            ],
            [
             0.5,
             "#f7f7f7"
            ],
            [
             0.6,
             "#e6f5d0"
            ],
            [
             0.7,
             "#b8e186"
            ],
            [
             0.8,
             "#7fbc41"
            ],
            [
             0.9,
             "#4d9221"
            ],
            [
             1,
             "#276419"
            ]
           ],
           "sequential": [
            [
             0,
             "#0d0887"
            ],
            [
             0.1111111111111111,
             "#46039f"
            ],
            [
             0.2222222222222222,
             "#7201a8"
            ],
            [
             0.3333333333333333,
             "#9c179e"
            ],
            [
             0.4444444444444444,
             "#bd3786"
            ],
            [
             0.5555555555555556,
             "#d8576b"
            ],
            [
             0.6666666666666666,
             "#ed7953"
            ],
            [
             0.7777777777777778,
             "#fb9f3a"
            ],
            [
             0.8888888888888888,
             "#fdca26"
            ],
            [
             1,
             "#f0f921"
            ]
           ],
           "sequentialminus": [
            [
             0,
             "#0d0887"
            ],
            [
             0.1111111111111111,
             "#46039f"
            ],
            [
             0.2222222222222222,
             "#7201a8"
            ],
            [
             0.3333333333333333,
             "#9c179e"
            ],
            [
             0.4444444444444444,
             "#bd3786"
            ],
            [
             0.5555555555555556,
             "#d8576b"
            ],
            [
             0.6666666666666666,
             "#ed7953"
            ],
            [
             0.7777777777777778,
             "#fb9f3a"
            ],
            [
             0.8888888888888888,
             "#fdca26"
            ],
            [
             1,
             "#f0f921"
            ]
           ]
          },
          "colorway": [
           "#636efa",
           "#EF553B",
           "#00cc96",
           "#ab63fa",
           "#FFA15A",
           "#19d3f3",
           "#FF6692",
           "#B6E880",
           "#FF97FF",
           "#FECB52"
          ],
          "font": {
           "color": "#2a3f5f"
          },
          "geo": {
           "bgcolor": "white",
           "lakecolor": "white",
           "landcolor": "#E5ECF6",
           "showlakes": true,
           "showland": true,
           "subunitcolor": "white"
          },
          "hoverlabel": {
           "align": "left"
          },
          "hovermode": "closest",
          "mapbox": {
           "style": "light"
          },
          "paper_bgcolor": "white",
          "plot_bgcolor": "#E5ECF6",
          "polar": {
           "angularaxis": {
            "gridcolor": "white",
            "linecolor": "white",
            "ticks": ""
           },
           "bgcolor": "#E5ECF6",
           "radialaxis": {
            "gridcolor": "white",
            "linecolor": "white",
            "ticks": ""
           }
          },
          "scene": {
           "xaxis": {
            "backgroundcolor": "#E5ECF6",
            "gridcolor": "white",
            "gridwidth": 2,
            "linecolor": "white",
            "showbackground": true,
            "ticks": "",
            "zerolinecolor": "white"
           },
           "yaxis": {
            "backgroundcolor": "#E5ECF6",
            "gridcolor": "white",
            "gridwidth": 2,
            "linecolor": "white",
            "showbackground": true,
            "ticks": "",
            "zerolinecolor": "white"
           },
           "zaxis": {
            "backgroundcolor": "#E5ECF6",
            "gridcolor": "white",
            "gridwidth": 2,
            "linecolor": "white",
            "showbackground": true,
            "ticks": "",
            "zerolinecolor": "white"
           }
          },
          "shapedefaults": {
           "line": {
            "color": "#2a3f5f"
           }
          },
          "ternary": {
           "aaxis": {
            "gridcolor": "white",
            "linecolor": "white",
            "ticks": ""
           },
           "baxis": {
            "gridcolor": "white",
            "linecolor": "white",
            "ticks": ""
           },
           "bgcolor": "#E5ECF6",
           "caxis": {
            "gridcolor": "white",
            "linecolor": "white",
            "ticks": ""
           }
          },
          "title": {
           "x": 0.05
          },
          "xaxis": {
           "automargin": true,
           "gridcolor": "white",
           "linecolor": "white",
           "ticks": "",
           "title": {
            "standoff": 15
           },
           "zerolinecolor": "white",
           "zerolinewidth": 2
          },
          "yaxis": {
           "automargin": true,
           "gridcolor": "white",
           "linecolor": "white",
           "ticks": "",
           "title": {
            "standoff": 15
           },
           "zerolinecolor": "white",
           "zerolinewidth": 2
          }
         }
        },
        "title": {
         "text": "Distribution of Free Trade Agreements<br>by Yearly Average Value (Last 10 Years)",
         "x": 0.5
        },
        "updatemenus": [
         {
          "buttons": [
           {
            "args": [
             {
              "labels": [
               [
                "Canada-ASEAN Free Trade Agreement, discussions",
                "Canada-Caribbean Community Trade Agreement, negotiations",
                "Canada-Chile Free Trade Agreement, in force from 1997/07 to present",
                "Canada-China Free Trade Agreement, discussions",
                "Canada-Colombia Free Trade Agreement, in force from 2011/08 to present",
                "Canada-Costa Rica Free Trade Agreement, in force from 2002/11 to present",
                "Canada-Dominican Republic Free Trade Agreement, negotiations",
                "Canada-European Free Trade Association (EFTA) Free Trade Agreement, in force from 2009/07 to present",
                "Canada-European Union: Comprehensive Economic and Trade Agreement (CETA), in force from 2017/09 to present",
                "Canada-Guatemala, Nicaragua and El Salvador Free Trade Agreement, negotiations",
                "Canada-Honduras Free Trade Agreement, in force from 2014/10 to present",
                "Canada-India Comprehensive Economic Partnership Agreement, negotiations",
                "Canada-Indonesia Comprehensive Economic Partnership Agreement, negotiations",
                "Canada-Israel Free Trade Agreement (CIFTA), in force from 1997/01 to present",
                "Canada-Japan Economic Partnership Agreement, negotiations",
                "Canada-Jordan Free Trade Agreement, in force from 2012/10 to present",
                "Canada-Korea Free Trade Agreement (CKFTA), in force from 2015/01 to present",
                "Canada-Mercosur Free Trade Agreement, negotiations",
                "Canada-Morocco Free Trade Agreement, negotiations",
                "Canada-Pacific Alliance Free Trade Agreement, negotiations",
                "Canada-Panama Free Trade Agreement, in force from 2013/04 to present",
                "Canada-Peru Free Trade Agreement, in force from 2009/08 to present",
                "Canada-Philippines Free Trade Agreement, discussions",
                "Canada-Singapore Free Trade Agreement, negotiations",
                "Canada-Thailand Free Trade Agreement, discussions",
                "Canada-Türkiye Free Trade Agreement, discussions",
                "Canada-U.S. Free Trade Agreement (CUSFTA), superseded by NAFTA, in force from 1989/01 to 1993/12",
                "Canada-Ukraine Free Trade Agreement (CUFTA), in force from 2017/08 to present",
                "Canada-United Kingdom Trade Continuity Agreement, signed",
                "Canada-United States-Mexico Agreement (CUSMA), preceeded by NAFTA",
                "Comprehensive and Progressive Agreement for Trans-Pacific Partnership (CPTPP), in force from 2019/01 to present",
                "Trans-Pacific Partnership (TPP), signed"
               ]
              ],
              "values": [
               [
                12785221.92890443,
                1666975.6235431235,
                1540673.2867132868,
                42836185.04662005,
                1725742.062937063,
                356278.5839160839,
                409027.00466200465,
                9724827.424242424,
                70396730.1981352,
                564401.6783216783,
                77575.18065268065,
                7244812.622377622,
                1660271.5617715619,
                735302.6048951049,
                22787523.46736597,
                135205.16317016317,
                9555979.836829837,
                5120068.548951049,
                995208.1993006993,
                18662995.90909091,
                456229.01515151514,
                1852286.6899766899,
                1778292.5524475526,
                2525407.6923076925,
                1538104.5745920746,
                2158224.4813519814,
                788297667.8671329,
                400971.68997669,
                34623453.94522145,
                833040330.4992952,
                50025142.266899765,
                838322809.1200466
               ]
              ]
             }
            ],
            "label": "Export",
            "method": "update"
           },
           {
            "args": [
             {
              "labels": [
               [
                "Canada-ASEAN Free Trade Agreement, discussions",
                "Canada-Caribbean Community Trade Agreement, negotiations",
                "Canada-Chile Free Trade Agreement, in force from 1997/07 to present",
                "Canada-China Free Trade Agreement, discussions",
                "Canada-Colombia Free Trade Agreement, in force from 2011/08 to present",
                "Canada-Costa Rica Free Trade Agreement, in force from 2002/11 to present",
                "Canada-Dominican Republic Free Trade Agreement, negotiations",
                "Canada-European Free Trade Association (EFTA) Free Trade Agreement, in force from 2009/07 to present",
                "Canada-European Union: Comprehensive Economic and Trade Agreement (CETA), in force from 2017/09 to present",
                "Canada-Guatemala, Nicaragua and El Salvador Free Trade Agreement, negotiations",
                "Canada-Honduras Free Trade Agreement, in force from 2014/10 to present",
                "Canada-India Comprehensive Economic Partnership Agreement, negotiations",
                "Canada-Indonesia Comprehensive Economic Partnership Agreement, negotiations",
                "Canada-Israel Free Trade Agreement (CIFTA), in force from 1997/01 to present",
                "Canada-Japan Economic Partnership Agreement, negotiations",
                "Canada-Jordan Free Trade Agreement, in force from 2012/10 to present",
                "Canada-Korea Free Trade Agreement (CKFTA), in force from 2015/01 to present",
                "Canada-Mercosur Free Trade Agreement, negotiations",
                "Canada-Morocco Free Trade Agreement, negotiations",
                "Canada-Pacific Alliance Free Trade Agreement, negotiations",
                "Canada-Panama Free Trade Agreement, in force from 2013/04 to present",
                "Canada-Peru Free Trade Agreement, in force from 2009/08 to present",
                "Canada-Philippines Free Trade Agreement, discussions",
                "Canada-Singapore Free Trade Agreement, negotiations",
                "Canada-Thailand Free Trade Agreement, discussions",
                "Canada-Türkiye Free Trade Agreement, discussions",
                "Canada-U.S. Free Trade Agreement (CUSFTA), superseded by NAFTA, in force from 1989/01 to 1993/12",
                "Canada-Ukraine Free Trade Agreement (CUFTA), in force from 2017/08 to present",
                "Canada-United Kingdom Trade Continuity Agreement, signed",
                "Canada-United States-Mexico Agreement (CUSMA), preceeded by NAFTA",
                "Comprehensive and Progressive Agreement for Trans-Pacific Partnership (CPTPP), in force from 2019/01 to present",
                "Trans-Pacific Partnership (TPP), signed"
               ]
              ],
              "values": [
               [
                36558106.80652681,
                1902431.386946387,
                3676767.5757575757,
                125362103.3041958,
                1972867.4592074591,
                1118182.5291375292,
                1532112.9137529137,
                11886066.695804195,
                114931332.63403264,
                2013728.9102564103,
                803742.0920745921,
                9540087.523310022,
                1727366.0372960372,
                2237114.6503496505,
                25379115.168997668,
                234775.1048951049,
                16362410.547785548,
                14076584.114219114,
                1036075.8624708625,
                70769429.07342657,
                56462.88461538462,
                6659483.444055944,
                2757706.8764568763,
                1938838.881118881,
                6435817.680652681,
                3902747.3601398603,
                517632242.8146853,
                273220.79254079255,
                14649230.932400933,
                668153121.9222615,
                120036175.42540793,
                637668417.902098
               ]
              ]
             }
            ],
            "label": "Import",
            "method": "update"
           }
          ],
          "direction": "down",
          "showactive": true
         }
        ]
       }
      }
     },
     "metadata": {},
     "output_type": "display_data"
    }
   ],
   "source": [
    "# Function to create the treemap based on the selected trade type\n",
    "def create_treemap(trade_type):\n",
    "    # Filter data to include only the last 10 years and exclude \"Total of all countries\"\n",
    "    recent_data = df_clean[\n",
    "        (df_clean[\"Year\"] >= (df_clean[\"Year\"].max() - 10)) &\n",
    "        (df_clean[\"Trade\"] == trade_type)\n",
    "    ]\n",
    "\n",
    "    # Group by 'Free Trade Agreement' and calculate the average 'Value' over the last 10 years\n",
    "    fta_avg_values = recent_data.groupby(\"Free Trade Agreement\", as_index=False)[\"Value\"].mean()\n",
    "\n",
    "    return fta_avg_values\n",
    "\n",
    "# Create data for both Export and Import\n",
    "export_data = create_treemap('Export')\n",
    "import_data = create_treemap('Import')\n",
    "\n",
    "# Create the initial treemap for Export\n",
    "fig = px.treemap(\n",
    "    export_data,\n",
    "    path=[\"Free Trade Agreement\"],\n",
    "    values=\"Value\",\n",
    ")\n",
    "\n",
    "# Update hover template and layout\n",
    "fig.update_traces(\n",
    "    hovertemplate=\"%{label}<br>Yearly Avg Value: $%{value:,.2f}<extra></extra>\"\n",
    ")\n",
    "fig.update_layout(\n",
    "    title={\n",
    "        'text': \"Distribution of Free Trade Agreements<br>by Yearly Average Value (Last 10 Years)\",\n",
    "        'x': 0.5,\n",
    "    },\n",
    "    updatemenus=[\n",
    "        {\n",
    "            \"buttons\": [\n",
    "                {\n",
    "                    \"args\": [{\"values\": [export_data[\"Value\"]], \"labels\": [export_data[\"Free Trade Agreement\"]]}],\n",
    "                    \"label\": \"Export\",\n",
    "                    \"method\": \"update\",\n",
    "                },\n",
    "                {\n",
    "                    \"args\": [{\"values\": [import_data[\"Value\"]], \"labels\": [import_data[\"Free Trade Agreement\"]]}],\n",
    "                    \"label\": \"Import\",\n",
    "                    \"method\": \"update\",\n",
    "                },\n",
    "            ],\n",
    "            \"direction\": \"down\",\n",
    "            \"showactive\": True,\n",
    "        }\n",
    "    ]\n",
    ")\n",
    "\n",
    "fig.show()\n"
   ]
  },
  {
   "cell_type": "markdown",
   "id": "1fd24e91",
   "metadata": {},
   "source": [
    "<a id=\"d2\"></a>\n",
    "### 2.2 Distribution of Countries by Yearly Avg Value (Last 10 Years)"
   ]
  },
  {
   "cell_type": "code",
   "execution_count": 42,
   "id": "5a67f452",
   "metadata": {},
   "outputs": [
    {
     "data": {
      "application/vnd.plotly.v1+json": {
       "config": {
        "plotlyServerURL": "https://plot.ly"
       },
       "data": [
        {
         "branchvalues": "total",
         "domain": {
          "x": [
           0,
           1
          ],
          "y": [
           0,
           1
          ]
         },
         "hovertemplate": "%{label}<br>Yearly Avg Value: $%{value:,.2f}<extra></extra>",
         "ids": [
          "Afghanistan",
          "Aland Islands",
          "Albania",
          "Algeria",
          "American Samoa",
          "Andorra",
          "Angola",
          "Anguilla",
          "Antarctica",
          "Antigua and Barbuda",
          "Argentina",
          "Armenia",
          "Aruba",
          "Australia",
          "Austria",
          "Azerbaijan",
          "Bahamas",
          "Bahrain",
          "Bangladesh",
          "Barbados",
          "Belarus",
          "Belgium",
          "Belize",
          "Benin",
          "Bermuda",
          "Bhutan",
          "Bolivia",
          "Bonaire, Sint Eustatius and Saba",
          "Bosnia and Herzegovina",
          "Botswana",
          "Bouvet Island",
          "Brazil",
          "British Indian Ocean Territory",
          "British Virgin Islands",
          "Brunei Darussalam",
          "Bulgaria",
          "Burkina Faso",
          "Burundi",
          "Cabo Verde",
          "Cambodia",
          "Cameroon",
          "Canada",
          "Cayman Islands",
          "Central African Republic",
          "Ceuta and Melilla",
          "Chad",
          "Chile",
          "China",
          "Christmas Island",
          "Cocos (Keeling) Islands",
          "Colombia",
          "Comoros",
          "Congo",
          "Cook Islands",
          "Costa Rica",
          "Croatia",
          "Cuba",
          "Curaçao",
          "Cyprus",
          "Czechia",
          "Côte d'Ivoire",
          "Democratic Republic of the Congo",
          "Denmark",
          "Djibouti",
          "Dominica",
          "Dominican Republic",
          "East Timor",
          "Ecuador",
          "Egypt",
          "El Salvador",
          "Equatorial Guinea",
          "Eritrea",
          "Estonia",
          "Eswatini",
          "Ethiopia",
          "Falkland Islands (Malvinas)",
          "Faroe Islands",
          "Federated States of Micronesia",
          "Fiji",
          "Finland",
          "France",
          "French Guiana",
          "French Polynesia",
          "French Southern Territories",
          "Gabon",
          "Gambia",
          "Georgia",
          "Germany",
          "Ghana",
          "Gibraltar",
          "Greece",
          "Greenland",
          "Grenada",
          "Guadeloupe",
          "Guam",
          "Guatemala",
          "Guernsey",
          "Guinea",
          "Guinea-Bissau",
          "Guyana",
          "Haiti",
          "Heard Island and McDonald Islands",
          "High Seas",
          "Holy See (Vatican)",
          "Honduras",
          "Hong Kong",
          "Hungary",
          "Iceland",
          "India",
          "Indonesia",
          "Iran",
          "Iraq",
          "Ireland",
          "Isle of Man",
          "Israel",
          "Italy",
          "Jamaica",
          "Japan",
          "Jersey",
          "Jordan",
          "Kazakhstan",
          "Kenya",
          "Kiribati",
          "Kosovo",
          "Kuwait",
          "Kyrgyzstan",
          "Laos",
          "Latvia",
          "Lebanon",
          "Lesotho",
          "Liberia",
          "Libya",
          "Liechtenstein",
          "Lithuania",
          "Luxembourg",
          "Macao",
          "Madagascar",
          "Malawi",
          "Malaysia",
          "Maldives",
          "Mali",
          "Malta",
          "Marshall Islands",
          "Martinique",
          "Mauritania",
          "Mauritius",
          "Mayotte",
          "Mexico",
          "Monaco",
          "Mongolia",
          "Montenegro",
          "Montserrat",
          "Morocco",
          "Mozambique",
          "Myanmar",
          "Namibia",
          "Nauru",
          "Nepal",
          "Netherlands",
          "Netherlands Antilles",
          "New Caledonia",
          "New Zealand",
          "Nicaragua",
          "Niger",
          "Nigeria",
          "Niue",
          "Norfolk Island",
          "North Korea",
          "North Macedonia",
          "Northern Mariana Islands",
          "Norway",
          "Oman",
          "Pacific Islands",
          "Pakistan",
          "Palau",
          "Panama",
          "Papua New Guinea",
          "Paraguay",
          "Peru",
          "Philippines",
          "Pitcairn",
          "Poland",
          "Portugal",
          "Puerto Rico",
          "Qatar",
          "Republic of Moldova",
          "Reunion",
          "Romania",
          "Russian Federation",
          "Rwanda",
          "Saint Barthélemy",
          "Saint Helena",
          "Saint Kitts and Nevis",
          "Saint Lucia",
          "Saint Martin (French part)",
          "Saint Pierre and Miquelon",
          "Saint Vincent and the Grenadines",
          "Samoa",
          "San Marino",
          "Sao Tome and Principe",
          "Saudi Arabia",
          "Senegal",
          "Serbia",
          "Serbia and Montenegro",
          "Seychelles",
          "Sierra Leone",
          "Singapore",
          "Sint Maarten (Dutch part)",
          "Slovakia",
          "Slovenia",
          "Solomon Islands",
          "Somalia",
          "South Africa",
          "South Georgia and the South Sandwich Islands",
          "South Korea",
          "South Sudan",
          "Spain",
          "Sri Lanka",
          "State of Palestine",
          "Sudan",
          "Suriname",
          "Svalbard Island",
          "Sweden",
          "Switzerland",
          "Syria",
          "Taiwan",
          "Tajikistan",
          "Thailand",
          "Timor-Leste",
          "Togo",
          "Tokelau",
          "Tonga",
          "Trinidad and Tobago",
          "Tunisia",
          "Turkmenistan",
          "Turks and Caicos Islands",
          "Tuvalu",
          "Türkiye",
          "Uganda",
          "Ukraine",
          "United Arab Emirates",
          "United Kingdom",
          "United Republic of Tanzania",
          "United States",
          "United States Minor Outlying Islands",
          "Uruguay",
          "Uzbekistan",
          "Vanuatu",
          "Venezuela",
          "Viet Nam",
          "Virgin Islands, United States",
          "Wallis and Futuna",
          "Western Sahara",
          "Yemen",
          "Yugoslavia",
          "Zambia",
          "Zimbabwe"
         ],
         "labels": [
          "Afghanistan",
          "Aland Islands",
          "Albania",
          "Algeria",
          "American Samoa",
          "Andorra",
          "Angola",
          "Anguilla",
          "Antarctica",
          "Antigua and Barbuda",
          "Argentina",
          "Armenia",
          "Aruba",
          "Australia",
          "Austria",
          "Azerbaijan",
          "Bahamas",
          "Bahrain",
          "Bangladesh",
          "Barbados",
          "Belarus",
          "Belgium",
          "Belize",
          "Benin",
          "Bermuda",
          "Bhutan",
          "Bolivia",
          "Bonaire, Sint Eustatius and Saba",
          "Bosnia and Herzegovina",
          "Botswana",
          "Bouvet Island",
          "Brazil",
          "British Indian Ocean Territory",
          "British Virgin Islands",
          "Brunei Darussalam",
          "Bulgaria",
          "Burkina Faso",
          "Burundi",
          "Cabo Verde",
          "Cambodia",
          "Cameroon",
          "Canada",
          "Cayman Islands",
          "Central African Republic",
          "Ceuta and Melilla",
          "Chad",
          "Chile",
          "China",
          "Christmas Island",
          "Cocos (Keeling) Islands",
          "Colombia",
          "Comoros",
          "Congo",
          "Cook Islands",
          "Costa Rica",
          "Croatia",
          "Cuba",
          "Curaçao",
          "Cyprus",
          "Czechia",
          "Côte d'Ivoire",
          "Democratic Republic of the Congo",
          "Denmark",
          "Djibouti",
          "Dominica",
          "Dominican Republic",
          "East Timor",
          "Ecuador",
          "Egypt",
          "El Salvador",
          "Equatorial Guinea",
          "Eritrea",
          "Estonia",
          "Eswatini",
          "Ethiopia",
          "Falkland Islands (Malvinas)",
          "Faroe Islands",
          "Federated States of Micronesia",
          "Fiji",
          "Finland",
          "France",
          "French Guiana",
          "French Polynesia",
          "French Southern Territories",
          "Gabon",
          "Gambia",
          "Georgia",
          "Germany",
          "Ghana",
          "Gibraltar",
          "Greece",
          "Greenland",
          "Grenada",
          "Guadeloupe",
          "Guam",
          "Guatemala",
          "Guernsey",
          "Guinea",
          "Guinea-Bissau",
          "Guyana",
          "Haiti",
          "Heard Island and McDonald Islands",
          "High Seas",
          "Holy See (Vatican)",
          "Honduras",
          "Hong Kong",
          "Hungary",
          "Iceland",
          "India",
          "Indonesia",
          "Iran",
          "Iraq",
          "Ireland",
          "Isle of Man",
          "Israel",
          "Italy",
          "Jamaica",
          "Japan",
          "Jersey",
          "Jordan",
          "Kazakhstan",
          "Kenya",
          "Kiribati",
          "Kosovo",
          "Kuwait",
          "Kyrgyzstan",
          "Laos",
          "Latvia",
          "Lebanon",
          "Lesotho",
          "Liberia",
          "Libya",
          "Liechtenstein",
          "Lithuania",
          "Luxembourg",
          "Macao",
          "Madagascar",
          "Malawi",
          "Malaysia",
          "Maldives",
          "Mali",
          "Malta",
          "Marshall Islands",
          "Martinique",
          "Mauritania",
          "Mauritius",
          "Mayotte",
          "Mexico",
          "Monaco",
          "Mongolia",
          "Montenegro",
          "Montserrat",
          "Morocco",
          "Mozambique",
          "Myanmar",
          "Namibia",
          "Nauru",
          "Nepal",
          "Netherlands",
          "Netherlands Antilles",
          "New Caledonia",
          "New Zealand",
          "Nicaragua",
          "Niger",
          "Nigeria",
          "Niue",
          "Norfolk Island",
          "North Korea",
          "North Macedonia",
          "Northern Mariana Islands",
          "Norway",
          "Oman",
          "Pacific Islands",
          "Pakistan",
          "Palau",
          "Panama",
          "Papua New Guinea",
          "Paraguay",
          "Peru",
          "Philippines",
          "Pitcairn",
          "Poland",
          "Portugal",
          "Puerto Rico",
          "Qatar",
          "Republic of Moldova",
          "Reunion",
          "Romania",
          "Russian Federation",
          "Rwanda",
          "Saint Barthélemy",
          "Saint Helena",
          "Saint Kitts and Nevis",
          "Saint Lucia",
          "Saint Martin (French part)",
          "Saint Pierre and Miquelon",
          "Saint Vincent and the Grenadines",
          "Samoa",
          "San Marino",
          "Sao Tome and Principe",
          "Saudi Arabia",
          "Senegal",
          "Serbia",
          "Serbia and Montenegro",
          "Seychelles",
          "Sierra Leone",
          "Singapore",
          "Sint Maarten (Dutch part)",
          "Slovakia",
          "Slovenia",
          "Solomon Islands",
          "Somalia",
          "South Africa",
          "South Georgia and the South Sandwich Islands",
          "South Korea",
          "South Sudan",
          "Spain",
          "Sri Lanka",
          "State of Palestine",
          "Sudan",
          "Suriname",
          "Svalbard Island",
          "Sweden",
          "Switzerland",
          "Syria",
          "Taiwan",
          "Tajikistan",
          "Thailand",
          "Timor-Leste",
          "Togo",
          "Tokelau",
          "Tonga",
          "Trinidad and Tobago",
          "Tunisia",
          "Turkmenistan",
          "Turks and Caicos Islands",
          "Tuvalu",
          "Türkiye",
          "Uganda",
          "Ukraine",
          "United Arab Emirates",
          "United Kingdom",
          "United Republic of Tanzania",
          "United States",
          "United States Minor Outlying Islands",
          "Uruguay",
          "Uzbekistan",
          "Vanuatu",
          "Venezuela",
          "Viet Nam",
          "Virgin Islands, United States",
          "Wallis and Futuna",
          "Western Sahara",
          "Yemen",
          "Yugoslavia",
          "Zambia",
          "Zimbabwe"
         ],
         "name": "",
         "parents": [
          "",
          "",
          "",
          "",
          "",
          "",
          "",
          "",
          "",
          "",
          "",
          "",
          "",
          "",
          "",
          "",
          "",
          "",
          "",
          "",
          "",
          "",
          "",
          "",
          "",
          "",
          "",
          "",
          "",
          "",
          "",
          "",
          "",
          "",
          "",
          "",
          "",
          "",
          "",
          "",
          "",
          "",
          "",
          "",
          "",
          "",
          "",
          "",
          "",
          "",
          "",
          "",
          "",
          "",
          "",
          "",
          "",
          "",
          "",
          "",
          "",
          "",
          "",
          "",
          "",
          "",
          "",
          "",
          "",
          "",
          "",
          "",
          "",
          "",
          "",
          "",
          "",
          "",
          "",
          "",
          "",
          "",
          "",
          "",
          "",
          "",
          "",
          "",
          "",
          "",
          "",
          "",
          "",
          "",
          "",
          "",
          "",
          "",
          "",
          "",
          "",
          "",
          "",
          "",
          "",
          "",
          "",
          "",
          "",
          "",
          "",
          "",
          "",
          "",
          "",
          "",
          "",
          "",
          "",
          "",
          "",
          "",
          "",
          "",
          "",
          "",
          "",
          "",
          "",
          "",
          "",
          "",
          "",
          "",
          "",
          "",
          "",
          "",
          "",
          "",
          "",
          "",
          "",
          "",
          "",
          "",
          "",
          "",
          "",
          "",
          "",
          "",
          "",
          "",
          "",
          "",
          "",
          "",
          "",
          "",
          "",
          "",
          "",
          "",
          "",
          "",
          "",
          "",
          "",
          "",
          "",
          "",
          "",
          "",
          "",
          "",
          "",
          "",
          "",
          "",
          "",
          "",
          "",
          "",
          "",
          "",
          "",
          "",
          "",
          "",
          "",
          "",
          "",
          "",
          "",
          "",
          "",
          "",
          "",
          "",
          "",
          "",
          "",
          "",
          "",
          "",
          "",
          "",
          "",
          "",
          "",
          "",
          "",
          "",
          "",
          "",
          "",
          "",
          "",
          "",
          "",
          "",
          "",
          "",
          "",
          "",
          "",
          "",
          "",
          "",
          "",
          "",
          "",
          "",
          "",
          "",
          "",
          "",
          "",
          "",
          "",
          "",
          "",
          "",
          "",
          "",
          "",
          "",
          "",
          "",
          "",
          "",
          "",
          "",
          "",
          "",
          ""
         ],
         "type": "treemap",
         "values": {
          "bdata": "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",
          "dtype": "f8"
         }
        }
       ],
       "layout": {
        "legend": {
         "tracegroupgap": 0
        },
        "margin": {
         "t": 60
        },
        "template": {
         "data": {
          "bar": [
           {
            "error_x": {
             "color": "#2a3f5f"
            },
            "error_y": {
             "color": "#2a3f5f"
            },
            "marker": {
             "line": {
              "color": "#E5ECF6",
              "width": 0.5
             },
             "pattern": {
              "fillmode": "overlay",
              "size": 10,
              "solidity": 0.2
             }
            },
            "type": "bar"
           }
          ],
          "barpolar": [
           {
            "marker": {
             "line": {
              "color": "#E5ECF6",
              "width": 0.5
             },
             "pattern": {
              "fillmode": "overlay",
              "size": 10,
              "solidity": 0.2
             }
            },
            "type": "barpolar"
           }
          ],
          "carpet": [
           {
            "aaxis": {
             "endlinecolor": "#2a3f5f",
             "gridcolor": "white",
             "linecolor": "white",
             "minorgridcolor": "white",
             "startlinecolor": "#2a3f5f"
            },
            "baxis": {
             "endlinecolor": "#2a3f5f",
             "gridcolor": "white",
             "linecolor": "white",
             "minorgridcolor": "white",
             "startlinecolor": "#2a3f5f"
            },
            "type": "carpet"
           }
          ],
          "choropleth": [
           {
            "colorbar": {
             "outlinewidth": 0,
             "ticks": ""
            },
            "type": "choropleth"
           }
          ],
          "contour": [
           {
            "colorbar": {
             "outlinewidth": 0,
             "ticks": ""
            },
            "colorscale": [
             [
              0,
              "#0d0887"
             ],
             [
              0.1111111111111111,
              "#46039f"
             ],
             [
              0.2222222222222222,
              "#7201a8"
             ],
             [
              0.3333333333333333,
              "#9c179e"
             ],
             [
              0.4444444444444444,
              "#bd3786"
             ],
             [
              0.5555555555555556,
              "#d8576b"
             ],
             [
              0.6666666666666666,
              "#ed7953"
             ],
             [
              0.7777777777777778,
              "#fb9f3a"
             ],
             [
              0.8888888888888888,
              "#fdca26"
             ],
             [
              1,
              "#f0f921"
             ]
            ],
            "type": "contour"
           }
          ],
          "contourcarpet": [
           {
            "colorbar": {
             "outlinewidth": 0,
             "ticks": ""
            },
            "type": "contourcarpet"
           }
          ],
          "heatmap": [
           {
            "colorbar": {
             "outlinewidth": 0,
             "ticks": ""
            },
            "colorscale": [
             [
              0,
              "#0d0887"
             ],
             [
              0.1111111111111111,
              "#46039f"
             ],
             [
              0.2222222222222222,
              "#7201a8"
             ],
             [
              0.3333333333333333,
              "#9c179e"
             ],
             [
              0.4444444444444444,
              "#bd3786"
             ],
             [
              0.5555555555555556,
              "#d8576b"
             ],
             [
              0.6666666666666666,
              "#ed7953"
             ],
             [
              0.7777777777777778,
              "#fb9f3a"
             ],
             [
              0.8888888888888888,
              "#fdca26"
             ],
             [
              1,
              "#f0f921"
             ]
            ],
            "type": "heatmap"
           }
          ],
          "histogram": [
           {
            "marker": {
             "pattern": {
              "fillmode": "overlay",
              "size": 10,
              "solidity": 0.2
             }
            },
            "type": "histogram"
           }
          ],
          "histogram2d": [
           {
            "colorbar": {
             "outlinewidth": 0,
             "ticks": ""
            },
            "colorscale": [
             [
              0,
              "#0d0887"
             ],
             [
              0.1111111111111111,
              "#46039f"
             ],
             [
              0.2222222222222222,
              "#7201a8"
             ],
             [
              0.3333333333333333,
              "#9c179e"
             ],
             [
              0.4444444444444444,
              "#bd3786"
             ],
             [
              0.5555555555555556,
              "#d8576b"
             ],
             [
              0.6666666666666666,
              "#ed7953"
             ],
             [
              0.7777777777777778,
              "#fb9f3a"
             ],
             [
              0.8888888888888888,
              "#fdca26"
             ],
             [
              1,
              "#f0f921"
             ]
            ],
            "type": "histogram2d"
           }
          ],
          "histogram2dcontour": [
           {
            "colorbar": {
             "outlinewidth": 0,
             "ticks": ""
            },
            "colorscale": [
             [
              0,
              "#0d0887"
             ],
             [
              0.1111111111111111,
              "#46039f"
             ],
             [
              0.2222222222222222,
              "#7201a8"
             ],
             [
              0.3333333333333333,
              "#9c179e"
             ],
             [
              0.4444444444444444,
              "#bd3786"
             ],
             [
              0.5555555555555556,
              "#d8576b"
             ],
             [
              0.6666666666666666,
              "#ed7953"
             ],
             [
              0.7777777777777778,
              "#fb9f3a"
             ],
             [
              0.8888888888888888,
              "#fdca26"
             ],
             [
              1,
              "#f0f921"
             ]
            ],
            "type": "histogram2dcontour"
           }
          ],
          "mesh3d": [
           {
            "colorbar": {
             "outlinewidth": 0,
             "ticks": ""
            },
            "type": "mesh3d"
           }
          ],
          "parcoords": [
           {
            "line": {
             "colorbar": {
              "outlinewidth": 0,
              "ticks": ""
             }
            },
            "type": "parcoords"
           }
          ],
          "pie": [
           {
            "automargin": true,
            "type": "pie"
           }
          ],
          "scatter": [
           {
            "fillpattern": {
             "fillmode": "overlay",
             "size": 10,
             "solidity": 0.2
            },
            "type": "scatter"
           }
          ],
          "scatter3d": [
           {
            "line": {
             "colorbar": {
              "outlinewidth": 0,
              "ticks": ""
             }
            },
            "marker": {
             "colorbar": {
              "outlinewidth": 0,
              "ticks": ""
             }
            },
            "type": "scatter3d"
           }
          ],
          "scattercarpet": [
           {
            "marker": {
             "colorbar": {
              "outlinewidth": 0,
              "ticks": ""
             }
            },
            "type": "scattercarpet"
           }
          ],
          "scattergeo": [
           {
            "marker": {
             "colorbar": {
              "outlinewidth": 0,
              "ticks": ""
             }
            },
            "type": "scattergeo"
           }
          ],
          "scattergl": [
           {
            "marker": {
             "colorbar": {
              "outlinewidth": 0,
              "ticks": ""
             }
            },
            "type": "scattergl"
           }
          ],
          "scattermap": [
           {
            "marker": {
             "colorbar": {
              "outlinewidth": 0,
              "ticks": ""
             }
            },
            "type": "scattermap"
           }
          ],
          "scattermapbox": [
           {
            "marker": {
             "colorbar": {
              "outlinewidth": 0,
              "ticks": ""
             }
            },
            "type": "scattermapbox"
           }
          ],
          "scatterpolar": [
           {
            "marker": {
             "colorbar": {
              "outlinewidth": 0,
              "ticks": ""
             }
            },
            "type": "scatterpolar"
           }
          ],
          "scatterpolargl": [
           {
            "marker": {
             "colorbar": {
              "outlinewidth": 0,
              "ticks": ""
             }
            },
            "type": "scatterpolargl"
           }
          ],
          "scatterternary": [
           {
            "marker": {
             "colorbar": {
              "outlinewidth": 0,
              "ticks": ""
             }
            },
            "type": "scatterternary"
           }
          ],
          "surface": [
           {
            "colorbar": {
             "outlinewidth": 0,
             "ticks": ""
            },
            "colorscale": [
             [
              0,
              "#0d0887"
             ],
             [
              0.1111111111111111,
              "#46039f"
             ],
             [
              0.2222222222222222,
              "#7201a8"
             ],
             [
              0.3333333333333333,
              "#9c179e"
             ],
             [
              0.4444444444444444,
              "#bd3786"
             ],
             [
              0.5555555555555556,
              "#d8576b"
             ],
             [
              0.6666666666666666,
              "#ed7953"
             ],
             [
              0.7777777777777778,
              "#fb9f3a"
             ],
             [
              0.8888888888888888,
              "#fdca26"
             ],
             [
              1,
              "#f0f921"
             ]
            ],
            "type": "surface"
           }
          ],
          "table": [
           {
            "cells": {
             "fill": {
              "color": "#EBF0F8"
             },
             "line": {
              "color": "white"
             }
            },
            "header": {
             "fill": {
              "color": "#C8D4E3"
             },
             "line": {
              "color": "white"
             }
            },
            "type": "table"
           }
          ]
         },
         "layout": {
          "annotationdefaults": {
           "arrowcolor": "#2a3f5f",
           "arrowhead": 0,
           "arrowwidth": 1
          },
          "autotypenumbers": "strict",
          "coloraxis": {
           "colorbar": {
            "outlinewidth": 0,
            "ticks": ""
           }
          },
          "colorscale": {
           "diverging": [
            [
             0,
             "#8e0152"
            ],
            [
             0.1,
             "#c51b7d"
            ],
            [
             0.2,
             "#de77ae"
            ],
            [
             0.3,
             "#f1b6da"
            ],
            [
             0.4,
             "#fde0ef"
            ],
            [
             0.5,
             "#f7f7f7"
            ],
            [
             0.6,
             "#e6f5d0"
            ],
            [
             0.7,
             "#b8e186"
            ],
            [
             0.8,
             "#7fbc41"
            ],
            [
             0.9,
             "#4d9221"
            ],
            [
             1,
             "#276419"
            ]
           ],
           "sequential": [
            [
             0,
             "#0d0887"
            ],
            [
             0.1111111111111111,
             "#46039f"
            ],
            [
             0.2222222222222222,
             "#7201a8"
            ],
            [
             0.3333333333333333,
             "#9c179e"
            ],
            [
             0.4444444444444444,
             "#bd3786"
            ],
            [
             0.5555555555555556,
             "#d8576b"
            ],
            [
             0.6666666666666666,
             "#ed7953"
            ],
            [
             0.7777777777777778,
             "#fb9f3a"
            ],
            [
             0.8888888888888888,
             "#fdca26"
            ],
            [
             1,
             "#f0f921"
            ]
           ],
           "sequentialminus": [
            [
             0,
             "#0d0887"
            ],
            [
             0.1111111111111111,
             "#46039f"
            ],
            [
             0.2222222222222222,
             "#7201a8"
            ],
            [
             0.3333333333333333,
             "#9c179e"
            ],
            [
             0.4444444444444444,
             "#bd3786"
            ],
            [
             0.5555555555555556,
             "#d8576b"
            ],
            [
             0.6666666666666666,
             "#ed7953"
            ],
            [
             0.7777777777777778,
             "#fb9f3a"
            ],
            [
             0.8888888888888888,
             "#fdca26"
            ],
            [
             1,
             "#f0f921"
            ]
           ]
          },
          "colorway": [
           "#636efa",
           "#EF553B",
           "#00cc96",
           "#ab63fa",
           "#FFA15A",
           "#19d3f3",
           "#FF6692",
           "#B6E880",
           "#FF97FF",
           "#FECB52"
          ],
          "font": {
           "color": "#2a3f5f"
          },
          "geo": {
           "bgcolor": "white",
           "lakecolor": "white",
           "landcolor": "#E5ECF6",
           "showlakes": true,
           "showland": true,
           "subunitcolor": "white"
          },
          "hoverlabel": {
           "align": "left"
          },
          "hovermode": "closest",
          "mapbox": {
           "style": "light"
          },
          "paper_bgcolor": "white",
          "plot_bgcolor": "#E5ECF6",
          "polar": {
           "angularaxis": {
            "gridcolor": "white",
            "linecolor": "white",
            "ticks": ""
           },
           "bgcolor": "#E5ECF6",
           "radialaxis": {
            "gridcolor": "white",
            "linecolor": "white",
            "ticks": ""
           }
          },
          "scene": {
           "xaxis": {
            "backgroundcolor": "#E5ECF6",
            "gridcolor": "white",
            "gridwidth": 2,
            "linecolor": "white",
            "showbackground": true,
            "ticks": "",
            "zerolinecolor": "white"
           },
           "yaxis": {
            "backgroundcolor": "#E5ECF6",
            "gridcolor": "white",
            "gridwidth": 2,
            "linecolor": "white",
            "showbackground": true,
            "ticks": "",
            "zerolinecolor": "white"
           },
           "zaxis": {
            "backgroundcolor": "#E5ECF6",
            "gridcolor": "white",
            "gridwidth": 2,
            "linecolor": "white",
            "showbackground": true,
            "ticks": "",
            "zerolinecolor": "white"
           }
          },
          "shapedefaults": {
           "line": {
            "color": "#2a3f5f"
           }
          },
          "ternary": {
           "aaxis": {
            "gridcolor": "white",
            "linecolor": "white",
            "ticks": ""
           },
           "baxis": {
            "gridcolor": "white",
            "linecolor": "white",
            "ticks": ""
           },
           "bgcolor": "#E5ECF6",
           "caxis": {
            "gridcolor": "white",
            "linecolor": "white",
            "ticks": ""
           }
          },
          "title": {
           "x": 0.05
          },
          "xaxis": {
           "automargin": true,
           "gridcolor": "white",
           "linecolor": "white",
           "ticks": "",
           "title": {
            "standoff": 15
           },
           "zerolinecolor": "white",
           "zerolinewidth": 2
          },
          "yaxis": {
           "automargin": true,
           "gridcolor": "white",
           "linecolor": "white",
           "ticks": "",
           "title": {
            "standoff": 15
           },
           "zerolinecolor": "white",
           "zerolinewidth": 2
          }
         }
        },
        "title": {
         "text": "Distribution of Countries by Yearly Average Value (Last 10 Years)",
         "x": 0.5
        },
        "updatemenus": [
         {
          "buttons": [
           {
            "args": [
             {
              "labels": [
               [
                "Afghanistan",
                "Aland Islands",
                "Albania",
                "Algeria",
                "American Samoa",
                "Andorra",
                "Angola",
                "Anguilla",
                "Antarctica",
                "Antigua and Barbuda",
                "Argentina",
                "Armenia",
                "Aruba",
                "Australia",
                "Austria",
                "Azerbaijan",
                "Bahamas",
                "Bahrain",
                "Bangladesh",
                "Barbados",
                "Belarus",
                "Belgium",
                "Belize",
                "Benin",
                "Bermuda",
                "Bhutan",
                "Bolivia",
                "Bonaire, Sint Eustatius and Saba",
                "Bosnia and Herzegovina",
                "Botswana",
                "Bouvet Island",
                "Brazil",
                "British Indian Ocean Territory",
                "British Virgin Islands",
                "Brunei Darussalam",
                "Bulgaria",
                "Burkina Faso",
                "Burundi",
                "Cabo Verde",
                "Cambodia",
                "Cameroon",
                "Canada",
                "Cayman Islands",
                "Central African Republic",
                "Ceuta and Melilla",
                "Chad",
                "Chile",
                "China",
                "Christmas Island",
                "Cocos (Keeling) Islands",
                "Colombia",
                "Comoros",
                "Congo",
                "Cook Islands",
                "Costa Rica",
                "Croatia",
                "Cuba",
                "Curaçao",
                "Cyprus",
                "Czechia",
                "Côte d'Ivoire",
                "Democratic Republic of the Congo",
                "Denmark",
                "Djibouti",
                "Dominica",
                "Dominican Republic",
                "East Timor",
                "Ecuador",
                "Egypt",
                "El Salvador",
                "Equatorial Guinea",
                "Eritrea",
                "Estonia",
                "Eswatini",
                "Ethiopia",
                "Falkland Islands (Malvinas)",
                "Faroe Islands",
                "Federated States of Micronesia",
                "Fiji",
                "Finland",
                "France",
                "French Guiana",
                "French Polynesia",
                "French Southern Territories",
                "Gabon",
                "Gambia",
                "Georgia",
                "Germany",
                "Ghana",
                "Gibraltar",
                "Greece",
                "Greenland",
                "Grenada",
                "Guadeloupe",
                "Guam",
                "Guatemala",
                "Guernsey",
                "Guinea",
                "Guinea-Bissau",
                "Guyana",
                "Haiti",
                "Heard Island and McDonald Islands",
                "High Seas",
                "Holy See (Vatican)",
                "Honduras",
                "Hong Kong",
                "Hungary",
                "Iceland",
                "India",
                "Indonesia",
                "Iran",
                "Iraq",
                "Ireland",
                "Isle of Man",
                "Israel",
                "Italy",
                "Jamaica",
                "Japan",
                "Jersey",
                "Jordan",
                "Kazakhstan",
                "Kenya",
                "Kiribati",
                "Kosovo",
                "Kuwait",
                "Kyrgyzstan",
                "Laos",
                "Latvia",
                "Lebanon",
                "Lesotho",
                "Liberia",
                "Libya",
                "Liechtenstein",
                "Lithuania",
                "Luxembourg",
                "Macao",
                "Madagascar",
                "Malawi",
                "Malaysia",
                "Maldives",
                "Mali",
                "Malta",
                "Marshall Islands",
                "Martinique",
                "Mauritania",
                "Mauritius",
                "Mayotte",
                "Mexico",
                "Monaco",
                "Mongolia",
                "Montenegro",
                "Montserrat",
                "Morocco",
                "Mozambique",
                "Myanmar",
                "Namibia",
                "Nauru",
                "Nepal",
                "Netherlands",
                "Netherlands Antilles",
                "New Caledonia",
                "New Zealand",
                "Nicaragua",
                "Niger",
                "Nigeria",
                "Niue",
                "Norfolk Island",
                "North Korea",
                "North Macedonia",
                "Northern Mariana Islands",
                "Norway",
                "Oman",
                "Pacific Islands",
                "Pakistan",
                "Palau",
                "Panama",
                "Papua New Guinea",
                "Paraguay",
                "Peru",
                "Philippines",
                "Pitcairn",
                "Poland",
                "Portugal",
                "Puerto Rico",
                "Qatar",
                "Republic of Moldova",
                "Reunion",
                "Romania",
                "Russian Federation",
                "Rwanda",
                "Saint Barthélemy",
                "Saint Helena",
                "Saint Kitts and Nevis",
                "Saint Lucia",
                "Saint Martin (French part)",
                "Saint Pierre and Miquelon",
                "Saint Vincent and the Grenadines",
                "Samoa",
                "San Marino",
                "Sao Tome and Principe",
                "Saudi Arabia",
                "Senegal",
                "Serbia",
                "Serbia and Montenegro",
                "Seychelles",
                "Sierra Leone",
                "Singapore",
                "Sint Maarten (Dutch part)",
                "Slovakia",
                "Slovenia",
                "Solomon Islands",
                "Somalia",
                "South Africa",
                "South Georgia and the South Sandwich Islands",
                "South Korea",
                "South Sudan",
                "Spain",
                "Sri Lanka",
                "State of Palestine",
                "Sudan",
                "Suriname",
                "Svalbard Island",
                "Sweden",
                "Switzerland",
                "Syria",
                "Taiwan",
                "Tajikistan",
                "Thailand",
                "Timor-Leste",
                "Togo",
                "Tokelau",
                "Tonga",
                "Trinidad and Tobago",
                "Tunisia",
                "Turkmenistan",
                "Turks and Caicos Islands",
                "Tuvalu",
                "Türkiye",
                "Uganda",
                "Ukraine",
                "United Arab Emirates",
                "United Kingdom",
                "United Republic of Tanzania",
                "United States",
                "United States Minor Outlying Islands",
                "Uruguay",
                "Uzbekistan",
                "Vanuatu",
                "Venezuela",
                "Viet Nam",
                "Virgin Islands, United States",
                "Wallis and Futuna",
                "Western Sahara",
                "Yemen",
                "Yugoslavia",
                "Zambia",
                "Zimbabwe"
               ]
              ],
              "values": [
               [
                1191056.8181818181,
                0,
                4246171.212121212,
                68953229.54545455,
                163301.51515151514,
                28694.696969696968,
                6716001.515151516,
                162218.9393939394,
                149155.30303030304,
                1078231.0606060605,
                27826350.757575758,
                1072065.9090909092,
                730751.5151515151,
                196029299.24242425,
                25458721.96969697,
                1097566.6666666667,
                20023109.848484848,
                13494532.575757576,
                84380625.75757575,
                5053161.363636363,
                790943.9393939395,
                301400853.030303,
                1444346.9696969697,
                2731459.8484848486,
                5736996.96969697,
                25956.81818181818,
                2191126.515151515,
                10605836.363636363,
                378577.2727272727,
                40696555.303030305,
                1871.969696969697,
                209742863.63636363,
                15235.60606060606,
                1064361.3636363635,
                667036.3636363636,
                18299688.636363637,
                3739213.6363636362,
                216080.30303030304,
                171416.66666666666,
                3427350,
                5905806.818181818,
                10282.575757575758,
                2877328.787878788,
                69512.87878787878,
                0,
                845527.2727272727,
                78996053.03030303,
                2102254916.6666667,
                114993.93939393939,
                13765.151515151516,
                80880809.0909091,
                96477.27272727272,
                1868874.2424242424,
                30870.454545454544,
                16391412.878787879,
                5120081.060606061,
                30172887.12121212,
                1714844.696969697,
                2315089.393939394,
                18808442.424242426,
                6385523.484848484,
                1695266.6666666667,
                28846552.272727273,
                403635.6060606061,
                556563.6363636364,
                19761338.636363637,
                0,
                35248721.21212121,
                40688521.21212121,
                6945126.515151516,
                434234.8484848485,
                143912.87878787878,
                2463517.4242424243,
                275700.75757575757,
                7812894.696969697,
                12934.09090909091,
                54061.36363636364,
                0,
                1481874.2424242424,
                56184156.06060606,
                308417036.3636364,
                0,
                1062540.9090909092,
                8920.454545454546,
                1909254.5454545454,
                306421.9696969697,
                3382728.0303030303,
                462873866.6666667,
                22294911.363636363,
                936259.8484848485,
                10770187.121212121,
                1769696.9696969697,
                1350861.3636363635,
                0,
                227013.63636363635,
                15764020.454545455,
                0,
                2244806.8181818184,
                18311.363636363636,
                3171258.3333333335,
                6684824.242424242,
                8723.484848484848,
                599.2424242424242,
                0,
                3839340.909090909,
                291081293.1818182,
                7681334.090909091,
                7152757.575757576,
                359482984.8484849,
                174440408.33333334,
                21978183.333333332,
                14423856.06060606,
                59331422.72727273,
                0,
                36573060.60606061,
                247547575.75757575,
                11100494.696969697,
                1093926875.7575758,
                0,
                7434150.757575758,
                9997043.93939394,
                10209215.909090908,
                38099.242424242424,
                0,
                12591224.242424242,
                1095471.9696969697,
                680187.1212121212,
                26807728.03030303,
                9216325.757575758,
                28784.090909090908,
                1065517.4242424243,
                5440393.181818182,
                0,
                8761759.090909092,
                9196306.06060606,
                3681537.121212121,
                1313001.5151515151,
                717559.8484848485,
                79293243.93939394,
                1995599.2424242424,
                2271311.3636363638,
                40436780.303030305,
                0,
                0,
                1811710.606060606,
                702423.4848484849,
                0,
                638297360.6060606,
                0,
                1754781.0606060605,
                375464.3939393939,
                25204.545454545456,
                44247081.81818182,
                5168987.121212121,
                2493903.787878788,
                1140068.1818181819,
                10727.272727272728,
                4828712.121212121,
                413359390.1515151,
                0,
                3228503.0303030303,
                39855461.36363637,
                4280080.303030303,
                662440.9090909091,
                43140272.72727273,
                8384.848484848484,
                11104.545454545454,
                4129.545454545455,
                525765.1515151515,
                0,
                204928759.84848484,
                9782576.515151516,
                0,
                50331890.90909091,
                0,
                21458717.424242426,
                1540970.4545454546,
                1933433.3333333333,
                84955522.72727273,
                79987547.72727273,
                15921.969696969696,
                64564606.81818182,
                26565666.666666668,
                0,
                15321686.363636363,
                243734.0909090909,
                0,
                13037463.636363637,
                45098295.45454545,
                902963.6363636364,
                45699.242424242424,
                18053.78787878788,
                674356.8181818182,
                1174213.6363636365,
                65846.21212121213,
                2356152.272727273,
                1053690.1515151516,
                22293.939393939392,
                0,
                14391.666666666666,
                144359209.84848484,
                6668197.7272727275,
                2065694.696969697,
                0,
                529328.0303030303,
                842912.8787878788,
                121458532.57575758,
                520746.9696969697,
                3222170.4545454546,
                6469662.878787879,
                49488.63636363636,
                342684.8484848485,
                36648818.18181818,
                0,
                481500070.45454544,
                208765.9090909091,
                155122680.3030303,
                17225014.393939395,
                0,
                5354339.393939394,
                2693356.0606060605,
                0,
                48042590.90909091,
                219869340.9090909,
                1599686.3636363635,
                159249221.96969697,
                375612.1212121212,
                75161620.45454545,
                25121.969696969696,
                3056124.242424242,
                0,
                50729.545454545456,
                23501937.12121212,
                8815956.06060606,
                1642675.7575757576,
                509937.1212121212,
                0,
                103768650,
                3758329.5454545454,
                21187920.454545453,
                154318344.6969697,
                1553839909.8484848,
                7180713.636363637,
                38999315997.72727,
                2697843.9393939395,
                8459002.272727273,
                860324.2424242424,
                32145.454545454544,
                21687509.848484848,
                67256635.60606061,
                0,
                13483.333333333334,
                1693.939393939394,
                772903.7878787878,
                0,
                2002953.7878787878,
                665490.9090909091
               ]
              ]
             }
            ],
            "label": "Export",
            "method": "update"
           },
           {
            "args": [
             {
              "labels": [
               [
                "Afghanistan",
                "Aland Islands",
                "Albania",
                "Algeria",
                "American Samoa",
                "Andorra",
                "Angola",
                "Anguilla",
                "Antarctica",
                "Antigua and Barbuda",
                "Argentina",
                "Armenia",
                "Aruba",
                "Australia",
                "Austria",
                "Azerbaijan",
                "Bahamas",
                "Bahrain",
                "Bangladesh",
                "Barbados",
                "Belarus",
                "Belgium",
                "Belize",
                "Benin",
                "Bermuda",
                "Bhutan",
                "Bolivia",
                "Bonaire, Sint Eustatius and Saba",
                "Bosnia and Herzegovina",
                "Botswana",
                "Bouvet Island",
                "Brazil",
                "British Indian Ocean Territory",
                "British Virgin Islands",
                "Brunei Darussalam",
                "Bulgaria",
                "Burkina Faso",
                "Burundi",
                "Cabo Verde",
                "Cambodia",
                "Cameroon",
                "Canada",
                "Cayman Islands",
                "Central African Republic",
                "Ceuta and Melilla",
                "Chad",
                "Chile",
                "China",
                "Christmas Island",
                "Cocos (Keeling) Islands",
                "Colombia",
                "Comoros",
                "Congo",
                "Cook Islands",
                "Costa Rica",
                "Croatia",
                "Cuba",
                "Curaçao",
                "Cyprus",
                "Czechia",
                "Côte d'Ivoire",
                "Democratic Republic of the Congo",
                "Denmark",
                "Djibouti",
                "Dominica",
                "Dominican Republic",
                "East Timor",
                "Ecuador",
                "Egypt",
                "El Salvador",
                "Equatorial Guinea",
                "Eritrea",
                "Estonia",
                "Eswatini",
                "Ethiopia",
                "Falkland Islands (Malvinas)",
                "Faroe Islands",
                "Federated States of Micronesia",
                "Fiji",
                "Finland",
                "France",
                "French Guiana",
                "French Polynesia",
                "French Southern Territories",
                "Gabon",
                "Gambia",
                "Georgia",
                "Germany",
                "Ghana",
                "Gibraltar",
                "Greece",
                "Greenland",
                "Grenada",
                "Guadeloupe",
                "Guam",
                "Guatemala",
                "Guernsey",
                "Guinea",
                "Guinea-Bissau",
                "Guyana",
                "Haiti",
                "Heard Island and McDonald Islands",
                "High Seas",
                "Holy See (Vatican)",
                "Honduras",
                "Hong Kong",
                "Hungary",
                "Iceland",
                "India",
                "Indonesia",
                "Iran",
                "Iraq",
                "Ireland",
                "Isle of Man",
                "Israel",
                "Italy",
                "Jamaica",
                "Japan",
                "Jersey",
                "Jordan",
                "Kazakhstan",
                "Kenya",
                "Kiribati",
                "Kosovo",
                "Kuwait",
                "Kyrgyzstan",
                "Laos",
                "Latvia",
                "Lebanon",
                "Lesotho",
                "Liberia",
                "Libya",
                "Liechtenstein",
                "Lithuania",
                "Luxembourg",
                "Macao",
                "Madagascar",
                "Malawi",
                "Malaysia",
                "Maldives",
                "Mali",
                "Malta",
                "Marshall Islands",
                "Martinique",
                "Mauritania",
                "Mauritius",
                "Mayotte",
                "Mexico",
                "Monaco",
                "Mongolia",
                "Montenegro",
                "Montserrat",
                "Morocco",
                "Mozambique",
                "Myanmar",
                "Namibia",
                "Nauru",
                "Nepal",
                "Netherlands",
                "Netherlands Antilles",
                "New Caledonia",
                "New Zealand",
                "Nicaragua",
                "Niger",
                "Nigeria",
                "Niue",
                "Norfolk Island",
                "North Korea",
                "North Macedonia",
                "Northern Mariana Islands",
                "Norway",
                "Oman",
                "Pacific Islands",
                "Pakistan",
                "Palau",
                "Panama",
                "Papua New Guinea",
                "Paraguay",
                "Peru",
                "Philippines",
                "Pitcairn",
                "Poland",
                "Portugal",
                "Puerto Rico",
                "Qatar",
                "Republic of Moldova",
                "Reunion",
                "Romania",
                "Russian Federation",
                "Rwanda",
                "Saint Barthélemy",
                "Saint Helena",
                "Saint Kitts and Nevis",
                "Saint Lucia",
                "Saint Martin (French part)",
                "Saint Pierre and Miquelon",
                "Saint Vincent and the Grenadines",
                "Samoa",
                "San Marino",
                "Sao Tome and Principe",
                "Saudi Arabia",
                "Senegal",
                "Serbia",
                "Serbia and Montenegro",
                "Seychelles",
                "Sierra Leone",
                "Singapore",
                "Sint Maarten (Dutch part)",
                "Slovakia",
                "Slovenia",
                "Solomon Islands",
                "Somalia",
                "South Africa",
                "South Georgia and the South Sandwich Islands",
                "South Korea",
                "South Sudan",
                "Spain",
                "Sri Lanka",
                "State of Palestine",
                "Sudan",
                "Suriname",
                "Svalbard Island",
                "Sweden",
                "Switzerland",
                "Syria",
                "Taiwan",
                "Tajikistan",
                "Thailand",
                "Timor-Leste",
                "Togo",
                "Tokelau",
                "Tonga",
                "Trinidad and Tobago",
                "Tunisia",
                "Turkmenistan",
                "Turks and Caicos Islands",
                "Tuvalu",
                "Türkiye",
                "Uganda",
                "Ukraine",
                "United Arab Emirates",
                "United Kingdom",
                "United Republic of Tanzania",
                "United States",
                "United States Minor Outlying Islands",
                "Uruguay",
                "Uzbekistan",
                "Vanuatu",
                "Venezuela",
                "Viet Nam",
                "Virgin Islands, United States",
                "Wallis and Futuna",
                "Western Sahara",
                "Yemen",
                "Yugoslavia",
                "Zambia",
                "Zimbabwe"
               ]
              ],
              "values": [
               [
                534340.1515151515,
                0,
                1133075,
                46362857.57575758,
                51362.878787878784,
                35988.63636363636,
                15954630.303030303,
                30587.121212121212,
                12366.666666666666,
                29790.909090909092,
                123494800.75757575,
                4849860.606060606,
                945439.3939393939,
                188905162.12121212,
                183097581.8181818,
                31500240.90909091,
                1795246.2121212122,
                4359681.060606061,
                153159364.3939394,
                1344118.1818181819,
                3346245.4545454546,
                318960987.8787879,
                233878.78787878787,
                139653.78787878787,
                129412.12121212122,
                16468.939393939392,
                22791065.90909091,
                128873.48484848485,
                2040278.0303030303,
                374309.0909090909,
                660.6060606060606,
                519897388.6363636,
                6934.090909090909,
                99769.69696969698,
                249044.69696969696,
                18066213.636363637,
                2240235.606060606,
                53474.242424242424,
                21406.81818181818,
                133272732.57575758,
                1934026.5151515151,
                376476449.24242425,
                244605.30303030304,
                28338.636363636364,
                0,
                16181.818181818182,
                160441156.06060606,
                6439849595.454545,
                18738.636363636364,
                15298.484848484848,
                91814384.84848484,
                30737.121212121212,
                939798.4848484849,
                6922.727272727273,
                49126997.72727273,
                7385978.03030303,
                52886707.57575758,
                143327.27272727274,
                498908.3333333333,
                64144541.666666664,
                36289910.60606061,
                9782362.878787879,
                130142230.3030303,
                34071.969696969696,
                45762.878787878784,
                66679795.45454545,
                0,
                36884431.81818182,
                78915546.96969697,
                9303806.06060606,
                2138678.0303030303,
                258341.66666666666,
                11972300,
                186179.54545454544,
                3780099.242424242,
                32075,
                1020559.0909090909,
                0,
                582024.2424242424,
                109167184.0909091,
                610611516.6666666,
                0,
                119610.60606060606,
                6667.424242424242,
                271815.9090909091,
                30384.090909090908,
                3357573.484848485,
                1622119789.3939395,
                7203573.484848484,
                29837.121212121212,
                25344328.78787879,
                109343.93939393939,
                138151.51515151514,
                0,
                16934.848484848484,
                58752816.666666664,
                0,
                5074995.454545454,
                2368.939393939394,
                33042312.87878788,
                4993978.787878788,
                1984.8484848484848,
                0,
                0,
                35066668.18181818,
                31337756.818181816,
                68074199.24242425,
                9527296.212121213,
                458164029.54545456,
                171300370.45454547,
                3991084.8484848486,
                14623691.666666666,
                230548201.5151515,
                0,
                109884384.0909091,
                793333645.4545455,
                11726507.575757576,
                1381618526.5151515,
                0,
                10359281.818181818,
                49271361.36363637,
                3073133.3333333335,
                31084.090909090908,
                0,
                7520775.757575758,
                38421.969696969696,
                2875081.8181818184,
                5611250,
                3219750.757575758,
                768296.2121212122,
                2696820.4545454546,
                1575905.303030303,
                0,
                22872869.696969695,
                14343475,
                734106.0606060605,
                10777399.242424242,
                665638.6363636364,
                261996317.42424244,
                97450.75757575757,
                264912.8787878788,
                3589006.8181818184,
                0,
                0,
                28510794.696969695,
                1569006.0606060605,
                0,
                3037302328.030303,
                0,
                200942.42424242425,
                268466.6666666667,
                69067.42424242424,
                45244446.21212121,
                2114357.5757575757,
                10549787.878787879,
                8102784.848484849,
                62398.48484848485,
                1159111.3636363635,
                344282584.8484849,
                0,
                702944.696969697,
                66952314.39393939,
                22482715.90909091,
                1998751.5151515151,
                110915589.39393939,
                11382.575757575758,
                6464.393939393939,
                3534.090909090909,
                1480581.0606060605,
                0,
                121514613.63636364,
                5526579.545454546,
                0,
                40013746.21212121,
                0,
                2535452.272727273,
                465603.7878787879,
                1439399.2424242424,
                289036871.2121212,
                128082217.42424242,
                14302.272727272728,
                190558853.03030303,
                96499975,
                0,
                8454655.303030303,
                1397693.9393939395,
                0,
                46147004.54545455,
                86615393.93939394,
                201848.48484848486,
                9782.575757575758,
                38097.72727272727,
                244808.33333333334,
                56057.57575757576,
                62.121212121212125,
                423528.0303030303,
                23527.272727272728,
                19145.454545454544,
                0,
                10464.39393939394,
                212611468.93939394,
                462766.6666666667,
                7432821.96969697,
                0,
                132350.75757575757,
                423315.9090909091,
                98807571.96969697,
                6237.878787878788,
                58889681.06060606,
                18444840.151515152,
                20193.939393939392,
                36900,
                126246742.42424242,
                0,
                891295209.0909091,
                2386.3636363636365,
                264594290.15151516,
                34639567.42424242,
                0,
                802170.4545454546,
                3312050,
                0,
                213560023.4848485,
                469029357.57575756,
                200347.72727272726,
                534901277.27272725,
                24515.909090909092,
                323695512.8787879,
                427162.8787878788,
                2071428.0303030303,
                0,
                10956.818181818182,
                25725151.515151516,
                13236268.181818182,
                618865.9090909091,
                22132.575757575756,
                0,
                181366162.87878788,
                1391545.4545454546,
                13387441.666666666,
                31135110.606060605,
                737267765.9090909,
                2016670.4545454546,
                25921912843.939392,
                593689.3939393939,
                7438205.303030303,
                6443734.090909091,
                24131.81818181818,
                2384831.8181818184,
                667042578.030303,
                0,
                1230.3030303030303,
                1895.4545454545455,
                34030.30303030303,
                0,
                9355302.272727273,
                627994.696969697
               ]
              ]
             }
            ],
            "label": "Import",
            "method": "update"
           }
          ],
          "direction": "down",
          "showactive": true
         }
        ]
       }
      }
     },
     "metadata": {},
     "output_type": "display_data"
    }
   ],
   "source": [
    "import plotly.express as px\n",
    "\n",
    "# Function to create the treemap based on the selected trade type\n",
    "def create_treemap_countries(trade_type):\n",
    "    # Filter data to include only the last 10 years\n",
    "    recent_data_countries = dfc_clean[\n",
    "        (dfc_clean[\"Year\"] >= (dfc_clean[\"Year\"].max() - 10)) &\n",
    "        (dfc_clean[\"Trade\"] == trade_type)\n",
    "    ]\n",
    "\n",
    "    # Group by 'Country' and calculate the average 'Value' over the last 10 years\n",
    "    country_avg_values = recent_data_countries.groupby(\"Country\", as_index=False)[\"Value\"].mean()\n",
    "\n",
    "    return country_avg_values\n",
    "\n",
    "# Create data for both Export and Import\n",
    "export_data_countries = create_treemap_countries('Export')\n",
    "import_data_countries = create_treemap_countries('Import')\n",
    "\n",
    "# Create the initial treemap for Export\n",
    "fig_countries = px.treemap(\n",
    "    export_data_countries,\n",
    "    path=[\"Country\"],\n",
    "    values=\"Value\",\n",
    ")\n",
    "\n",
    "# Update hover template and layout\n",
    "fig_countries.update_traces(\n",
    "    hovertemplate=\"%{label}<br>Yearly Avg Value: $%{value:,.2f}<extra></extra>\",\n",
    ")\n",
    "fig_countries.update_layout(\n",
    "    title={\n",
    "        'text': \"Distribution of Countries by Yearly Average Value (Last 10 Years)\",\n",
    "        'x': 0.5,\n",
    "    },\n",
    "    updatemenus=[\n",
    "        {\n",
    "            \"buttons\": [\n",
    "                {\n",
    "                    \"args\": [{\"values\": [export_data_countries[\"Value\"]], \"labels\": [export_data_countries[\"Country\"]]}],\n",
    "                    \"label\": \"Export\",\n",
    "                    \"method\": \"update\",\n",
    "                },\n",
    "                {\n",
    "                    \"args\": [{\"values\": [import_data_countries[\"Value\"]], \"labels\": [import_data_countries[\"Country\"]]}],\n",
    "                    \"label\": \"Import\",\n",
    "                    \"method\": \"update\",\n",
    "                },\n",
    "            ],\n",
    "            \"direction\": \"down\",\n",
    "            \"showactive\": True,\n",
    "        }\n",
    "    ]\n",
    ")\n",
    "\n",
    "fig_countries.show()"
   ]
  },
  {
   "cell_type": "markdown",
   "id": "38fd953b",
   "metadata": {},
   "source": [
    "<a id=\"d4\"></a>\n",
    "### 2.3 Distribution of Categories by Yearly Average Value (Last 10 Years)"
   ]
  },
  {
   "cell_type": "code",
   "execution_count": 43,
   "id": "822b0707",
   "metadata": {},
   "outputs": [
    {
     "data": {
      "application/vnd.plotly.v1+json": {
       "config": {
        "plotlyServerURL": "https://plot.ly"
       },
       "data": [
        {
         "branchvalues": "total",
         "domain": {
          "x": [
           0,
           1
          ],
          "y": [
           0,
           1
          ]
         },
         "hovertemplate": "%{label}<br>Yearly Avg Value: $%{value:,.2f}<extra></extra>",
         "ids": [
          "Agriculture",
          "Beverages",
          "Chemicals",
          "Construction",
          "Consumer Goods",
          "Electronics",
          "Energy",
          "Food",
          "Furniture",
          "Machinery",
          "Media",
          "Metals",
          "Minerals",
          "Miscellaneous",
          "Packaging",
          "Paper Products",
          "Pharmaceuticals",
          "Plastics",
          "Recycling",
          "Software",
          "Textiles",
          "Tobacco",
          "Transportation",
          "Wood Products"
         ],
         "labels": [
          "Agriculture",
          "Beverages",
          "Chemicals",
          "Construction",
          "Consumer Goods",
          "Electronics",
          "Energy",
          "Food",
          "Furniture",
          "Machinery",
          "Media",
          "Metals",
          "Minerals",
          "Miscellaneous",
          "Packaging",
          "Paper Products",
          "Pharmaceuticals",
          "Plastics",
          "Recycling",
          "Software",
          "Textiles",
          "Tobacco",
          "Transportation",
          "Wood Products"
         ],
         "name": "",
         "parents": [
          "",
          "",
          "",
          "",
          "",
          "",
          "",
          "",
          "",
          "",
          "",
          "",
          "",
          "",
          "",
          "",
          "",
          "",
          "",
          "",
          "",
          "",
          "",
          ""
         ],
         "type": "treemap",
         "values": {
          "bdata": "BihFwLT9jkH386zV8s1SQcF1i0I435RBX3tksmXlkkFVpJV50K6hQas+wXypr45B4LUZEXQxqUGvmqjiQgeMQcIHnwoZzYhBkgCbwtw0jUGyy7n+BFlUQbXDMpUfX5FBzoccVJDac0EQPjiZK8ycQXzwgaGJRYZB2bWU0ClchUE++AAiX06TQS8vvIFcqIZBuwHeJIv1aEGgxJpXqpQRQQWXGorxdGxBO52Yfh1RJkFFbBFIr0igQQj2fJZsrGFB",
          "dtype": "f8"
         }
        }
       ],
       "layout": {
        "legend": {
         "tracegroupgap": 0
        },
        "margin": {
         "t": 60
        },
        "template": {
         "data": {
          "bar": [
           {
            "error_x": {
             "color": "#2a3f5f"
            },
            "error_y": {
             "color": "#2a3f5f"
            },
            "marker": {
             "line": {
              "color": "#E5ECF6",
              "width": 0.5
             },
             "pattern": {
              "fillmode": "overlay",
              "size": 10,
              "solidity": 0.2
             }
            },
            "type": "bar"
           }
          ],
          "barpolar": [
           {
            "marker": {
             "line": {
              "color": "#E5ECF6",
              "width": 0.5
             },
             "pattern": {
              "fillmode": "overlay",
              "size": 10,
              "solidity": 0.2
             }
            },
            "type": "barpolar"
           }
          ],
          "carpet": [
           {
            "aaxis": {
             "endlinecolor": "#2a3f5f",
             "gridcolor": "white",
             "linecolor": "white",
             "minorgridcolor": "white",
             "startlinecolor": "#2a3f5f"
            },
            "baxis": {
             "endlinecolor": "#2a3f5f",
             "gridcolor": "white",
             "linecolor": "white",
             "minorgridcolor": "white",
             "startlinecolor": "#2a3f5f"
            },
            "type": "carpet"
           }
          ],
          "choropleth": [
           {
            "colorbar": {
             "outlinewidth": 0,
             "ticks": ""
            },
            "type": "choropleth"
           }
          ],
          "contour": [
           {
            "colorbar": {
             "outlinewidth": 0,
             "ticks": ""
            },
            "colorscale": [
             [
              0,
              "#0d0887"
             ],
             [
              0.1111111111111111,
              "#46039f"
             ],
             [
              0.2222222222222222,
              "#7201a8"
             ],
             [
              0.3333333333333333,
              "#9c179e"
             ],
             [
              0.4444444444444444,
              "#bd3786"
             ],
             [
              0.5555555555555556,
              "#d8576b"
             ],
             [
              0.6666666666666666,
              "#ed7953"
             ],
             [
              0.7777777777777778,
              "#fb9f3a"
             ],
             [
              0.8888888888888888,
              "#fdca26"
             ],
             [
              1,
              "#f0f921"
             ]
            ],
            "type": "contour"
           }
          ],
          "contourcarpet": [
           {
            "colorbar": {
             "outlinewidth": 0,
             "ticks": ""
            },
            "type": "contourcarpet"
           }
          ],
          "heatmap": [
           {
            "colorbar": {
             "outlinewidth": 0,
             "ticks": ""
            },
            "colorscale": [
             [
              0,
              "#0d0887"
             ],
             [
              0.1111111111111111,
              "#46039f"
             ],
             [
              0.2222222222222222,
              "#7201a8"
             ],
             [
              0.3333333333333333,
              "#9c179e"
             ],
             [
              0.4444444444444444,
              "#bd3786"
             ],
             [
              0.5555555555555556,
              "#d8576b"
             ],
             [
              0.6666666666666666,
              "#ed7953"
             ],
             [
              0.7777777777777778,
              "#fb9f3a"
             ],
             [
              0.8888888888888888,
              "#fdca26"
             ],
             [
              1,
              "#f0f921"
             ]
            ],
            "type": "heatmap"
           }
          ],
          "histogram": [
           {
            "marker": {
             "pattern": {
              "fillmode": "overlay",
              "size": 10,
              "solidity": 0.2
             }
            },
            "type": "histogram"
           }
          ],
          "histogram2d": [
           {
            "colorbar": {
             "outlinewidth": 0,
             "ticks": ""
            },
            "colorscale": [
             [
              0,
              "#0d0887"
             ],
             [
              0.1111111111111111,
              "#46039f"
             ],
             [
              0.2222222222222222,
              "#7201a8"
             ],
             [
              0.3333333333333333,
              "#9c179e"
             ],
             [
              0.4444444444444444,
              "#bd3786"
             ],
             [
              0.5555555555555556,
              "#d8576b"
             ],
             [
              0.6666666666666666,
              "#ed7953"
             ],
             [
              0.7777777777777778,
              "#fb9f3a"
             ],
             [
              0.8888888888888888,
              "#fdca26"
             ],
             [
              1,
              "#f0f921"
             ]
            ],
            "type": "histogram2d"
           }
          ],
          "histogram2dcontour": [
           {
            "colorbar": {
             "outlinewidth": 0,
             "ticks": ""
            },
            "colorscale": [
             [
              0,
              "#0d0887"
             ],
             [
              0.1111111111111111,
              "#46039f"
             ],
             [
              0.2222222222222222,
              "#7201a8"
             ],
             [
              0.3333333333333333,
              "#9c179e"
             ],
             [
              0.4444444444444444,
              "#bd3786"
             ],
             [
              0.5555555555555556,
              "#d8576b"
             ],
             [
              0.6666666666666666,
              "#ed7953"
             ],
             [
              0.7777777777777778,
              "#fb9f3a"
             ],
             [
              0.8888888888888888,
              "#fdca26"
             ],
             [
              1,
              "#f0f921"
             ]
            ],
            "type": "histogram2dcontour"
           }
          ],
          "mesh3d": [
           {
            "colorbar": {
             "outlinewidth": 0,
             "ticks": ""
            },
            "type": "mesh3d"
           }
          ],
          "parcoords": [
           {
            "line": {
             "colorbar": {
              "outlinewidth": 0,
              "ticks": ""
             }
            },
            "type": "parcoords"
           }
          ],
          "pie": [
           {
            "automargin": true,
            "type": "pie"
           }
          ],
          "scatter": [
           {
            "fillpattern": {
             "fillmode": "overlay",
             "size": 10,
             "solidity": 0.2
            },
            "type": "scatter"
           }
          ],
          "scatter3d": [
           {
            "line": {
             "colorbar": {
              "outlinewidth": 0,
              "ticks": ""
             }
            },
            "marker": {
             "colorbar": {
              "outlinewidth": 0,
              "ticks": ""
             }
            },
            "type": "scatter3d"
           }
          ],
          "scattercarpet": [
           {
            "marker": {
             "colorbar": {
              "outlinewidth": 0,
              "ticks": ""
             }
            },
            "type": "scattercarpet"
           }
          ],
          "scattergeo": [
           {
            "marker": {
             "colorbar": {
              "outlinewidth": 0,
              "ticks": ""
             }
            },
            "type": "scattergeo"
           }
          ],
          "scattergl": [
           {
            "marker": {
             "colorbar": {
              "outlinewidth": 0,
              "ticks": ""
             }
            },
            "type": "scattergl"
           }
          ],
          "scattermap": [
           {
            "marker": {
             "colorbar": {
              "outlinewidth": 0,
              "ticks": ""
             }
            },
            "type": "scattermap"
           }
          ],
          "scattermapbox": [
           {
            "marker": {
             "colorbar": {
              "outlinewidth": 0,
              "ticks": ""
             }
            },
            "type": "scattermapbox"
           }
          ],
          "scatterpolar": [
           {
            "marker": {
             "colorbar": {
              "outlinewidth": 0,
              "ticks": ""
             }
            },
            "type": "scatterpolar"
           }
          ],
          "scatterpolargl": [
           {
            "marker": {
             "colorbar": {
              "outlinewidth": 0,
              "ticks": ""
             }
            },
            "type": "scatterpolargl"
           }
          ],
          "scatterternary": [
           {
            "marker": {
             "colorbar": {
              "outlinewidth": 0,
              "ticks": ""
             }
            },
            "type": "scatterternary"
           }
          ],
          "surface": [
           {
            "colorbar": {
             "outlinewidth": 0,
             "ticks": ""
            },
            "colorscale": [
             [
              0,
              "#0d0887"
             ],
             [
              0.1111111111111111,
              "#46039f"
             ],
             [
              0.2222222222222222,
              "#7201a8"
             ],
             [
              0.3333333333333333,
              "#9c179e"
             ],
             [
              0.4444444444444444,
              "#bd3786"
             ],
             [
              0.5555555555555556,
              "#d8576b"
             ],
             [
              0.6666666666666666,
              "#ed7953"
             ],
             [
              0.7777777777777778,
              "#fb9f3a"
             ],
             [
              0.8888888888888888,
              "#fdca26"
             ],
             [
              1,
              "#f0f921"
             ]
            ],
            "type": "surface"
           }
          ],
          "table": [
           {
            "cells": {
             "fill": {
              "color": "#EBF0F8"
             },
             "line": {
              "color": "white"
             }
            },
            "header": {
             "fill": {
              "color": "#C8D4E3"
             },
             "line": {
              "color": "white"
             }
            },
            "type": "table"
           }
          ]
         },
         "layout": {
          "annotationdefaults": {
           "arrowcolor": "#2a3f5f",
           "arrowhead": 0,
           "arrowwidth": 1
          },
          "autotypenumbers": "strict",
          "coloraxis": {
           "colorbar": {
            "outlinewidth": 0,
            "ticks": ""
           }
          },
          "colorscale": {
           "diverging": [
            [
             0,
             "#8e0152"
            ],
            [
             0.1,
             "#c51b7d"
            ],
            [
             0.2,
             "#de77ae"
            ],
            [
             0.3,
             "#f1b6da"
            ],
            [
             0.4,
             "#fde0ef"
            ],
            [
             0.5,
             "#f7f7f7"
            ],
            [
             0.6,
             "#e6f5d0"
            ],
            [
             0.7,
             "#b8e186"
            ],
            [
             0.8,
             "#7fbc41"
            ],
            [
             0.9,
             "#4d9221"
            ],
            [
             1,
             "#276419"
            ]
           ],
           "sequential": [
            [
             0,
             "#0d0887"
            ],
            [
             0.1111111111111111,
             "#46039f"
            ],
            [
             0.2222222222222222,
             "#7201a8"
            ],
            [
             0.3333333333333333,
             "#9c179e"
            ],
            [
             0.4444444444444444,
             "#bd3786"
            ],
            [
             0.5555555555555556,
             "#d8576b"
            ],
            [
             0.6666666666666666,
             "#ed7953"
            ],
            [
             0.7777777777777778,
             "#fb9f3a"
            ],
            [
             0.8888888888888888,
             "#fdca26"
            ],
            [
             1,
             "#f0f921"
            ]
           ],
           "sequentialminus": [
            [
             0,
             "#0d0887"
            ],
            [
             0.1111111111111111,
             "#46039f"
            ],
            [
             0.2222222222222222,
             "#7201a8"
            ],
            [
             0.3333333333333333,
             "#9c179e"
            ],
            [
             0.4444444444444444,
             "#bd3786"
            ],
            [
             0.5555555555555556,
             "#d8576b"
            ],
            [
             0.6666666666666666,
             "#ed7953"
            ],
            [
             0.7777777777777778,
             "#fb9f3a"
            ],
            [
             0.8888888888888888,
             "#fdca26"
            ],
            [
             1,
             "#f0f921"
            ]
           ]
          },
          "colorway": [
           "#636efa",
           "#EF553B",
           "#00cc96",
           "#ab63fa",
           "#FFA15A",
           "#19d3f3",
           "#FF6692",
           "#B6E880",
           "#FF97FF",
           "#FECB52"
          ],
          "font": {
           "color": "#2a3f5f"
          },
          "geo": {
           "bgcolor": "white",
           "lakecolor": "white",
           "landcolor": "#E5ECF6",
           "showlakes": true,
           "showland": true,
           "subunitcolor": "white"
          },
          "hoverlabel": {
           "align": "left"
          },
          "hovermode": "closest",
          "mapbox": {
           "style": "light"
          },
          "paper_bgcolor": "white",
          "plot_bgcolor": "#E5ECF6",
          "polar": {
           "angularaxis": {
            "gridcolor": "white",
            "linecolor": "white",
            "ticks": ""
           },
           "bgcolor": "#E5ECF6",
           "radialaxis": {
            "gridcolor": "white",
            "linecolor": "white",
            "ticks": ""
           }
          },
          "scene": {
           "xaxis": {
            "backgroundcolor": "#E5ECF6",
            "gridcolor": "white",
            "gridwidth": 2,
            "linecolor": "white",
            "showbackground": true,
            "ticks": "",
            "zerolinecolor": "white"
           },
           "yaxis": {
            "backgroundcolor": "#E5ECF6",
            "gridcolor": "white",
            "gridwidth": 2,
            "linecolor": "white",
            "showbackground": true,
            "ticks": "",
            "zerolinecolor": "white"
           },
           "zaxis": {
            "backgroundcolor": "#E5ECF6",
            "gridcolor": "white",
            "gridwidth": 2,
            "linecolor": "white",
            "showbackground": true,
            "ticks": "",
            "zerolinecolor": "white"
           }
          },
          "shapedefaults": {
           "line": {
            "color": "#2a3f5f"
           }
          },
          "ternary": {
           "aaxis": {
            "gridcolor": "white",
            "linecolor": "white",
            "ticks": ""
           },
           "baxis": {
            "gridcolor": "white",
            "linecolor": "white",
            "ticks": ""
           },
           "bgcolor": "#E5ECF6",
           "caxis": {
            "gridcolor": "white",
            "linecolor": "white",
            "ticks": ""
           }
          },
          "title": {
           "x": 0.05
          },
          "xaxis": {
           "automargin": true,
           "gridcolor": "white",
           "linecolor": "white",
           "ticks": "",
           "title": {
            "standoff": 15
           },
           "zerolinecolor": "white",
           "zerolinewidth": 2
          },
          "yaxis": {
           "automargin": true,
           "gridcolor": "white",
           "linecolor": "white",
           "ticks": "",
           "title": {
            "standoff": 15
           },
           "zerolinecolor": "white",
           "zerolinewidth": 2
          }
         }
        },
        "title": {
         "text": "Distribution of Categories by Yearly Average Value (Last 10 Years)",
         "x": 0.5
        },
        "updatemenus": [
         {
          "buttons": [
           {
            "args": [
             {
              "labels": [
               [
                "Agriculture",
                "Beverages",
                "Chemicals",
                "Construction",
                "Consumer Goods",
                "Electronics",
                "Energy",
                "Food",
                "Furniture",
                "Machinery",
                "Media",
                "Metals",
                "Minerals",
                "Miscellaneous",
                "Packaging",
                "Paper Products",
                "Pharmaceuticals",
                "Plastics",
                "Recycling",
                "Software",
                "Textiles",
                "Tobacco",
                "Transportation",
                "Wood Products"
               ]
              ],
              "values": [
               [
                64992920.033767745,
                4929483.338681213,
                87543312.63619138,
                79255916.59812687,
                148334652.79226938,
                64353583.59435781,
                211335688.55021572,
                58779740.332326286,
                52011809.327651516,
                61250456.32568468,
                5334035.980090069,
                72861669.29957469,
                20818181.25696545,
                120785638.30492425,
                46706996.18844697,
                44795194.07261247,
                80975816.50094697,
                47516560.21688687,
                13085785.152100435,
                288042.5855513308,
                14919564.31574584,
                731278.7472581038,
                136599460.03402916,
                9266020.702754036
               ]
              ]
             }
            ],
            "label": "Export",
            "method": "update"
           },
           {
            "args": [
             {
              "labels": [
               [
                "Agriculture",
                "Beverages",
                "Chemicals",
                "Construction",
                "Consumer Goods",
                "Electronics",
                "Energy",
                "Food",
                "Furniture",
                "Machinery",
                "Media",
                "Metals",
                "Minerals",
                "Miscellaneous",
                "Packaging",
                "Paper Products",
                "Pharmaceuticals",
                "Plastics",
                "Recycling",
                "Software",
                "Textiles",
                "Tobacco",
                "Transportation",
                "Wood Products"
               ]
              ],
              "values": [
               [
                37267042.48752786,
                12059912.693522906,
                108693252.02652039,
                43089945.43863835,
                220793223.2717803,
                143589704.0588534,
                52072990.18720718,
                50579703.61636048,
                42299879.824769124,
                97813756.11547002,
                14835162.260127932,
                45246931.3797865,
                7220542.766543018,
                91307191.4989344,
                61804172.703598484,
                31258586.864540573,
                104655673.09969217,
                53484217.02419851,
                13743918.604873387,
                3668201.5187470336,
                45953815.13356631,
                6174396.820877817,
                180443425.00410742,
                6140432.582404553
               ]
              ]
             }
            ],
            "label": "Import",
            "method": "update"
           }
          ],
          "direction": "down",
          "showactive": true
         }
        ]
       }
      }
     },
     "metadata": {},
     "output_type": "display_data"
    }
   ],
   "source": [
    "# Function to create the treemap based on the selected trade type\n",
    "def create_treemap_category(trade_type):\n",
    "    # Filter data to include only the last 10 years\n",
    "    recent_data_category = df_clean[\n",
    "        (df_clean[\"Year\"] >= (df_clean[\"Year\"].max() - 10)) &\n",
    "        (df_clean[\"Trade\"] == trade_type)\n",
    "    ]\n",
    "\n",
    "    # Group by 'Description' and calculate the average 'Value' over the last 10 years\n",
    "    category_avg_values = recent_data_category.groupby(\"Category\", as_index=False)[\"Value\"].mean()\n",
    "\n",
    "    return category_avg_values\n",
    "\n",
    "# Create data for both Export and Import\n",
    "export_data_category = create_treemap_category('Export')\n",
    "import_data_category = create_treemap_category('Import')\n",
    "\n",
    "# Create the initial treemap for Export\n",
    "fig_category = px.treemap(\n",
    "    export_data_category,\n",
    "    path=[\"Category\"],\n",
    "    values=\"Value\",\n",
    ")\n",
    "\n",
    "# Update hover template and layout\n",
    "fig_category.update_traces(\n",
    "    hovertemplate=\"%{label}<br>Yearly Avg Value: $%{value:,.2f}<extra></extra>\"\n",
    ")\n",
    "fig_category.update_layout(\n",
    "    title={\n",
    "        'text': \"Distribution of Categories by Yearly Average Value (Last 10 Years)\",\n",
    "        'x': 0.5,\n",
    "    },\n",
    "    updatemenus=[\n",
    "        {\n",
    "            \"buttons\": [\n",
    "                {\n",
    "                    \"args\": [{\"values\": [export_data_category[\"Value\"]], \"labels\": [export_data_category[\"Category\"]]}],\n",
    "                    \"label\": \"Export\",\n",
    "                    \"method\": \"update\",\n",
    "                },\n",
    "                {\n",
    "                    \"args\": [{\"values\": [import_data_category[\"Value\"]], \"labels\": [import_data_category[\"Category\"]]}],\n",
    "                    \"label\": \"Import\",\n",
    "                    \"method\": \"update\",\n",
    "                },\n",
    "            ],\n",
    "            \"direction\": \"down\",\n",
    "            \"showactive\": True,\n",
    "        }\n",
    "    ]\n",
    ")\n",
    "\n",
    "fig_category.show()"
   ]
  },
  {
   "cell_type": "markdown",
   "id": "b1a997de",
   "metadata": {},
   "source": [
    "<a id=\"h5\"></a>\n",
    "### 2.4 Heatmap of Top 10 Product Descriptions by Yearly Average Value (Since 2010)"
   ]
  },
  {
   "cell_type": "code",
   "execution_count": 44,
   "id": "d9bf0f4c",
   "metadata": {},
   "outputs": [
    {
     "data": {
      "application/vnd.plotly.v1+json": {
       "config": {
        "plotlyServerURL": "https://plot.ly"
       },
       "data": [
        {
         "coloraxis": "coloraxis",
         "hovertemplate": "%{x}<br>%{y}<br>Yearly Avg Value: $%{z:,.2f}<extra></extra>",
         "name": "0",
         "type": "heatmap",
         "x": {
          "bdata": "2gcAANsHAADcBwAA3QcAAN4HAADfBwAA4AcAAOEHAADiBwAA4wcAAOQHAADlBwAA5gcAAOcHAADoBwAA",
          "dtype": "i4"
         },
         "xaxis": "x",
         "y": [
          "Energy products",
          "Motor vehicles and parts",
          "Metal and non-metallic mineral products",
          "Consumer goods",
          "Farm, fishing and intermediate food products",
          "Forestry products and building and packaging materials",
          "Basic and industrial chemical, plastic and rubber products",
          "Industrial machinery, equipment and parts",
          "Electronic and electrical equipment and parts",
          "Metal ores and non-metallic minerals"
         ],
         "yaxis": "y",
         "z": {
          "bdata": "km2STS+vtEExzzC/1ia5QWScY/zixblBOMg3uKt9u0EY6BcAhM2/Qd0i3cZmFrZB2CfY/wxyskGId4hvMFu4QbdItwBK07xBPsI9Sg8VvUG1SrUiZ7a0QQX7BI1L0MBBY51iD/2aykG4R7gVpNbFQbxDvEEEosZBj3CPuEClqUHMM8yDRqOqQZlmma77vK5BE+0S/XGYrkHnGOdousGwQcU6xcYUfLNBHOQb9KdKtUE8xDvcCi20QZxjnJ9SaLNBTLRLqHTgs0HOMc5BeJCuQfkG+U7hVKxB3yDfoABSsEFwkG90jgW1QbVKtbrCqrNBwj3C5XuIpkGzTLPMIXqqQXeJdjECvadB9Qr1CoDYp0FslGtMUJapQegX6P9EiqlBNMwz5DoIqUGzTLN8+ourQahXqG8XZaxBh3iH6PKRrEHlGuUyIgOsQYh3iDu4vrBB1CvUO7HOs0H9Av0mmQe0QTbKNQ7747VB+Af4x2UAokGKdYqlR2iiQadYp1BAn6JBDPQLrCPao0GmWaYZ9X+mQYd4hzjbtapB+Qb5HnhrrEEzzTIVGaqqQVGvUJdFi6xBt0i3YESkrkFHuUY5iwqvQcc4x+zlcbFBuEe4X9mBs0GgX6Cz3tmzQdUq1fL1MrVBU61SXRaFl0Eb5Rq1I1GbQSbaJepj0Z1BuUa5Jll3n0FinmHuCJShQRHvEB8H5KJBEe8QJ3etokGaZZoNqDyjQTTMMwQ7naNBbJRrhJHnokGSbZKVKXalQYJ9glWe56dBhXqF4trQqkHPMM+o8JasQU6yTcJ4ZKtBJ9kmKUe4m0H+Af7BzWOcQT3DPNPcRJxB6Bfol69Fn0HQL9AneRChQeMc45RKnKJBN8k28aeeo0EJ9wiffmKkQbRLtNsd0KVBLtItEniCo0FfoV4x7YyjQWuVav16fKlB/QL9ymSHqkGKdYol/jymQYZ5htEzxqZBeIh3SLLhmUHUK9RLlhqeQW2TbHP6GZxBnWKdwsChnUFAwD8Ax5+eQUG/QN/4m51BzjHO4QsjnEHcI9wz7bmdQQH/AE8Y0J9BkG+QXwAJn0H5Bvl2A7ubQQ/xDlEOB6JBHOQb7BTcpEGPcI8gjsOjQcQ7xJNa0KNBN8k2WQWClUGeYZ4h/ReYQXWLdEt9HZlBnmGeMccUmUE0zDNMUzWbQfoF+jWo7Z1BE+0SXWIInUHNMs2y/zqfQfYJ9vm3jaBBIt4hjixVoUHrFOvEIK+dQZFukZ7D859BULBPgBRno0FMtEvsce2lQcs0y+ThfKVBFesUu8ukkkFbpVr1/hiTQX2DfMOS55JBHeMcY9J5kkEC/gEupLSTQeMc4yw1JZZBC/UKFaaAlkEp1yjnAY+WQcA/wC9EYpdBLNQrFIqsl0EZ5xhH+8aUQYZ5hgkbG5ZB6hXqRTP1mUFjnWLdw0CcQbhHuJfgfp1BinWK1cjGi0H8A/zz2ASSQco1ygUd4pBB8wzzvAxIkEF/gX4BSgKRQVKuUQ7ggZFBfYN8A+icjUE7xTp1qsOQQRvlGvXoXZNBRLxDXOJOlEFomGfocqyUQfIN8k32j5lBoF+gJ1vJoEFbpVr1dpecQT7CPfJUCJlB",
          "dtype": "f8",
          "shape": "10, 15"
         }
        }
       ],
       "layout": {
        "coloraxis": {
         "colorbar": {
          "title": {
           "text": "Average Value"
          }
         },
         "colorscale": [
          [
           0,
           "#fcfdbf"
          ],
          [
           0.1111111111111111,
           "#feca8d"
          ],
          [
           0.2222222222222222,
           "#fd9668"
          ],
          [
           0.3333333333333333,
           "#f1605d"
          ],
          [
           0.4444444444444444,
           "#cd4071"
          ],
          [
           0.5555555555555556,
           "#9e2f7f"
          ],
          [
           0.6666666666666666,
           "#721f81"
          ],
          [
           0.7777777777777778,
           "#440f76"
          ],
          [
           0.8888888888888888,
           "#180f3d"
          ],
          [
           1,
           "#000004"
          ]
         ]
        },
        "margin": {
         "t": 60
        },
        "template": {
         "data": {
          "bar": [
           {
            "error_x": {
             "color": "#2a3f5f"
            },
            "error_y": {
             "color": "#2a3f5f"
            },
            "marker": {
             "line": {
              "color": "#E5ECF6",
              "width": 0.5
             },
             "pattern": {
              "fillmode": "overlay",
              "size": 10,
              "solidity": 0.2
             }
            },
            "type": "bar"
           }
          ],
          "barpolar": [
           {
            "marker": {
             "line": {
              "color": "#E5ECF6",
              "width": 0.5
             },
             "pattern": {
              "fillmode": "overlay",
              "size": 10,
              "solidity": 0.2
             }
            },
            "type": "barpolar"
           }
          ],
          "carpet": [
           {
            "aaxis": {
             "endlinecolor": "#2a3f5f",
             "gridcolor": "white",
             "linecolor": "white",
             "minorgridcolor": "white",
             "startlinecolor": "#2a3f5f"
            },
            "baxis": {
             "endlinecolor": "#2a3f5f",
             "gridcolor": "white",
             "linecolor": "white",
             "minorgridcolor": "white",
             "startlinecolor": "#2a3f5f"
            },
            "type": "carpet"
           }
          ],
          "choropleth": [
           {
            "colorbar": {
             "outlinewidth": 0,
             "ticks": ""
            },
            "type": "choropleth"
           }
          ],
          "contour": [
           {
            "colorbar": {
             "outlinewidth": 0,
             "ticks": ""
            },
            "colorscale": [
             [
              0,
              "#0d0887"
             ],
             [
              0.1111111111111111,
              "#46039f"
             ],
             [
              0.2222222222222222,
              "#7201a8"
             ],
             [
              0.3333333333333333,
              "#9c179e"
             ],
             [
              0.4444444444444444,
              "#bd3786"
             ],
             [
              0.5555555555555556,
              "#d8576b"
             ],
             [
              0.6666666666666666,
              "#ed7953"
             ],
             [
              0.7777777777777778,
              "#fb9f3a"
             ],
             [
              0.8888888888888888,
              "#fdca26"
             ],
             [
              1,
              "#f0f921"
             ]
            ],
            "type": "contour"
           }
          ],
          "contourcarpet": [
           {
            "colorbar": {
             "outlinewidth": 0,
             "ticks": ""
            },
            "type": "contourcarpet"
           }
          ],
          "heatmap": [
           {
            "colorbar": {
             "outlinewidth": 0,
             "ticks": ""
            },
            "colorscale": [
             [
              0,
              "#0d0887"
             ],
             [
              0.1111111111111111,
              "#46039f"
             ],
             [
              0.2222222222222222,
              "#7201a8"
             ],
             [
              0.3333333333333333,
              "#9c179e"
             ],
             [
              0.4444444444444444,
              "#bd3786"
             ],
             [
              0.5555555555555556,
              "#d8576b"
             ],
             [
              0.6666666666666666,
              "#ed7953"
             ],
             [
              0.7777777777777778,
              "#fb9f3a"
             ],
             [
              0.8888888888888888,
              "#fdca26"
             ],
             [
              1,
              "#f0f921"
             ]
            ],
            "type": "heatmap"
           }
          ],
          "histogram": [
           {
            "marker": {
             "pattern": {
              "fillmode": "overlay",
              "size": 10,
              "solidity": 0.2
             }
            },
            "type": "histogram"
           }
          ],
          "histogram2d": [
           {
            "colorbar": {
             "outlinewidth": 0,
             "ticks": ""
            },
            "colorscale": [
             [
              0,
              "#0d0887"
             ],
             [
              0.1111111111111111,
              "#46039f"
             ],
             [
              0.2222222222222222,
              "#7201a8"
             ],
             [
              0.3333333333333333,
              "#9c179e"
             ],
             [
              0.4444444444444444,
              "#bd3786"
             ],
             [
              0.5555555555555556,
              "#d8576b"
             ],
             [
              0.6666666666666666,
              "#ed7953"
             ],
             [
              0.7777777777777778,
              "#fb9f3a"
             ],
             [
              0.8888888888888888,
              "#fdca26"
             ],
             [
              1,
              "#f0f921"
             ]
            ],
            "type": "histogram2d"
           }
          ],
          "histogram2dcontour": [
           {
            "colorbar": {
             "outlinewidth": 0,
             "ticks": ""
            },
            "colorscale": [
             [
              0,
              "#0d0887"
             ],
             [
              0.1111111111111111,
              "#46039f"
             ],
             [
              0.2222222222222222,
              "#7201a8"
             ],
             [
              0.3333333333333333,
              "#9c179e"
             ],
             [
              0.4444444444444444,
              "#bd3786"
             ],
             [
              0.5555555555555556,
              "#d8576b"
             ],
             [
              0.6666666666666666,
              "#ed7953"
             ],
             [
              0.7777777777777778,
              "#fb9f3a"
             ],
             [
              0.8888888888888888,
              "#fdca26"
             ],
             [
              1,
              "#f0f921"
             ]
            ],
            "type": "histogram2dcontour"
           }
          ],
          "mesh3d": [
           {
            "colorbar": {
             "outlinewidth": 0,
             "ticks": ""
            },
            "type": "mesh3d"
           }
          ],
          "parcoords": [
           {
            "line": {
             "colorbar": {
              "outlinewidth": 0,
              "ticks": ""
             }
            },
            "type": "parcoords"
           }
          ],
          "pie": [
           {
            "automargin": true,
            "type": "pie"
           }
          ],
          "scatter": [
           {
            "fillpattern": {
             "fillmode": "overlay",
             "size": 10,
             "solidity": 0.2
            },
            "type": "scatter"
           }
          ],
          "scatter3d": [
           {
            "line": {
             "colorbar": {
              "outlinewidth": 0,
              "ticks": ""
             }
            },
            "marker": {
             "colorbar": {
              "outlinewidth": 0,
              "ticks": ""
             }
            },
            "type": "scatter3d"
           }
          ],
          "scattercarpet": [
           {
            "marker": {
             "colorbar": {
              "outlinewidth": 0,
              "ticks": ""
             }
            },
            "type": "scattercarpet"
           }
          ],
          "scattergeo": [
           {
            "marker": {
             "colorbar": {
              "outlinewidth": 0,
              "ticks": ""
             }
            },
            "type": "scattergeo"
           }
          ],
          "scattergl": [
           {
            "marker": {
             "colorbar": {
              "outlinewidth": 0,
              "ticks": ""
             }
            },
            "type": "scattergl"
           }
          ],
          "scattermap": [
           {
            "marker": {
             "colorbar": {
              "outlinewidth": 0,
              "ticks": ""
             }
            },
            "type": "scattermap"
           }
          ],
          "scattermapbox": [
           {
            "marker": {
             "colorbar": {
              "outlinewidth": 0,
              "ticks": ""
             }
            },
            "type": "scattermapbox"
           }
          ],
          "scatterpolar": [
           {
            "marker": {
             "colorbar": {
              "outlinewidth": 0,
              "ticks": ""
             }
            },
            "type": "scatterpolar"
           }
          ],
          "scatterpolargl": [
           {
            "marker": {
             "colorbar": {
              "outlinewidth": 0,
              "ticks": ""
             }
            },
            "type": "scatterpolargl"
           }
          ],
          "scatterternary": [
           {
            "marker": {
             "colorbar": {
              "outlinewidth": 0,
              "ticks": ""
             }
            },
            "type": "scatterternary"
           }
          ],
          "surface": [
           {
            "colorbar": {
             "outlinewidth": 0,
             "ticks": ""
            },
            "colorscale": [
             [
              0,
              "#0d0887"
             ],
             [
              0.1111111111111111,
              "#46039f"
             ],
             [
              0.2222222222222222,
              "#7201a8"
             ],
             [
              0.3333333333333333,
              "#9c179e"
             ],
             [
              0.4444444444444444,
              "#bd3786"
             ],
             [
              0.5555555555555556,
              "#d8576b"
             ],
             [
              0.6666666666666666,
              "#ed7953"
             ],
             [
              0.7777777777777778,
              "#fb9f3a"
             ],
             [
              0.8888888888888888,
              "#fdca26"
             ],
             [
              1,
              "#f0f921"
             ]
            ],
            "type": "surface"
           }
          ],
          "table": [
           {
            "cells": {
             "fill": {
              "color": "#EBF0F8"
             },
             "line": {
              "color": "white"
             }
            },
            "header": {
             "fill": {
              "color": "#C8D4E3"
             },
             "line": {
              "color": "white"
             }
            },
            "type": "table"
           }
          ]
         },
         "layout": {
          "annotationdefaults": {
           "arrowcolor": "#2a3f5f",
           "arrowhead": 0,
           "arrowwidth": 1
          },
          "autotypenumbers": "strict",
          "coloraxis": {
           "colorbar": {
            "outlinewidth": 0,
            "ticks": ""
           }
          },
          "colorscale": {
           "diverging": [
            [
             0,
             "#8e0152"
            ],
            [
             0.1,
             "#c51b7d"
            ],
            [
             0.2,
             "#de77ae"
            ],
            [
             0.3,
             "#f1b6da"
            ],
            [
             0.4,
             "#fde0ef"
            ],
            [
             0.5,
             "#f7f7f7"
            ],
            [
             0.6,
             "#e6f5d0"
            ],
            [
             0.7,
             "#b8e186"
            ],
            [
             0.8,
             "#7fbc41"
            ],
            [
             0.9,
             "#4d9221"
            ],
            [
             1,
             "#276419"
            ]
           ],
           "sequential": [
            [
             0,
             "#0d0887"
            ],
            [
             0.1111111111111111,
             "#46039f"
            ],
            [
             0.2222222222222222,
             "#7201a8"
            ],
            [
             0.3333333333333333,
             "#9c179e"
            ],
            [
             0.4444444444444444,
             "#bd3786"
            ],
            [
             0.5555555555555556,
             "#d8576b"
            ],
            [
             0.6666666666666666,
             "#ed7953"
            ],
            [
             0.7777777777777778,
             "#fb9f3a"
            ],
            [
             0.8888888888888888,
             "#fdca26"
            ],
            [
             1,
             "#f0f921"
            ]
           ],
           "sequentialminus": [
            [
             0,
             "#0d0887"
            ],
            [
             0.1111111111111111,
             "#46039f"
            ],
            [
             0.2222222222222222,
             "#7201a8"
            ],
            [
             0.3333333333333333,
             "#9c179e"
            ],
            [
             0.4444444444444444,
             "#bd3786"
            ],
            [
             0.5555555555555556,
             "#d8576b"
            ],
            [
             0.6666666666666666,
             "#ed7953"
            ],
            [
             0.7777777777777778,
             "#fb9f3a"
            ],
            [
             0.8888888888888888,
             "#fdca26"
            ],
            [
             1,
             "#f0f921"
            ]
           ]
          },
          "colorway": [
           "#636efa",
           "#EF553B",
           "#00cc96",
           "#ab63fa",
           "#FFA15A",
           "#19d3f3",
           "#FF6692",
           "#B6E880",
           "#FF97FF",
           "#FECB52"
          ],
          "font": {
           "color": "#2a3f5f"
          },
          "geo": {
           "bgcolor": "white",
           "lakecolor": "white",
           "landcolor": "#E5ECF6",
           "showlakes": true,
           "showland": true,
           "subunitcolor": "white"
          },
          "hoverlabel": {
           "align": "left"
          },
          "hovermode": "closest",
          "mapbox": {
           "style": "light"
          },
          "paper_bgcolor": "white",
          "plot_bgcolor": "#E5ECF6",
          "polar": {
           "angularaxis": {
            "gridcolor": "white",
            "linecolor": "white",
            "ticks": ""
           },
           "bgcolor": "#E5ECF6",
           "radialaxis": {
            "gridcolor": "white",
            "linecolor": "white",
            "ticks": ""
           }
          },
          "scene": {
           "xaxis": {
            "backgroundcolor": "#E5ECF6",
            "gridcolor": "white",
            "gridwidth": 2,
            "linecolor": "white",
            "showbackground": true,
            "ticks": "",
            "zerolinecolor": "white"
           },
           "yaxis": {
            "backgroundcolor": "#E5ECF6",
            "gridcolor": "white",
            "gridwidth": 2,
            "linecolor": "white",
            "showbackground": true,
            "ticks": "",
            "zerolinecolor": "white"
           },
           "zaxis": {
            "backgroundcolor": "#E5ECF6",
            "gridcolor": "white",
            "gridwidth": 2,
            "linecolor": "white",
            "showbackground": true,
            "ticks": "",
            "zerolinecolor": "white"
           }
          },
          "shapedefaults": {
           "line": {
            "color": "#2a3f5f"
           }
          },
          "ternary": {
           "aaxis": {
            "gridcolor": "white",
            "linecolor": "white",
            "ticks": ""
           },
           "baxis": {
            "gridcolor": "white",
            "linecolor": "white",
            "ticks": ""
           },
           "bgcolor": "#E5ECF6",
           "caxis": {
            "gridcolor": "white",
            "linecolor": "white",
            "ticks": ""
           }
          },
          "title": {
           "x": 0.05
          },
          "xaxis": {
           "automargin": true,
           "gridcolor": "white",
           "linecolor": "white",
           "ticks": "",
           "title": {
            "standoff": 15
           },
           "zerolinecolor": "white",
           "zerolinewidth": 2
          },
          "yaxis": {
           "automargin": true,
           "gridcolor": "white",
           "linecolor": "white",
           "ticks": "",
           "title": {
            "standoff": 15
           },
           "zerolinecolor": "white",
           "zerolinewidth": 2
          }
         }
        },
        "title": {
         "text": "Heatmap of Top 10 Product Descriptions by Yearly Average Value (Since 2010)",
         "x": 0.5
        },
        "updatemenus": [
         {
          "buttons": [
           {
            "args": [
             {
              "z": [
               [
                [
                 347025229.5719844,
                 421975743.1906615,
                 432399100.3891051,
                 461220792.21789885,
                 533562368.0933852,
                 370566854.8638132,
                 309464319.84435797,
                 408629359.5330739,
                 483609088.7159533,
                 487919434.24124515,
                 347498274.7081712,
                 564172570.0389105,
                 892729886.7704281,
                 732776491.4396887,
                 759433347.4708171
                ],
                [
                 215130204.28015563,
                 223454017.89883268,
                 257850839.29961088,
                 256653566.53696498,
                 281131624.9027237,
                 326898886.770428,
                 357214196.1089494,
                 338496220.23346305,
                 325603999.6108949,
                 333477032.29571986,
                 256392224.90272373,
                 237662375.48638132,
                 273809568.8715953,
                 352685684.4357977,
                 329958074.7081712
                ],
                [
                 189021682.87937742,
                 222105830.35019454,
                 199131416.73151752,
                 200032261.47859922,
                 214640678.21011674,
                 214246015.9533074,
                 209984882.10116732,
                 231079230.35019454,
                 238193591.82879376,
                 239663476.26459143,
                 234983705.4474708,
                 280934459.5330739,
                 332312891.82879376,
                 336042278.98832685,
                 367262478.21011674
                ],
                [
                 151007971.9844358,
                 154411986.770428,
                 156213288.32684824,
                 166531542.0233463,
                 188742284.8249027,
                 224062876.26459143,
                 238402575.48638132,
                 223677578.5992218,
                 239444683.65758756,
                 257040944.35797665,
                 260392348.6381323,
                 292677100.7782101,
                 327276895.71984434,
                 333045427.6264591,
                 355661298.8326848
                ],
                [
                 98649495.3307393,
                 114575597.2762646,
                 125065466.53696498,
                 131978825.68093385,
                 147457143.1906615,
                 158466959.53307393,
                 156679059.53307393,
                 161371142.8015564,
                 164535682.10116732,
                 158582978.21011674,
                 180032714.7859922,
                 200527658.7548638,
                 224947569.26070037,
                 239827028.40466926,
                 229784673.15175098
                ],
                [
                 116265418.28793775,
                 119075696.49805447,
                 118568756.80933852,
                 131165157.9766537,
                 143146131.90661478,
                 156116298.44357976,
                 164582392.6070039,
                 170999631.51750973,
                 182980333.85214007,
                 163658761.08949417,
                 164001432.6848249,
                 213794174.70817122,
                 222540389.49416342,
                 186547986.770428,
                 191044072.7626459
                ],
                [
                 108555410.11673152,
                 126264722.95719844,
                 117866140.85603113,
                 124284976.65369649,
                 128446912.06225681,
                 124190263.81322958,
                 118014712.45136186,
                 124681036.96498054,
                 133432851.75097276,
                 130170903.89105058,
                 116310237.74319066,
                 151226152.52918288,
                 174983798.0544747,
                 165791504.28015563,
                 166210889.88326848
                ],
                [
                 90210646.30350195,
                 101056328.40466926,
                 105340754.86381324,
                 105198028.40466926,
                 114119891.05058366,
                 125528589.49416342,
                 121772183.26848249,
                 130990060.7003891,
                 138861564.98054475,
                 145397319.06614786,
                 124504113.22957198,
                 134017255.64202334,
                 162761280.15564203,
                 183941366.14785993,
                 180252914.39688715
                ],
                [
                 78197486.77042802,
                 80101309.3385214,
                 79291568.87159534,
                 77493400.77821012,
                 82651403.50194553,
                 92884299.22178988,
                 94382469.26070039,
                 94617721.78988327,
                 98078987.93774319,
                 99295877.04280156,
                 87146193.77431907,
                 92718786.38132295,
                 108874961.47859922,
                 118501623.34630351,
                 123713573.92996109
                ],
                [
                 58251546.692607,
                 75576892.99610895,
                 70813505.44747081,
                 68289327.23735408,
                 71340672.37354086,
                 73431043.57976654,
                 62102784.43579767,
                 70314653.307393,
                 81230397.2762646,
                 85178519.06614786,
                 86711482.10116732,
                 107216275.48638132,
                 140815763.81322956,
                 119922109.3385214,
                 104994108.56031129
                ]
               ]
              ]
             }
            ],
            "label": "Export",
            "method": "update"
           },
           {
            "args": [
             {
              "z": [
               [
                [
                 309413297.2762646,
                 319474522.95719844,
                 333089725.2918288,
                 350295925.68093383,
                 383935281.71206224,
                 425993368.0933852,
                 432661970.0389105,
                 443910041.6342412,
                 464722261.47859925,
                 481562873.151751,
                 487293726.459144,
                 522764629.1828794,
                 601849016.3424125,
                 581664934.2412452,
                 602300204.6692607
                ],
                [
                 283468589.49416345,
                 293980789.1050584,
                 328407066.92607003,
                 337666468.4824903,
                 360500900,
                 401241756.0311284,
                 426503611.2840467,
                 446296357.9766537,
                 448161816.3424125,
                 454550371.5953307,
                 349156384.8249027,
                 385528243.5797665,
                 472126207.78210115,
                 552643693.774319,
                 547307146.692607
                ],
                [
                 208563857.58754864,
                 224764978.21011674,
                 226896669.26070037,
                 231563845.52529183,
                 239956192.99610895,
                 257736400.7782101,
                 256414027.2373541,
                 267659814.39688715,
                 281130733.85214007,
                 284772557.9766537,
                 268701990.27237356,
                 293890795.3307393,
                 335038478.98832685,
                 336724048.6381323,
                 340565576.6536965
                ],
                [
                 160892505.83657587,
                 187715889.49416342,
                 200122826.84824902,
                 200805825.29182878,
                 223586735.79766536,
                 237664156.0311284,
                 232108948.24902725,
                 240132908.94941634,
                 261184625.68093386,
                 264501224.90272373,
                 231121442.8015564,
                 263549919.06614786,
                 323479572.3735409,
                 351015471.5953307,
                 340390254.4747082
                ],
                [
                 109204324.51361868,
                 127464749.02723736,
                 135161536.18677044,
                 144555460.31128404,
                 158905066.92607003,
                 157088961.08949417,
                 154773571.59533074,
                 168169477.4319066,
                 185035162.6459144,
                 175907985.9922179,
                 160629869.26070037,
                 202255598.83268481,
                 259936229.1828794,
                 232810847.47081712,
                 233699329.1828794
                ],
                [
                 130945714.0077821,
                 156225211.28404668,
                 151980436.5758755,
                 138122050.5836576,
                 154864247.85992217,
                 156640833.07392997,
                 145427873.15175098,
                 153020977.4319066,
                 156466410.89494163,
                 148720882.10116732,
                 156175149.02723736,
                 206520084.0466926,
                 236373559.53307393,
                 229646256.42023346,
                 219924611.67315176
                ],
                [
                 151261200.38910505,
                 193445215.1750973,
                 181577728.7937743,
                 179996708.94941634,
                 178443667.70428017,
                 127510419.45525292,
                 109364829.96108949,
                 127668591.05058366,
                 151541678.21011674,
                 145996678.98832685,
                 88587879.76653697,
                 121595438.91050583,
                 192934294.5525292,
                 170121526.84824902,
                 148786261.47859922
                ],
                [
                 69023346.692607,
                 71968590.27237354,
                 77511461.86770429,
                 80910348.63813229,
                 87735547.47081712,
                 95540363.42412451,
                 94662299.22178988,
                 98118749.41634241,
                 103756880.15564202,
                 103985804.28015564,
                 100688704.28015564,
                 116843313.61867705,
                 137260197.27626458,
                 129812560.7003891,
                 134871907.00389105
                ],
                [
                 49445362.25680934,
                 54284327.237354085,
                 55129105.83657587,
                 58931535.019455254,
                 66966639.2996109,
                 73041080.54474708,
                 76310874.31906615,
                 77304810.50583658,
                 80419627.62645914,
                 84058145.13618676,
                 84711436.18677042,
                 93748082.10116732,
                 110335316.34241246,
                 111006677.04280156,
                 122956957.19844358
                ],
                [
                 47161533.46303502,
                 50684821.01167315,
                 49610227.626459144,
                 57804676.6536965,
                 66061608.56031129,
                 82993373.54085603,
                 73012209.72762646,
                 81156415.17509727,
                 92824134.63035019,
                 103493942.41245136,
                 78099123.34630351,
                 77063785.21400778,
                 92378080.93385214,
                 102527373.92996109,
                 106010787.93774319
                ]
               ]
              ]
             }
            ],
            "label": "Import",
            "method": "update"
           }
          ],
          "direction": "down",
          "showactive": true,
          "x": -1,
          "xanchor": "left",
          "y": 1,
          "yanchor": "top"
         }
        ],
        "xaxis": {
         "anchor": "y",
         "constrain": "domain",
         "domain": [
          0,
          1
         ],
         "scaleanchor": "y",
         "title": {
          "text": ""
         }
        },
        "yaxis": {
         "anchor": "x",
         "autorange": "reversed",
         "constrain": "domain",
         "domain": [
          0,
          1
         ],
         "title": {
          "text": ""
         }
        }
       }
      }
     },
     "metadata": {},
     "output_type": "display_data"
    }
   ],
   "source": [
    "# Function to update the heatmap based on the selected trade type\n",
    "def update_heatmap(trade_type):\n",
    "    # Filter data to include only the last 10 years and exclude \"Total of all merchandise\"\n",
    "    recent_data_description = dfc_clean[\n",
    "        (dfc_clean[\"Year\"] >= 2010) & (dfc_clean[\"Trade\"] == trade_type)\n",
    "    ]\n",
    "\n",
    "    # Group by 'Description' and 'Year' and calculate the average 'Value'\n",
    "    description_yearly_avg = recent_data_description.groupby(\n",
    "        [\"Description\", \"Year\"], as_index=False\n",
    "    )[\"Value\"].mean()\n",
    "\n",
    "    # Define the top 10 descriptions\n",
    "    top_10_descriptions = description_yearly_avg.groupby(\"Description\")[\"Value\"].mean().nlargest(10).index\n",
    "\n",
    "    # Filter the data to include only the top 10 product descriptions since 2010\n",
    "    top_10_data = description_yearly_avg[\n",
    "        (description_yearly_avg[\"Description\"].isin(top_10_descriptions))\n",
    "    ]\n",
    "\n",
    "    # Create a pivot table for the heatmap\n",
    "    heatmap_data = top_10_data.pivot(index=\"Description\", columns=\"Year\", values=\"Value\")\n",
    "\n",
    "    # Sort the heatmap data by the average value in descending order\n",
    "    heatmap_data_sorted = heatmap_data.loc[\n",
    "        heatmap_data.mean(axis=1).sort_values(ascending=False).index\n",
    "    ]\n",
    "\n",
    "    return heatmap_data_sorted\n",
    "\n",
    "# Create heatmaps for both Export and Import\n",
    "export_heatmap_data = update_heatmap('Export')\n",
    "import_heatmap_data = update_heatmap('Import')\n",
    "\n",
    "fig_heatmap = px.imshow(\n",
    "    export_heatmap_data,\n",
    "    labels=dict(x=\"Year\", y=\"Product Description\", color=\"Average Value\"),\n",
    "    color_continuous_scale=\"Magma_r\",\n",
    ")\n",
    "\n",
    "# Update hover template and layout\n",
    "fig_heatmap.update_traces(\n",
    "    hovertemplate=\"%{x}<br>%{y}<br>Yearly Avg Value: $%{z:,.2f}<extra></extra>\"\n",
    ")\n",
    "fig_heatmap.update_layout(\n",
    "    title=\"Heatmap of Top 10 Product Descriptions by Yearly Average Value (Since 2010)\",\n",
    "    title_x=0.5,\n",
    "    xaxis_title=\"\",\n",
    "    yaxis_title=\"\",\n",
    "    updatemenus=[\n",
    "        {\n",
    "            \"buttons\": [\n",
    "                {\n",
    "                    \"args\": [{\"z\": [export_heatmap_data.values]}],\n",
    "                    \"label\": \"Export\",\n",
    "                    \"method\": \"update\",\n",
    "                },\n",
    "                {\n",
    "                    \"args\": [{\"z\": [import_heatmap_data.values]}],\n",
    "                    \"label\": \"Import\",\n",
    "                    \"method\": \"update\",\n",
    "                },\n",
    "            ],\n",
    "            \"direction\": \"down\",\n",
    "            \"showactive\": True,\n",
    "            \"x\": -1,  # Adjust the x position to move the dropdown more to the left\n",
    "            \"xanchor\": \"left\",\n",
    "            \"y\": 1,  # Adjust the y position to move the dropdown outside the plot area\n",
    "            \"yanchor\": \"top\",\n",
    "        }\n",
    "    ]\n",
    ")\n",
    "\n",
    "fig_heatmap.show()\n"
   ]
  }
 ],
 "metadata": {
  "kernelspec": {
   "display_name": "venv",
   "language": "python",
   "name": "python3"
  },
  "language_info": {
   "codemirror_mode": {
    "name": "ipython",
    "version": 3
   },
   "file_extension": ".py",
   "mimetype": "text/x-python",
   "name": "python",
   "nbconvert_exporter": "python",
   "pygments_lexer": "ipython3",
   "version": "3.12.5"
  }
 },
 "nbformat": 4,
 "nbformat_minor": 5
}
